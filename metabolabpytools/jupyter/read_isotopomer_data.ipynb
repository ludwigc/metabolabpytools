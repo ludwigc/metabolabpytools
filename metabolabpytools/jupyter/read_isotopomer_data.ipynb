{
 "cells": [
  {
   "cell_type": "markdown",
   "id": "fb13c981",
   "metadata": {},
   "source": [
    "### Isotopomer analysis\n",
    "Import necessary packages"
   ]
  },
  {
   "cell_type": "code",
   "execution_count": 1,
   "id": "82f0ff14",
   "metadata": {
    "ExecuteTime": {
     "end_time": "2024-07-23T11:39:43.799296Z",
     "start_time": "2024-07-23T11:39:27.629630Z"
    }
   },
   "outputs": [],
   "source": [
    "from metabolabpytools import isotopomerAnalysis\n",
    "import os"
   ]
  },
  {
   "cell_type": "markdown",
   "id": "24f7ffdc",
   "metadata": {},
   "source": [
    "Create an isotopomerAnalysis object"
   ]
  },
  {
   "cell_type": "code",
   "execution_count": 2,
   "id": "9228f2e5",
   "metadata": {},
   "outputs": [],
   "source": [
    "ia = isotopomerAnalysis.IsotopomerAnalysis()"
   ]
  },
  {
   "cell_type": "markdown",
   "id": "6feda906",
   "metadata": {},
   "source": [
    "Load HSQC multiplet, GC-MS and per carbon 13C percentages data"
   ]
  },
  {
   "cell_type": "code",
   "execution_count": 5,
   "id": "346441bd",
   "metadata": {},
   "outputs": [],
   "source": [
    "hsqc_data_file = os.path.join(os.getcwd(), 'hsqcData.xlsx')\n",
    "gcms_data_file = os.path.join(os.getcwd(), 'gcmsData.xlsx')\n",
    "nmr1d_data_file = os.path.join(os.getcwd(), 'nmr1dData.xlsx')\n",
    "ia.read_hsqc_multiplets(hsqc_data_file)\n",
    "ia.read_gcms_data(gcms_data_file)\n",
    "ia.read_nmr1d_data(nmr1d_data_file)"
   ]
  },
  {
   "cell_type": "markdown",
   "id": "42de67cc",
   "metadata": {},
   "source": [
    "Print the list of metabolites and number of experiments"
   ]
  },
  {
   "cell_type": "code",
   "execution_count": 6,
   "id": "cbe0f3e1",
   "metadata": {},
   "outputs": [
    {
     "name": "stdout",
     "output_type": "stream",
     "text": [
      "# experiments: 3, metabolites: ['L-Alanine', 'L-AsparticAcid', 'L-GlutamicAcid', 'L-LacticAcid', 'PyruvicAcid(Enol)']\n"
     ]
    }
   ],
   "source": [
    "print(f'# experiments: {ia.n_exps}, metabolites: {ia.metabolites}')"
   ]
  },
  {
   "cell_type": "markdown",
   "id": "cda9e969",
   "metadata": {},
   "source": [
    "Define isotopomers to be fitted"
   ]
  },
  {
   "cell_type": "code",
   "execution_count": 18,
   "id": "ad47e15a",
   "metadata": {},
   "outputs": [],
   "source": [
    "isotopomers = {}\n",
    "isotopomers['L-LacticAcid'] = [[0, 0, 1], [0, 1, 1]]\n",
    "isotopomers['L-Alanine'] = [[0, 0, 1], [0, 1, 1]]"
   ]
  },
  {
   "cell_type": "markdown",
   "id": "206f837c",
   "metadata": {},
   "source": [
    "Define which data to use during isotopomer analysis"
   ]
  },
  {
   "cell_type": "code",
   "execution_count": 19,
   "id": "752fc103",
   "metadata": {},
   "outputs": [],
   "source": [
    "ia.use_hsqc_multiplet_data = True\n",
    "ia.use_gcms_data = True\n",
    "ia.use_nmr1d_data = False"
   ]
  },
  {
   "cell_type": "markdown",
   "id": "68b352a4",
   "metadata": {},
   "source": [
    "loop through all metabolites & all experiments and fit isotopomer data"
   ]
  },
  {
   "cell_type": "code",
   "execution_count": 20,
   "id": "23329eae",
   "metadata": {},
   "outputs": [
    {
     "name": "stdout",
     "output_type": "stream",
     "text": [
      "Fitting all experiments for L-Alanine...\n",
      "Length of percentages vector does not match number of isotopomers\n",
      "Usage:\n",
      "self.set_fit_isotopomers_simple(metabolite=\"L-LacticAcid\", isotopomers=[[0, 0, 1], [0, 1, 1]], percentages=[3, 5]\n"
     ]
    },
    {
     "ename": "IndexError",
     "evalue": "pop from empty list",
     "output_type": "error",
     "traceback": [
      "\u001B[1;31m---------------------------------------------------------------------------\u001B[0m",
      "\u001B[1;31mIndexError\u001B[0m                                Traceback (most recent call last)",
      "Cell \u001B[1;32mIn[20], line 3\u001B[0m\n\u001B[0;32m      1\u001B[0m \u001B[38;5;28;01mfor\u001B[39;00m k \u001B[38;5;129;01min\u001B[39;00m \u001B[38;5;28mrange\u001B[39m(\u001B[38;5;28mlen\u001B[39m(ia\u001B[38;5;241m.\u001B[39mmetabolites)):\n\u001B[0;32m      2\u001B[0m         \u001B[38;5;28;01mif\u001B[39;00m ia\u001B[38;5;241m.\u001B[39mmetabolites[k] \u001B[38;5;129;01min\u001B[39;00m isotopomers\u001B[38;5;241m.\u001B[39mkeys():\n\u001B[1;32m----> 3\u001B[0m                 \u001B[43mia\u001B[49m\u001B[38;5;241;43m.\u001B[39;49m\u001B[43mfit_all_exps\u001B[49m\u001B[43m(\u001B[49m\u001B[43mmetabolite\u001B[49m\u001B[38;5;241;43m=\u001B[39;49m\u001B[43mia\u001B[49m\u001B[38;5;241;43m.\u001B[39;49m\u001B[43mmetabolites\u001B[49m\u001B[43m[\u001B[49m\u001B[43mk\u001B[49m\u001B[43m]\u001B[49m\u001B[43m,\u001B[49m\u001B[43m \u001B[49m\u001B[43mfit_isotopomers\u001B[49m\u001B[38;5;241;43m=\u001B[39;49m\u001B[43misotopomers\u001B[49m\u001B[43m[\u001B[49m\u001B[43mia\u001B[49m\u001B[38;5;241;43m.\u001B[39;49m\u001B[43mmetabolites\u001B[49m\u001B[43m[\u001B[49m\u001B[43mk\u001B[49m\u001B[43m]\u001B[49m\u001B[43m]\u001B[49m\u001B[43m)\u001B[49m\n\u001B[0;32m      4\u001B[0m         \u001B[38;5;28;01melse\u001B[39;00m:\n\u001B[0;32m      5\u001B[0m                 \u001B[38;5;28mprint\u001B[39m(\u001B[38;5;124mf\u001B[39m\u001B[38;5;124m'\u001B[39m\u001B[38;5;132;01m{\u001B[39;00mia\u001B[38;5;241m.\u001B[39mmetabolites[k]\u001B[38;5;132;01m}\u001B[39;00m\u001B[38;5;124m not in isotopomers list\u001B[39m\u001B[38;5;124m'\u001B[39m)\n",
      "File \u001B[1;32m~\\metabolabpytools\\metabolabpytools\\isotopomerAnalysis.py:179\u001B[0m, in \u001B[0;36mIsotopomerAnalysis.fit_all_exps\u001B[1;34m(self, metabolite, fit_isotopomers)\u001B[0m\n\u001B[0;32m    177\u001B[0m \u001B[38;5;28mprint\u001B[39m(\u001B[38;5;124mf\u001B[39m\u001B[38;5;124m'\u001B[39m\u001B[38;5;124mFitting all experiments for \u001B[39m\u001B[38;5;132;01m{\u001B[39;00mmetabolite\u001B[38;5;132;01m}\u001B[39;00m\u001B[38;5;124m...\u001B[39m\u001B[38;5;124m'\u001B[39m)\n\u001B[0;32m    178\u001B[0m \u001B[38;5;28;01mfor\u001B[39;00m k \u001B[38;5;129;01min\u001B[39;00m \u001B[38;5;28mrange\u001B[39m(\u001B[38;5;28mself\u001B[39m\u001B[38;5;241m.\u001B[39mn_exps):\n\u001B[1;32m--> 179\u001B[0m     \u001B[38;5;28;43mself\u001B[39;49m\u001B[38;5;241;43m.\u001B[39;49m\u001B[43mfit_data\u001B[49m\u001B[43m(\u001B[49m\u001B[43mexp_index\u001B[49m\u001B[38;5;241;43m=\u001B[39;49m\u001B[43mk\u001B[49m\u001B[43m,\u001B[49m\u001B[43m \u001B[49m\u001B[43mmetabolite\u001B[49m\u001B[38;5;241;43m=\u001B[39;49m\u001B[43mmetabolite\u001B[49m\u001B[43m,\u001B[49m\u001B[43m \u001B[49m\u001B[43mfit_isotopomers\u001B[49m\u001B[38;5;241;43m=\u001B[39;49m\u001B[43mfit_isotopomers\u001B[49m\u001B[43m)\u001B[49m\n",
      "File \u001B[1;32m~\\metabolabpytools\\metabolabpytools\\isotopomerAnalysis.py:149\u001B[0m, in \u001B[0;36mIsotopomerAnalysis.fit_data\u001B[1;34m(self, exp_index, metabolite, fit_isotopomers)\u001B[0m\n\u001B[0;32m    147\u001B[0m fit_parameters \u001B[38;5;241m=\u001B[39m \u001B[38;5;28mlist\u001B[39m(fit_parameters)\n\u001B[0;32m    148\u001B[0m \u001B[38;5;28mself\u001B[39m\u001B[38;5;241m.\u001B[39mset_fit_isotopomers_simple(metabolite\u001B[38;5;241m=\u001B[39mmetabolite, isotopomers\u001B[38;5;241m=\u001B[39mfit_isotopomers, percentages\u001B[38;5;241m=\u001B[39mfit_parameters)\n\u001B[1;32m--> 149\u001B[0m eval_parameters \u001B[38;5;241m=\u001B[39m \u001B[43moptimize\u001B[49m\u001B[38;5;241;43m.\u001B[39;49m\u001B[43mminimize\u001B[49m\u001B[43m(\u001B[49m\u001B[38;5;28;43mself\u001B[39;49m\u001B[38;5;241;43m.\u001B[39;49m\u001B[43mfct_data\u001B[49m\u001B[43m,\u001B[49m\u001B[43m \u001B[49m\u001B[43mfit_parameters\u001B[49m\u001B[43m,\u001B[49m\u001B[43m \u001B[49m\u001B[43mmethod\u001B[49m\u001B[38;5;241;43m=\u001B[39;49m\u001B[38;5;124;43m'\u001B[39;49m\u001B[38;5;124;43mPowell\u001B[39;49m\u001B[38;5;124;43m'\u001B[39;49m\u001B[43m)\u001B[49m\n\u001B[0;32m    150\u001B[0m e_pars \u001B[38;5;241m=\u001B[39m np\u001B[38;5;241m.\u001B[39marray(eval_parameters\u001B[38;5;241m.\u001B[39mx)\u001B[38;5;241m.\u001B[39mtolist()\n\u001B[0;32m    151\u001B[0m \u001B[38;5;66;03m#self.fct_data(e_pars)\u001B[39;00m\n",
      "File \u001B[1;32m~\\metabolabpytools\\venv\\Lib\\site-packages\\scipy\\optimize\\_minimize.py:704\u001B[0m, in \u001B[0;36mminimize\u001B[1;34m(fun, x0, args, method, jac, hess, hessp, bounds, constraints, tol, callback, options)\u001B[0m\n\u001B[0;32m    701\u001B[0m     res \u001B[38;5;241m=\u001B[39m _minimize_neldermead(fun, x0, args, callback, bounds\u001B[38;5;241m=\u001B[39mbounds,\n\u001B[0;32m    702\u001B[0m                                \u001B[38;5;241m*\u001B[39m\u001B[38;5;241m*\u001B[39moptions)\n\u001B[0;32m    703\u001B[0m \u001B[38;5;28;01melif\u001B[39;00m meth \u001B[38;5;241m==\u001B[39m \u001B[38;5;124m'\u001B[39m\u001B[38;5;124mpowell\u001B[39m\u001B[38;5;124m'\u001B[39m:\n\u001B[1;32m--> 704\u001B[0m     res \u001B[38;5;241m=\u001B[39m \u001B[43m_minimize_powell\u001B[49m\u001B[43m(\u001B[49m\u001B[43mfun\u001B[49m\u001B[43m,\u001B[49m\u001B[43m \u001B[49m\u001B[43mx0\u001B[49m\u001B[43m,\u001B[49m\u001B[43m \u001B[49m\u001B[43margs\u001B[49m\u001B[43m,\u001B[49m\u001B[43m \u001B[49m\u001B[43mcallback\u001B[49m\u001B[43m,\u001B[49m\u001B[43m \u001B[49m\u001B[43mbounds\u001B[49m\u001B[43m,\u001B[49m\u001B[43m \u001B[49m\u001B[38;5;241;43m*\u001B[39;49m\u001B[38;5;241;43m*\u001B[39;49m\u001B[43moptions\u001B[49m\u001B[43m)\u001B[49m\n\u001B[0;32m    705\u001B[0m \u001B[38;5;28;01melif\u001B[39;00m meth \u001B[38;5;241m==\u001B[39m \u001B[38;5;124m'\u001B[39m\u001B[38;5;124mcg\u001B[39m\u001B[38;5;124m'\u001B[39m:\n\u001B[0;32m    706\u001B[0m     res \u001B[38;5;241m=\u001B[39m _minimize_cg(fun, x0, args, jac, callback, \u001B[38;5;241m*\u001B[39m\u001B[38;5;241m*\u001B[39moptions)\n",
      "File \u001B[1;32m~\\metabolabpytools\\venv\\Lib\\site-packages\\scipy\\optimize\\_optimize.py:3491\u001B[0m, in \u001B[0;36m_minimize_powell\u001B[1;34m(func, x0, args, callback, bounds, xtol, ftol, maxiter, maxfev, disp, direc, return_all, **unknown_options)\u001B[0m\n\u001B[0;32m   3489\u001B[0m direc1 \u001B[38;5;241m=\u001B[39m direc[i]\n\u001B[0;32m   3490\u001B[0m fx2 \u001B[38;5;241m=\u001B[39m fval\n\u001B[1;32m-> 3491\u001B[0m fval, x, direc1 \u001B[38;5;241m=\u001B[39m \u001B[43m_linesearch_powell\u001B[49m\u001B[43m(\u001B[49m\u001B[43mfunc\u001B[49m\u001B[43m,\u001B[49m\u001B[43m \u001B[49m\u001B[43mx\u001B[49m\u001B[43m,\u001B[49m\u001B[43m \u001B[49m\u001B[43mdirec1\u001B[49m\u001B[43m,\u001B[49m\n\u001B[0;32m   3492\u001B[0m \u001B[43m                                     \u001B[49m\u001B[43mtol\u001B[49m\u001B[38;5;241;43m=\u001B[39;49m\u001B[43mxtol\u001B[49m\u001B[43m \u001B[49m\u001B[38;5;241;43m*\u001B[39;49m\u001B[43m \u001B[49m\u001B[38;5;241;43m100\u001B[39;49m\u001B[43m,\u001B[49m\n\u001B[0;32m   3493\u001B[0m \u001B[43m                                     \u001B[49m\u001B[43mlower_bound\u001B[49m\u001B[38;5;241;43m=\u001B[39;49m\u001B[43mlower_bound\u001B[49m\u001B[43m,\u001B[49m\n\u001B[0;32m   3494\u001B[0m \u001B[43m                                     \u001B[49m\u001B[43mupper_bound\u001B[49m\u001B[38;5;241;43m=\u001B[39;49m\u001B[43mupper_bound\u001B[49m\u001B[43m,\u001B[49m\n\u001B[0;32m   3495\u001B[0m \u001B[43m                                     \u001B[49m\u001B[43mfval\u001B[49m\u001B[38;5;241;43m=\u001B[39;49m\u001B[43mfval\u001B[49m\u001B[43m)\u001B[49m\n\u001B[0;32m   3496\u001B[0m \u001B[38;5;28;01mif\u001B[39;00m (fx2 \u001B[38;5;241m-\u001B[39m fval) \u001B[38;5;241m>\u001B[39m delta:\n\u001B[0;32m   3497\u001B[0m     delta \u001B[38;5;241m=\u001B[39m fx2 \u001B[38;5;241m-\u001B[39m fval\n",
      "File \u001B[1;32m~\\metabolabpytools\\venv\\Lib\\site-packages\\scipy\\optimize\\_optimize.py:3167\u001B[0m, in \u001B[0;36m_linesearch_powell\u001B[1;34m(func, p, xi, tol, lower_bound, upper_bound, fval)\u001B[0m\n\u001B[0;32m   3164\u001B[0m     \u001B[38;5;28;01mreturn\u001B[39;00m ((fval, p, xi) \u001B[38;5;28;01mif\u001B[39;00m fval \u001B[38;5;129;01mis\u001B[39;00m \u001B[38;5;129;01mnot\u001B[39;00m \u001B[38;5;28;01mNone\u001B[39;00m \u001B[38;5;28;01melse\u001B[39;00m (func(p), p, xi))\n\u001B[0;32m   3165\u001B[0m \u001B[38;5;28;01melif\u001B[39;00m lower_bound \u001B[38;5;129;01mis\u001B[39;00m \u001B[38;5;28;01mNone\u001B[39;00m \u001B[38;5;129;01mand\u001B[39;00m upper_bound \u001B[38;5;129;01mis\u001B[39;00m \u001B[38;5;28;01mNone\u001B[39;00m:\n\u001B[0;32m   3166\u001B[0m     \u001B[38;5;66;03m# non-bounded minimization\u001B[39;00m\n\u001B[1;32m-> 3167\u001B[0m     res \u001B[38;5;241m=\u001B[39m \u001B[43m_recover_from_bracket_error\u001B[49m\u001B[43m(\u001B[49m\u001B[43m_minimize_scalar_brent\u001B[49m\u001B[43m,\u001B[49m\n\u001B[0;32m   3168\u001B[0m \u001B[43m                                      \u001B[49m\u001B[43mmyfunc\u001B[49m\u001B[43m,\u001B[49m\u001B[43m \u001B[49m\u001B[38;5;28;43;01mNone\u001B[39;49;00m\u001B[43m,\u001B[49m\u001B[43m \u001B[49m\u001B[38;5;28;43mtuple\u001B[39;49m\u001B[43m(\u001B[49m\u001B[43m)\u001B[49m\u001B[43m,\u001B[49m\u001B[43m \u001B[49m\u001B[43mxtol\u001B[49m\u001B[38;5;241;43m=\u001B[39;49m\u001B[43mtol\u001B[49m\u001B[43m)\u001B[49m\n\u001B[0;32m   3169\u001B[0m     alpha_min, fret \u001B[38;5;241m=\u001B[39m res\u001B[38;5;241m.\u001B[39mx, res\u001B[38;5;241m.\u001B[39mfun\n\u001B[0;32m   3170\u001B[0m     xi \u001B[38;5;241m=\u001B[39m alpha_min \u001B[38;5;241m*\u001B[39m xi\n",
      "File \u001B[1;32m~\\metabolabpytools\\venv\\Lib\\site-packages\\scipy\\optimize\\_optimize.py:3060\u001B[0m, in \u001B[0;36m_recover_from_bracket_error\u001B[1;34m(solver, fun, bracket, args, **options)\u001B[0m\n\u001B[0;32m   3041\u001B[0m \u001B[38;5;28;01mdef\u001B[39;00m \u001B[38;5;21m_recover_from_bracket_error\u001B[39m(solver, fun, bracket, args, \u001B[38;5;241m*\u001B[39m\u001B[38;5;241m*\u001B[39moptions):\n\u001B[0;32m   3042\u001B[0m     \u001B[38;5;66;03m# `bracket` was originally written without checking whether the resulting\u001B[39;00m\n\u001B[0;32m   3043\u001B[0m     \u001B[38;5;66;03m# bracket is valid. `brent` and `golden` built on top of it without\u001B[39;00m\n\u001B[1;32m   (...)\u001B[0m\n\u001B[0;32m   3057\u001B[0m     \u001B[38;5;66;03m# storing the information needed by `minimize_scalar` in the error object,\u001B[39;00m\n\u001B[0;32m   3058\u001B[0m     \u001B[38;5;66;03m# and intercepting it here.\u001B[39;00m\n\u001B[0;32m   3059\u001B[0m     \u001B[38;5;28;01mtry\u001B[39;00m:\n\u001B[1;32m-> 3060\u001B[0m         res \u001B[38;5;241m=\u001B[39m \u001B[43msolver\u001B[49m\u001B[43m(\u001B[49m\u001B[43mfun\u001B[49m\u001B[43m,\u001B[49m\u001B[43m \u001B[49m\u001B[43mbracket\u001B[49m\u001B[43m,\u001B[49m\u001B[43m \u001B[49m\u001B[43margs\u001B[49m\u001B[43m,\u001B[49m\u001B[43m \u001B[49m\u001B[38;5;241;43m*\u001B[39;49m\u001B[38;5;241;43m*\u001B[39;49m\u001B[43moptions\u001B[49m\u001B[43m)\u001B[49m\n\u001B[0;32m   3061\u001B[0m     \u001B[38;5;28;01mexcept\u001B[39;00m BracketError \u001B[38;5;28;01mas\u001B[39;00m e:\n\u001B[0;32m   3062\u001B[0m         msg \u001B[38;5;241m=\u001B[39m \u001B[38;5;28mstr\u001B[39m(e)\n",
      "File \u001B[1;32m~\\metabolabpytools\\venv\\Lib\\site-packages\\scipy\\optimize\\_optimize.py:2663\u001B[0m, in \u001B[0;36m_minimize_scalar_brent\u001B[1;34m(func, brack, args, xtol, maxiter, disp, **unknown_options)\u001B[0m\n\u001B[0;32m   2660\u001B[0m brent \u001B[38;5;241m=\u001B[39m Brent(func\u001B[38;5;241m=\u001B[39mfunc, args\u001B[38;5;241m=\u001B[39margs, tol\u001B[38;5;241m=\u001B[39mtol,\n\u001B[0;32m   2661\u001B[0m               full_output\u001B[38;5;241m=\u001B[39m\u001B[38;5;28;01mTrue\u001B[39;00m, maxiter\u001B[38;5;241m=\u001B[39mmaxiter, disp\u001B[38;5;241m=\u001B[39mdisp)\n\u001B[0;32m   2662\u001B[0m brent\u001B[38;5;241m.\u001B[39mset_bracket(brack)\n\u001B[1;32m-> 2663\u001B[0m \u001B[43mbrent\u001B[49m\u001B[38;5;241;43m.\u001B[39;49m\u001B[43moptimize\u001B[49m\u001B[43m(\u001B[49m\u001B[43m)\u001B[49m\n\u001B[0;32m   2664\u001B[0m x, fval, nit, nfev \u001B[38;5;241m=\u001B[39m brent\u001B[38;5;241m.\u001B[39mget_result(full_output\u001B[38;5;241m=\u001B[39m\u001B[38;5;28;01mTrue\u001B[39;00m)\n\u001B[0;32m   2666\u001B[0m success \u001B[38;5;241m=\u001B[39m nit \u001B[38;5;241m<\u001B[39m maxiter \u001B[38;5;129;01mand\u001B[39;00m \u001B[38;5;129;01mnot\u001B[39;00m (np\u001B[38;5;241m.\u001B[39misnan(x) \u001B[38;5;129;01mor\u001B[39;00m np\u001B[38;5;241m.\u001B[39misnan(fval))\n",
      "File \u001B[1;32m~\\metabolabpytools\\venv\\Lib\\site-packages\\scipy\\optimize\\_optimize.py:2433\u001B[0m, in \u001B[0;36mBrent.optimize\u001B[1;34m(self)\u001B[0m\n\u001B[0;32m   2430\u001B[0m \u001B[38;5;28;01mdef\u001B[39;00m \u001B[38;5;21moptimize\u001B[39m(\u001B[38;5;28mself\u001B[39m):\n\u001B[0;32m   2431\u001B[0m     \u001B[38;5;66;03m# set up for optimization\u001B[39;00m\n\u001B[0;32m   2432\u001B[0m     func \u001B[38;5;241m=\u001B[39m \u001B[38;5;28mself\u001B[39m\u001B[38;5;241m.\u001B[39mfunc\n\u001B[1;32m-> 2433\u001B[0m     xa, xb, xc, fa, fb, fc, funcalls \u001B[38;5;241m=\u001B[39m \u001B[38;5;28;43mself\u001B[39;49m\u001B[38;5;241;43m.\u001B[39;49m\u001B[43mget_bracket_info\u001B[49m\u001B[43m(\u001B[49m\u001B[43m)\u001B[49m\n\u001B[0;32m   2434\u001B[0m     _mintol \u001B[38;5;241m=\u001B[39m \u001B[38;5;28mself\u001B[39m\u001B[38;5;241m.\u001B[39m_mintol\n\u001B[0;32m   2435\u001B[0m     _cg \u001B[38;5;241m=\u001B[39m \u001B[38;5;28mself\u001B[39m\u001B[38;5;241m.\u001B[39m_cg\n",
      "File \u001B[1;32m~\\metabolabpytools\\venv\\Lib\\site-packages\\scipy\\optimize\\_optimize.py:2400\u001B[0m, in \u001B[0;36mBrent.get_bracket_info\u001B[1;34m(self)\u001B[0m\n\u001B[0;32m   2397\u001B[0m \u001B[38;5;66;03m### BEGIN core bracket_info code ###\u001B[39;00m\n\u001B[0;32m   2398\u001B[0m \u001B[38;5;66;03m### carefully DOCUMENT any CHANGES in core ##\u001B[39;00m\n\u001B[0;32m   2399\u001B[0m \u001B[38;5;28;01mif\u001B[39;00m brack \u001B[38;5;129;01mis\u001B[39;00m \u001B[38;5;28;01mNone\u001B[39;00m:\n\u001B[1;32m-> 2400\u001B[0m     xa, xb, xc, fa, fb, fc, funcalls \u001B[38;5;241m=\u001B[39m \u001B[43mbracket\u001B[49m\u001B[43m(\u001B[49m\u001B[43mfunc\u001B[49m\u001B[43m,\u001B[49m\u001B[43m \u001B[49m\u001B[43margs\u001B[49m\u001B[38;5;241;43m=\u001B[39;49m\u001B[43margs\u001B[49m\u001B[43m)\u001B[49m\n\u001B[0;32m   2401\u001B[0m \u001B[38;5;28;01melif\u001B[39;00m \u001B[38;5;28mlen\u001B[39m(brack) \u001B[38;5;241m==\u001B[39m \u001B[38;5;241m2\u001B[39m:\n\u001B[0;32m   2402\u001B[0m     xa, xb, xc, fa, fb, fc, funcalls \u001B[38;5;241m=\u001B[39m bracket(func, xa\u001B[38;5;241m=\u001B[39mbrack[\u001B[38;5;241m0\u001B[39m],\n\u001B[0;32m   2403\u001B[0m                                                xb\u001B[38;5;241m=\u001B[39mbrack[\u001B[38;5;241m1\u001B[39m], args\u001B[38;5;241m=\u001B[39margs)\n",
      "File \u001B[1;32m~\\metabolabpytools\\venv\\Lib\\site-packages\\scipy\\optimize\\_optimize.py:2957\u001B[0m, in \u001B[0;36mbracket\u001B[1;34m(func, xa, xb, args, grow_limit, maxiter)\u001B[0m\n\u001B[0;32m   2955\u001B[0m xa, xb \u001B[38;5;241m=\u001B[39m np\u001B[38;5;241m.\u001B[39masarray([xa, xb])\n\u001B[0;32m   2956\u001B[0m fa \u001B[38;5;241m=\u001B[39m func(\u001B[38;5;241m*\u001B[39m(xa,) \u001B[38;5;241m+\u001B[39m args)\n\u001B[1;32m-> 2957\u001B[0m fb \u001B[38;5;241m=\u001B[39m \u001B[43mfunc\u001B[49m\u001B[43m(\u001B[49m\u001B[38;5;241;43m*\u001B[39;49m\u001B[43m(\u001B[49m\u001B[43mxb\u001B[49m\u001B[43m,\u001B[49m\u001B[43m)\u001B[49m\u001B[43m \u001B[49m\u001B[38;5;241;43m+\u001B[39;49m\u001B[43m \u001B[49m\u001B[43margs\u001B[49m\u001B[43m)\u001B[49m\n\u001B[0;32m   2958\u001B[0m \u001B[38;5;28;01mif\u001B[39;00m (fa \u001B[38;5;241m<\u001B[39m fb):                      \u001B[38;5;66;03m# Switch so fa > fb\u001B[39;00m\n\u001B[0;32m   2959\u001B[0m     xa, xb \u001B[38;5;241m=\u001B[39m xb, xa\n",
      "File \u001B[1;32m~\\metabolabpytools\\venv\\Lib\\site-packages\\scipy\\optimize\\_optimize.py:3160\u001B[0m, in \u001B[0;36m_linesearch_powell.<locals>.myfunc\u001B[1;34m(alpha)\u001B[0m\n\u001B[0;32m   3159\u001B[0m \u001B[38;5;28;01mdef\u001B[39;00m \u001B[38;5;21mmyfunc\u001B[39m(alpha):\n\u001B[1;32m-> 3160\u001B[0m     \u001B[38;5;28;01mreturn\u001B[39;00m \u001B[43mfunc\u001B[49m\u001B[43m(\u001B[49m\u001B[43mp\u001B[49m\u001B[43m \u001B[49m\u001B[38;5;241;43m+\u001B[39;49m\u001B[43m \u001B[49m\u001B[43malpha\u001B[49m\u001B[38;5;241;43m*\u001B[39;49m\u001B[43mxi\u001B[49m\u001B[43m)\u001B[49m\n",
      "File \u001B[1;32m~\\metabolabpytools\\venv\\Lib\\site-packages\\scipy\\optimize\\_optimize.py:526\u001B[0m, in \u001B[0;36m_wrap_scalar_function_maxfun_validation.<locals>.function_wrapper\u001B[1;34m(x, *wrapper_args)\u001B[0m\n\u001B[0;32m    524\u001B[0m ncalls[\u001B[38;5;241m0\u001B[39m] \u001B[38;5;241m+\u001B[39m\u001B[38;5;241m=\u001B[39m \u001B[38;5;241m1\u001B[39m\n\u001B[0;32m    525\u001B[0m \u001B[38;5;66;03m# A copy of x is sent to the user function (gh13740)\u001B[39;00m\n\u001B[1;32m--> 526\u001B[0m fx \u001B[38;5;241m=\u001B[39m \u001B[43mfunction\u001B[49m\u001B[43m(\u001B[49m\u001B[43mnp\u001B[49m\u001B[38;5;241;43m.\u001B[39;49m\u001B[43mcopy\u001B[49m\u001B[43m(\u001B[49m\u001B[43mx\u001B[49m\u001B[43m)\u001B[49m\u001B[43m,\u001B[49m\u001B[43m \u001B[49m\u001B[38;5;241;43m*\u001B[39;49m\u001B[43m(\u001B[49m\u001B[43mwrapper_args\u001B[49m\u001B[43m \u001B[49m\u001B[38;5;241;43m+\u001B[39;49m\u001B[43m \u001B[49m\u001B[43margs\u001B[49m\u001B[43m)\u001B[49m\u001B[43m)\u001B[49m\n\u001B[0;32m    527\u001B[0m \u001B[38;5;66;03m# Ideally, we'd like to a have a true scalar returned from f(x). For\u001B[39;00m\n\u001B[0;32m    528\u001B[0m \u001B[38;5;66;03m# backwards-compatibility, also allow np.array([1.3]),\u001B[39;00m\n\u001B[0;32m    529\u001B[0m \u001B[38;5;66;03m# np.array([[1.3]]) etc.\u001B[39;00m\n\u001B[0;32m    530\u001B[0m \u001B[38;5;28;01mif\u001B[39;00m \u001B[38;5;129;01mnot\u001B[39;00m np\u001B[38;5;241m.\u001B[39misscalar(fx):\n",
      "File \u001B[1;32m~\\metabolabpytools\\metabolabpytools\\isotopomerAnalysis.py:117\u001B[0m, in \u001B[0;36mIsotopomerAnalysis.fct_data\u001B[1;34m(self, fit_parameters)\u001B[0m\n\u001B[0;32m    115\u001B[0m \u001B[38;5;28mself\u001B[39m\u001B[38;5;241m.\u001B[39mchi2 \u001B[38;5;241m=\u001B[39m \u001B[38;5;241m0\u001B[39m\n\u001B[0;32m    116\u001B[0m isos \u001B[38;5;241m=\u001B[39m \u001B[38;5;28mself\u001B[39m\u001B[38;5;241m.\u001B[39mfit_isotopomers[\u001B[38;5;28mself\u001B[39m\u001B[38;5;241m.\u001B[39mcurrent_metabolite]\n\u001B[1;32m--> 117\u001B[0m \u001B[43misos\u001B[49m\u001B[38;5;241;43m.\u001B[39;49m\u001B[43mpop\u001B[49m\u001B[43m(\u001B[49m\u001B[38;5;241;43m0\u001B[39;49m\u001B[43m)\u001B[49m\n\u001B[0;32m    118\u001B[0m \u001B[38;5;28mself\u001B[39m\u001B[38;5;241m.\u001B[39mset_fit_isotopomers_simple(metabolite\u001B[38;5;241m=\u001B[39m\u001B[38;5;28mself\u001B[39m\u001B[38;5;241m.\u001B[39mcurrent_metabolite, isotopomers\u001B[38;5;241m=\u001B[39misos, percentages\u001B[38;5;241m=\u001B[39mfit_parameters)\n\u001B[0;32m    119\u001B[0m \u001B[38;5;28;01mif\u001B[39;00m \u001B[38;5;28mself\u001B[39m\u001B[38;5;241m.\u001B[39muse_hsqc_multiplet_data:\n",
      "\u001B[1;31mIndexError\u001B[0m: pop from empty list"
     ]
    }
   ],
   "source": [
    "for k in range(len(ia.metabolites)):\n",
    "        if ia.metabolites[k] in isotopomers.keys():\n",
    "                ia.fit_all_exps(metabolite=ia.metabolites[k], fit_isotopomers=isotopomers[ia.metabolites[k]])\n",
    "        else:\n",
    "                print(f'{ia.metabolites[k]} not in isotopomers list')\n"
   ]
  },
  {
   "cell_type": "markdown",
   "id": "49d9ea45",
   "metadata": {},
   "source": [
    "Export data and analysis to Excel spreadsheet"
   ]
  },
  {
   "cell_type": "code",
   "execution_count": 17,
   "id": "06b94802",
   "metadata": {},
   "outputs": [],
   "source": [
    "ia.export_data('isotopomerAnalysis.xlsx')"
   ]
  },
  {
   "cell_type": "markdown",
   "id": "13f97e7f-6ab2-4e14-837a-da5d617d2cc6",
   "metadata": {},
   "source": [
    "Fitted isotopomer distributions are stored in ia.fitted_isotopomers[metabolite][exp_index] and ia.fitted_isotopomer_percentages[metabolite][exp_index]"
   ]
  },
  {
   "cell_type": "code",
   "execution_count": 9,
   "id": "8820a6a1",
   "metadata": {},
   "outputs": [
    {
     "name": "stdout",
     "output_type": "stream",
     "text": [
      "Isotopomers : [[0, 0, 0], [0, 0, 1], [0, 1, 1]]\n",
      "Isotopomer %: [73.8191933266005, 3.1740858167890833, 23.00672085661041]\n"
     ]
    }
   ],
   "source": [
    "metabolite = 'L-LacticAcid'\n",
    "exp_index = 0\n",
    "print(f'Isotopomers : {ia.fitted_isotopomers[metabolite][exp_index]}\\nIsotopomer %: {ia.fitted_isotopomer_percentages[metabolite][exp_index]}')"
   ]
  },
  {
   "cell_type": "code",
   "execution_count": null,
   "id": "ce809368-a0ab-4d6f-8773-392101a572fb",
   "metadata": {},
   "outputs": [],
   "source": []
  }
 ],
 "metadata": {
  "kernelspec": {
   "display_name": "Python 3 (ipykernel)",
   "language": "python",
   "name": "python3"
  },
  "language_info": {
   "codemirror_mode": {
    "name": "ipython",
    "version": 3
   },
   "file_extension": ".py",
   "mimetype": "text/x-python",
   "name": "python",
   "nbconvert_exporter": "python",
   "pygments_lexer": "ipython3",
   "version": "3.12.3"
  }
 },
 "nbformat": 4,
 "nbformat_minor": 5
}
