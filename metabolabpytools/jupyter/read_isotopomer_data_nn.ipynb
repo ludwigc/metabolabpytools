{
 "cells": [
  {
   "cell_type": "markdown",
   "id": "05d60774-978d-4233-9aca-d3713e1fe2a6",
   "metadata": {},
   "source": [
    "### Step 5 - Fitting to real data:\n",
    "\n",
    "example used [0 ,1, 1] . Simply change the HSQC vector and metabolite name and the results directory will be updated."
   ]
  },
  {
   "cell_type": "code",
   "execution_count": 2,
   "id": "de5798fb-2dd9-4769-bf52-1e24815fc3bb",
   "metadata": {},
   "outputs": [
    {
     "name": "stdout",
     "output_type": "stream",
     "text": [
      "HSQC and GC-MS data loaded successfully.\n",
      "HSQC Multiplets for L-LacticAcid:\n",
      "Experiment 1: [[2], [2, 1], [2, 3], [2, 1, 3], [3], [3, 2]]\n",
      "Experiment 2: [[2], [2, 1], [2, 3], [2, 1, 3], [3], [3, 2]]\n",
      "Experiment 3: [[2], [2, 1], [2, 3], [2, 1, 3], [3], [3, 2]]\n",
      "\n",
      "HSQC Multiplet Percentages for L-LacticAcid:\n",
      "Experiment 1: [5.046, 0.711, 93.668, 0.575, 14.348, 85.652]\n",
      "Experiment 2: [5.264, 0.59, 93.359, 0.787, 15.459, 84.541]\n",
      "Experiment 3: [4.072, 0.0, 95.928, 0.0, 14.233, 85.767]\n",
      "\n",
      "GC-MS Percentages for L-LacticAcid:\n",
      "Experiment 1: [73.17, 4.01, 22.52, 0.3]\n",
      "Experiment 2: [73.17, 4.01, 22.52, 0.3]\n",
      "Experiment 3: [73.17, 4.01, 22.52, 0.3]\n",
      "WARNING:tensorflow:From C:\\Users\\raath\\metabolabpytools\\venv\\Lib\\site-packages\\keras\\src\\backend\\tensorflow\\core.py:192: The name tf.placeholder is deprecated. Please use tf.compat.v1.placeholder instead.\n",
      "\n"
     ]
    },
    {
     "name": "stderr",
     "output_type": "stream",
     "text": [
      "C:\\Users\\raath\\metabolabpytools\\venv\\Lib\\site-packages\\keras\\src\\saving\\saving_lib.py:576: UserWarning: Skipping variable loading for optimizer 'adam', because it has 10 variables whereas the saved optimizer has 2 variables. \n",
      "  saveable.load_own_variables(weights_store.get(inner_path))\n"
     ]
    },
    {
     "name": "stdout",
     "output_type": "stream",
     "text": [
      "Mean Predictions: [[7.3559662e+01 2.6295381e+00 2.1978934e-01 2.1731848e+01 1.7167797e+00\n",
      "  1.2611218e-01 1.3482759e-02 2.8147348e-03]\n",
      " [7.3633530e+01 2.3151665e+00 3.3606392e-01 2.1287283e+01 2.0512648e+00\n",
      "  3.7280214e-01 1.7268461e-03 2.1686179e-03]\n",
      " [7.0499313e+01 6.5971828e+00 1.0105027e-01 2.2795454e+01 1.8185297e-03\n",
      "  3.6127025e-03 0.0000000e+00 1.6094715e-03]]\n",
      "Standard Deviation of Predictions: [[0.96118456 0.81858635 0.35073543 0.84435076 0.9463281  0.33030432\n",
      "  0.08936631 0.03397708]\n",
      " [0.93550855 0.7852513  0.4114638  0.8605944  0.86847895 0.5426149\n",
      "  0.02298476 0.03079096]\n",
      " [1.1928561  0.9648027  0.25897107 0.7453141  0.03883328 0.05367995\n",
      "  0.         0.03596897]]\n"
     ]
    },
    {
     "name": "stderr",
     "output_type": "stream",
     "text": [
      "C:\\Users\\raath\\metabolabpytools\\venv\\Lib\\site-packages\\keras\\src\\saving\\saving_lib.py:576: UserWarning: Skipping variable loading for optimizer 'adam', because it has 10 variables whereas the saved optimizer has 2 variables. \n",
      "  saveable.load_own_variables(weights_store.get(inner_path))\n"
     ]
    },
    {
     "name": "stdout",
     "output_type": "stream",
     "text": [
      "Mean Predictions: [[7.4582535e+01 3.5007093e+00 5.8509737e-02 2.0892574e+01 7.0630652e-01\n",
      "  2.5658011e-01 0.0000000e+00 2.7800226e-03]\n",
      " [7.4680489e+01 3.0845301e+00 3.1591249e-01 2.0692738e+01 8.6327499e-01\n",
      "  3.5981551e-01 0.0000000e+00 3.2506720e-03]\n",
      " [7.1092773e+01 7.2757215e+00 8.8920584e-03 2.0914631e+01 5.0456528e-02\n",
      "  6.5749454e-01 0.0000000e+00 8.7357257e-05]]\n",
      "Standard Deviation of Predictions: [[0.9555414  0.869438   0.18334328 0.82790375 0.81622905 0.44692498\n",
      "  0.         0.04579935]\n",
      " [0.9134577  0.8115652  0.4154618  0.8134514  0.8719262  0.51978165\n",
      "  0.         0.03887515]\n",
      " [0.87067205 0.9610652  0.07318438 0.7580806  0.24583249 0.6690534\n",
      "  0.         0.0027611 ]]\n",
      "Results successfully saved to nn_analysis_results\\results_summary_hsqc_0_1_1.xlsx\n"
     ]
    }
   ],
   "source": [
    "from metabolabpytools import isotopomerAnalysis\n",
    "import os\n",
    "import numpy as np\n",
    "\n",
    "ia_nn = isotopomerAnalysis.IsotopomerAnalysisNN()\n",
    "hsqc_vector = [0, 1, 1]\n",
    "n_carbons=len(hsqc_vector)\n",
    "\n",
    "hsqc_data_file = os.path.join(os.getcwd(), 'hsqcData1.xlsx')\n",
    "gcms_data_file = os.path.join(os.getcwd(), 'gcmsData1.xlsx')\n",
    "ia_nn.load_hsqc_and_gcms_data(hsqc_data_file, gcms_data_file)\n",
    "\n",
    "# Inspect the data for a specific metabolite\n",
    "metabolite_name = \"L-LacticAcid\"  \n",
    "ia_nn.inspect_metabolite_data(metabolite_name)\n",
    "X_real_data = ia_nn.create_feature_vectors(metabolite_name)\n",
    "\n",
    "\n",
    "model_path = 'saved_models/model_hsqc_0_1_1.keras'\n",
    "mean_predictions, std_dev_predictions, predicted_distributions = ia_nn.load_model_and_predict(model_path, X_real_data, n_carbons)\n",
    "\n",
    "\n",
    "# Step 2: Simulate HSQC and GC-MS data from the predicted distributions\n",
    "predicted_hsqc_data, predicted_gcms_data = ia_nn.simulate_from_predictions(predicted_distributions, hsqc_vector)\n",
    "\n",
    "\n",
    "\n",
    "combined_vector = ia_nn.combine_hsqc_gcms(predicted_hsqc_data, predicted_gcms_data)\n",
    "\n",
    "mean_predictions_sim, std_dev_predictions_sim, predicted_distributions_sim = ia_nn.load_model_and_predict(model_path, combined_vector, n_carbons)\n",
    "\n",
    "# Save the results to an Excel file\n",
    "ia_nn.save_results_summary(X_real_data, predicted_distributions_sim, std_dev_predictions_sim, \n",
    "                           predicted_hsqc_data, predicted_gcms_data, hsqc_vector)\n"
   ]
  },
  {
   "cell_type": "code",
   "execution_count": null,
   "id": "c7113c67-007f-4f2b-ba1f-6f29294d269f",
   "metadata": {},
   "outputs": [],
   "source": []
  }
 ],
 "metadata": {
  "kernelspec": {
   "display_name": "Python 3 (ipykernel)",
   "language": "python",
   "name": "python3"
  },
  "language_info": {
   "codemirror_mode": {
    "name": "ipython",
    "version": 3
   },
   "file_extension": ".py",
   "mimetype": "text/x-python",
   "name": "python",
   "nbconvert_exporter": "python",
   "pygments_lexer": "ipython3",
   "version": "3.12.3"
  }
 },
 "nbformat": 4,
 "nbformat_minor": 5
}
