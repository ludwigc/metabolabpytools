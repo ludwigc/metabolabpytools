{
 "cells": [
  {
   "cell_type": "markdown",
   "id": "05d60774-978d-4233-9aca-d3713e1fe2a6",
   "metadata": {},
   "source": [
    "### Step 5 - Fitting to real data:\n",
    "\n",
    "example used [0 ,1, 1] . Simply change the HSQC vector and metabolite name and the results directory will be updated."
   ]
  },
  {
   "cell_type": "code",
   "execution_count": 3,
   "id": "de5798fb-2dd9-4769-bf52-1e24815fc3bb",
   "metadata": {
    "ExecuteTime": {
     "end_time": "2025-03-21T09:41:35.075522Z",
     "start_time": "2025-03-21T09:41:32.456695Z"
    }
   },
   "outputs": [
    {
     "name": "stdout",
     "output_type": "stream",
     "text": [
      "HSQC and GC-MS data loaded successfully.\n",
      "HSQC Multiplets for L-LacticAcid:\n",
      "Experiment 1: [[2], [2, 1], [2, 3], [2, 1, 3], [3], [3, 2]]\n",
      "Experiment 2: [[2], [2, 1], [2, 3], [2, 1, 3], [3], [3, 2]]\n",
      "Experiment 3: [[2], [2, 1], [2, 3], [2, 1, 3], [3], [3, 2]]\n",
      "\n",
      "HSQC Multiplet Percentages for L-LacticAcid:\n",
      "Experiment 1: [np.float64(5.046), np.float64(0.711), np.float64(93.668), np.float64(0.575), np.float64(14.348), np.float64(85.652)]\n",
      "Experiment 2: [np.float64(5.264), np.float64(0.59), np.float64(93.359), np.float64(0.787), np.float64(15.459), np.float64(84.541)]\n",
      "Experiment 3: [np.float64(4.072), np.float64(0.0), np.float64(95.928), np.float64(0.0), np.float64(14.233), np.float64(85.767)]\n",
      "\n",
      "GC-MS Percentages for L-LacticAcid:\n",
      "Experiment 1: [np.float64(73.17), np.float64(4.01), np.float64(22.52), np.float64(0.3)]\n",
      "Experiment 2: [np.float64(73.17), np.float64(4.01), np.float64(22.52), np.float64(0.3)]\n",
      "Experiment 3: [np.float64(73.17), np.float64(4.01), np.float64(22.52), np.float64(0.3)]\n",
      "WARNING:tensorflow:From C:\\Users\\raath\\PycharmProjects\\MachineLearningProject\\HDRC_Project\\.venv\\Lib\\site-packages\\keras\\src\\backend\\tensorflow\\core.py:219: The name tf.placeholder is deprecated. Please use tf.compat.v1.placeholder instead.\n",
      "\n"
     ]
    },
    {
     "name": "stderr",
     "output_type": "stream",
     "text": [
      "C:\\Users\\raath\\PycharmProjects\\MachineLearningProject\\HDRC_Project\\.venv\\Lib\\site-packages\\keras\\src\\saving\\saving_lib.py:757: UserWarning: Skipping variable loading for optimizer 'adam', because it has 30 variables whereas the saved optimizer has 2 variables. \n",
      "  saveable.load_own_variables(weights_store.get(inner_path))\n"
     ]
    },
    {
     "name": "stdout",
     "output_type": "stream",
     "text": [
      "Mean Predictions: [[72.42051    1.2818024  1.2917085 11.281843   3.36938    2.613743\n",
      "   6.635819   1.1053491]\n",
      " [72.51743    1.3104018  1.3459874 11.094398   3.3400028  2.6680777\n",
      "   6.5966625  1.1270489]\n",
      " [72.21932    1.2485789  1.2336301 11.45853    3.3615932  2.6164143\n",
      "   6.753451   1.1082528]]\n",
      "Standard Deviation of Predictions: [[4.8853483 1.0819404 1.4102488 4.229068  1.2945747 1.2837377 2.1800234\n",
      "  1.6622243]\n",
      " [4.7700996 1.0659481 1.4152477 4.1944485 1.2542987 1.3028958 2.1397586\n",
      "  1.6980909]\n",
      " [4.957875  1.0931191 1.400989  4.3403006 1.3177632 1.3094093 2.2296517\n",
      "  1.6960634]]\n"
     ]
    },
    {
     "name": "stderr",
     "output_type": "stream",
     "text": [
      "C:\\Users\\raath\\PycharmProjects\\MachineLearningProject\\HDRC_Project\\.venv\\Lib\\site-packages\\keras\\src\\saving\\saving_lib.py:757: UserWarning: Skipping variable loading for optimizer 'adam', because it has 30 variables whereas the saved optimizer has 2 variables. \n",
      "  saveable.load_own_variables(weights_store.get(inner_path))\n"
     ]
    },
    {
     "name": "stdout",
     "output_type": "stream",
     "text": [
      "Mean Predictions: [[72.523636   1.7320608  2.2105007  9.588109   3.3141937  3.1927478\n",
      "   6.1319017  1.3066854]\n",
      " [72.62498    1.7588472  2.2078025  9.437208   3.3222132  3.237294\n",
      "   6.090765   1.3210489]\n",
      " [72.51023    1.6878715  2.1371372  9.742781   3.3282046  3.1391158\n",
      "   6.156801   1.2978746]]\n",
      "Standard Deviation of Predictions: [[4.223827   1.0378811  1.7006234  3.618544   0.9930915  1.483191\n",
      "  1.8825673  1.6621773 ]\n",
      " [4.0932026  1.0314986  1.6665813  3.5449855  0.99904436 1.5150695\n",
      "  1.847666   1.6620594 ]\n",
      " [4.17124    1.0356631  1.6456908  3.6098902  1.0298368  1.4501185\n",
      "  1.8706793  1.6796434 ]]\n",
      "Results successfully saved to nn_analysis_results\\results_summary_hsqc_0_1_1.xlsx\n"
     ]
    }
   ],
   "source": [
    "from metabolabpytools import isotopomerAnalysis\n",
    "import os\n",
    "import numpy as np\n",
    "\n",
    "ia_nn = isotopomerAnalysis.IsotopomerAnalysisNN()\n",
    "hsqc_vector = [0, 1, 1]\n",
    "n_carbons=len(hsqc_vector)\n",
    "\n",
    "hsqc_data_file = os.path.join(os.getcwd(), 'hsqcData1.xlsx')\n",
    "gcms_data_file = os.path.join(os.getcwd(), 'gcmsData1.xlsx')\n",
    "ia_nn.load_hsqc_and_gcms_data(hsqc_data_file, gcms_data_file)\n",
    "\n",
    "# Inspect the data for a specific metabolite\n",
    "metabolite_name = \"L-LacticAcid\"  \n",
    "ia_nn.inspect_metabolite_data(metabolite_name)\n",
    "X_real_data = ia_nn.create_feature_vectors(metabolite_name)\n",
    "\n",
    "\n",
    "model_path = 'saved_models/model_hsqc_0_1_1.keras'\n",
    "mean_predictions, std_dev_predictions, predicted_distributions = ia_nn.load_model_and_predict(model_path, X_real_data, n_carbons)\n",
    "\n",
    "\n",
    "# Step 2: Simulate HSQC and GC-MS data from the predicted distributions\n",
    "predicted_hsqc_data, predicted_gcms_data = ia_nn.simulate_from_predictions(predicted_distributions, hsqc_vector)\n",
    "\n",
    "\n",
    "\n",
    "combined_vector = ia_nn.combine_hsqc_gcms(predicted_hsqc_data, predicted_gcms_data)\n",
    "\n",
    "mean_predictions_sim, std_dev_predictions_sim, predicted_distributions_sim = ia_nn.load_model_and_predict(model_path, combined_vector, n_carbons)\n",
    "\n",
    "# Save the results to an Excel file\n",
    "ia_nn.save_results_summary(X_real_data, predicted_distributions_sim, std_dev_predictions_sim, \n",
    "                           predicted_hsqc_data, predicted_gcms_data, hsqc_vector)\n"
   ]
  },
  {
   "cell_type": "code",
   "execution_count": null,
   "id": "c7113c67-007f-4f2b-ba1f-6f29294d269f",
   "metadata": {},
   "outputs": [],
   "source": []
  }
 ],
 "metadata": {
  "kernelspec": {
   "display_name": "Python 3 (ipykernel)",
   "language": "python",
   "name": "python3"
  },
  "language_info": {
   "codemirror_mode": {
    "name": "ipython",
    "version": 3
   },
   "file_extension": ".py",
   "mimetype": "text/x-python",
   "name": "python",
   "nbconvert_exporter": "python",
   "pygments_lexer": "ipython3",
   "version": "3.12.3"
  }
 },
 "nbformat": 4,
 "nbformat_minor": 5
}
