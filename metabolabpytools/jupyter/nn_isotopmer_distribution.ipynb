{
 "cells": [
  {
   "cell_type": "markdown",
   "id": "ba6571f1-30e3-46ff-9842-f8d34a0da0cb",
   "metadata": {},
   "source": [
    "# Random Data Simulation and Fitting Using Neural Network"
   ]
  },
  {
   "cell_type": "markdown",
   "id": "d6808647-bca8-4696-8ed9-676cdb0934ca",
   "metadata": {
    "tags": []
   },
   "source": [
    "### _Simulation of random data:_"
   ]
  },
  {
   "cell_type": "markdown",
   "id": "18e340f9-8402-4b5c-a418-cd47c2aa5445",
   "metadata": {},
   "source": [
    "Import necessary packages:"
   ]
  },
  {
   "cell_type": "code",
   "execution_count": 1,
   "id": "9f8aac1e-995b-47ad-9140-7789421bdda5",
   "metadata": {
    "tags": []
   },
   "outputs": [
    {
     "name": "stdout",
     "output_type": "stream",
     "text": [
      "WARNING:tensorflow:From C:\\Users\\raath\\anaconda3\\Lib\\site-packages\\keras\\src\\losses.py:2976: The name tf.losses.sparse_softmax_cross_entropy is deprecated. Please use tf.compat.v1.losses.sparse_softmax_cross_entropy instead.\n",
      "\n"
     ]
    }
   ],
   "source": [
    "from metabolabpytools import isotopomerAnalysis\n",
    "import numpy as np\n",
    "import tensorflow as tf\n",
    "from tensorflow.keras.models import Sequential\n",
    "from tensorflow.keras.layers import Dense"
   ]
  },
  {
   "cell_type": "markdown",
   "id": "8d2c1245-c6a1-4306-87c4-61913d597421",
   "metadata": {},
   "source": [
    "Function to generate random percentages summing to 100%:"
   ]
  },
  {
   "cell_type": "code",
   "execution_count": 4,
   "id": "9d48eb56-bee8-47b2-8b49-e3db69188f43",
   "metadata": {
    "tags": []
   },
   "outputs": [],
   "source": [
    "def generate_random_percentages(num_isotopomers):\n",
    "    random_values = np.random.rand(num_isotopomers)\n",
    "    random_percentages = (random_values / random_values.sum()) * 30  # sum to 30\n",
    "    return list(random_percentages)"
   ]
  },
  {
   "cell_type": "markdown",
   "id": "183940de-2de3-406a-99a6-c913f85d4d38",
   "metadata": {},
   "source": [
    "Create an isotopomerAnalysis object:"
   ]
  },
  {
   "cell_type": "code",
   "execution_count": 7,
   "id": "892c7bc2-3c50-468f-9679-52f222be98a8",
   "metadata": {
    "tags": []
   },
   "outputs": [],
   "source": [
    "ia = isotopomerAnalysis.IsotopomerAnalysis()"
   ]
  },
  {
   "cell_type": "markdown",
   "id": "93ad61b0-1980-4765-8378-8f59a305e7a7",
   "metadata": {},
   "source": [
    "Define metabolite parameters:"
   ]
  },
  {
   "cell_type": "code",
   "execution_count": 9,
   "id": "d1625aa1-ede0-4dec-8e07-51e2e8d016c8",
   "metadata": {
    "tags": []
   },
   "outputs": [
    {
     "name": "stdout",
     "output_type": "stream",
     "text": [
      "[11.06730360033677, 7.0269903305145975, 11.905706069148632]\n"
     ]
    }
   ],
   "source": [
    "isotopomers = [[0,1,1], [1,0,1], [0,0,1]]\n",
    "random_percentages = generate_random_percentages(len(isotopomers))\n",
    "print(random_percentages)\n",
    "hsqc = [0,1,1]\n",
    "metabolite = 'L-LacticAcid'\n",
    "exp_index = 0"
   ]
  },
  {
   "cell_type": "markdown",
   "id": "78523380-aa4a-4a4d-92aa-117c0ab860ef",
   "metadata": {},
   "source": [
    "Initialise isotopomerAnalysis object with selected data:"
   ]
  },
  {
   "cell_type": "code",
   "execution_count": 12,
   "id": "4c63826b-7b3c-4a4a-a590-11cb64f620dc",
   "metadata": {
    "tags": []
   },
   "outputs": [],
   "source": [
    "ia.init_metabolite(metabolite, hsqc)\n",
    "ia.set_fit_isotopomers(metabolite=metabolite, isotopomers=isotopomers, percentages=random_percentages)"
   ]
  },
  {
   "cell_type": "code",
   "execution_count": 14,
   "id": "77baf227-0b66-4a80-8482-470582923dfe",
   "metadata": {
    "tags": []
   },
   "outputs": [
    {
     "name": "stdout",
     "output_type": "stream",
     "text": [
      "Isotopomers : [[0, 0, 0], [0, 1, 1], [1, 0, 1], [0, 0, 1]]\n",
      "Isotopomer %: [70.0, 11.06730360033677, 7.0269903305145975, 11.905706069148632]\n"
     ]
    }
   ],
   "source": [
    "print(f'Isotopomers : {ia.fit_isotopomers[metabolite]}\\nIsotopomer %: {ia.isotopomer_percentages[metabolite]}')"
   ]
  },
  {
   "cell_type": "markdown",
   "id": "c5523f4f-fc39-494f-95a9-3cfb00258579",
   "metadata": {},
   "source": [
    "Simulate HSQC data:"
   ]
  },
  {
   "cell_type": "code",
   "execution_count": 17,
   "id": "e1c670cc-f433-4fd5-9100-3437a97c0576",
   "metadata": {
    "tags": []
   },
   "outputs": [],
   "source": [
    "ia.sim_hsqc_data(metabolite=metabolite, exp_index=exp_index, isotopomers=isotopomers, percentages=random_percentages)"
   ]
  },
  {
   "cell_type": "code",
   "execution_count": 19,
   "id": "d057b29c-722a-4e43-bae4-6d87d6bee885",
   "metadata": {
    "tags": []
   },
   "outputs": [
    {
     "name": "stdout",
     "output_type": "stream",
     "text": [
      "HSQC Multiplets: [[2], [2, 3], [2, 1, 3], [3], [3, 2]]\n",
      "Multiplet percentages: [6.231860080871374, 92.15726694713968, 1.61087297198894, 63.34878060485491, 36.65121939514509]\n"
     ]
    }
   ],
   "source": [
    "print(f'HSQC Multiplets: {ia.exp_multiplets[metabolite][exp_index]}')\n",
    "print(f'Multiplet percentages: {ia.exp_multiplet_percentages[metabolite][exp_index]}')"
   ]
  },
  {
   "cell_type": "markdown",
   "id": "ebfcec8f-533c-481f-b449-63a53ef28825",
   "metadata": {},
   "source": [
    "Simulate GC-MS data:"
   ]
  },
  {
   "cell_type": "code",
   "execution_count": 30,
   "id": "4af64c03-83c9-42d0-96f8-414994b664ab",
   "metadata": {
    "tags": []
   },
   "outputs": [],
   "source": [
    "ia.sim_gcms_data(metabolite, exp_index)"
   ]
  },
  {
   "cell_type": "code",
   "execution_count": 32,
   "id": "72b0a679-19f7-453e-bf64-1c0681e02cab",
   "metadata": {
    "tags": []
   },
   "outputs": [
    {
     "data": {
      "text/plain": [
       "[70.0, 11.905706069148632, 18.094293930851368, 0.0]"
      ]
     },
     "execution_count": 32,
     "metadata": {},
     "output_type": "execute_result"
    }
   ],
   "source": [
    "ia.exp_gcms[metabolite][exp_index]"
   ]
  },
  {
   "cell_type": "markdown",
   "id": "8b01264c-cda6-4ed3-b187-5e0b92f1b62d",
   "metadata": {},
   "source": [
    "### _Fitting to simulated data using basic neural network:_"
   ]
  },
  {
   "cell_type": "markdown",
   "id": "04bf3206-a948-4405-80ce-f6cabdff28d9",
   "metadata": {},
   "source": [
    "Use only HSQC multiplets and GC-MS data for analysis:"
   ]
  },
  {
   "cell_type": "code",
   "execution_count": 38,
   "id": "9f7c3bc7-7ee5-4dd2-b0fb-87cdcc936717",
   "metadata": {
    "tags": []
   },
   "outputs": [],
   "source": [
    "ia.use_hsqc_multiplet_data = True\n",
    "ia.use_gcms_data = True\n",
    "ia.use_nmr1d_data = False"
   ]
  },
  {
   "cell_type": "markdown",
   "id": "85028112-5a41-45b9-95d3-047cbb1b1db7",
   "metadata": {},
   "source": [
    "Generate multiple samples:"
   ]
  },
  {
   "cell_type": "code",
   "execution_count": null,
   "id": "6950fc7f-41af-42d6-89b4-fc8312ca98d7",
   "metadata": {},
   "outputs": [],
   "source": [
    "# num_samples = 10  # Example number of samples\n",
    "# samples = ia.generate_simulated_samples(num_samples)"
   ]
  },
  {
   "cell_type": "markdown",
   "id": "2158ad27-117c-42e3-aa31-4a640037f7a6",
   "metadata": {},
   "source": [
    "Call the new neural network fit method:"
   ]
  },
  {
   "cell_type": "code",
   "execution_count": 40,
   "id": "a5b0dc3d-1689-43ed-85c6-f3ef5e7de95a",
   "metadata": {
    "tags": []
   },
   "outputs": [
    {
     "name": "stdout",
     "output_type": "stream",
     "text": [
      "WARNING:tensorflow:From C:\\Users\\raath\\anaconda3\\Lib\\site-packages\\keras\\src\\backend.py:873: The name tf.get_default_graph is deprecated. Please use tf.compat.v1.get_default_graph instead.\n",
      "\n",
      "WARNING:tensorflow:From C:\\Users\\raath\\anaconda3\\Lib\\site-packages\\keras\\src\\optimizers\\__init__.py:309: The name tf.train.Optimizer is deprecated. Please use tf.compat.v1.train.Optimizer instead.\n",
      "\n",
      "Epoch 1/50\n",
      "WARNING:tensorflow:From C:\\Users\\raath\\anaconda3\\Lib\\site-packages\\keras\\src\\utils\\tf_utils.py:492: The name tf.ragged.RaggedTensorValue is deprecated. Please use tf.compat.v1.ragged.RaggedTensorValue instead.\n",
      "\n",
      "1/1 [==============================] - 1s 960ms/step - loss: 1348.1771\n",
      "Epoch 2/50\n",
      "1/1 [==============================] - 0s 12ms/step - loss: 1268.5940\n",
      "Epoch 3/50\n",
      "1/1 [==============================] - 0s 2ms/step - loss: 1192.3629\n",
      "Epoch 4/50\n",
      "1/1 [==============================] - 0s 5ms/step - loss: 1119.2207\n",
      "Epoch 5/50\n",
      "1/1 [==============================] - 0s 3ms/step - loss: 1050.6545\n",
      "Epoch 6/50\n",
      "1/1 [==============================] - 0s 8ms/step - loss: 987.0451\n",
      "Epoch 7/50\n",
      "1/1 [==============================] - 0s 9ms/step - loss: 925.8461\n",
      "Epoch 8/50\n",
      "1/1 [==============================] - 0s 0s/step - loss: 867.7558\n",
      "Epoch 9/50\n",
      "1/1 [==============================] - 0s 9ms/step - loss: 814.6113\n",
      "Epoch 10/50\n",
      "1/1 [==============================] - 0s 5ms/step - loss: 763.5065\n",
      "Epoch 11/50\n",
      "1/1 [==============================] - 0s 10ms/step - loss: 714.9641\n",
      "Epoch 12/50\n",
      "1/1 [==============================] - 0s 3ms/step - loss: 670.8259\n",
      "Epoch 13/50\n",
      "1/1 [==============================] - 0s 2ms/step - loss: 632.1685\n",
      "Epoch 14/50\n",
      "1/1 [==============================] - 0s 10ms/step - loss: 594.7659\n",
      "Epoch 15/50\n",
      "1/1 [==============================] - 0s 0s/step - loss: 558.5478\n",
      "Epoch 16/50\n",
      "1/1 [==============================] - 0s 4ms/step - loss: 524.8000\n",
      "Epoch 17/50\n",
      "1/1 [==============================] - 0s 7ms/step - loss: 492.4739\n",
      "Epoch 18/50\n",
      "1/1 [==============================] - 0s 0s/step - loss: 461.3287\n",
      "Epoch 19/50\n",
      "1/1 [==============================] - 0s 3ms/step - loss: 431.2920\n",
      "Epoch 20/50\n",
      "1/1 [==============================] - 0s 7ms/step - loss: 402.3544\n",
      "Epoch 21/50\n",
      "1/1 [==============================] - 0s 6ms/step - loss: 374.3706\n",
      "Epoch 22/50\n",
      "1/1 [==============================] - 0s 5ms/step - loss: 347.3246\n",
      "Epoch 23/50\n",
      "1/1 [==============================] - 0s 0s/step - loss: 321.2191\n",
      "Epoch 24/50\n",
      "1/1 [==============================] - 0s 5ms/step - loss: 296.8301\n",
      "Epoch 25/50\n",
      "1/1 [==============================] - 0s 3ms/step - loss: 273.4717\n",
      "Epoch 26/50\n",
      "1/1 [==============================] - 0s 0s/step - loss: 250.9933\n",
      "Epoch 27/50\n",
      "1/1 [==============================] - 0s 2ms/step - loss: 229.6583\n",
      "Epoch 28/50\n",
      "1/1 [==============================] - 0s 8ms/step - loss: 209.6125\n",
      "Epoch 29/50\n",
      "1/1 [==============================] - 0s 6ms/step - loss: 190.3907\n",
      "Epoch 30/50\n",
      "1/1 [==============================] - 0s 0s/step - loss: 172.0281\n",
      "Epoch 31/50\n",
      "1/1 [==============================] - 0s 10ms/step - loss: 154.5579\n",
      "Epoch 32/50\n",
      "1/1 [==============================] - 0s 5ms/step - loss: 138.1772\n",
      "Epoch 33/50\n",
      "1/1 [==============================] - 0s 5ms/step - loss: 122.8435\n",
      "Epoch 34/50\n",
      "1/1 [==============================] - 0s 10ms/step - loss: 108.4088\n",
      "Epoch 35/50\n",
      "1/1 [==============================] - 0s 0s/step - loss: 94.8960\n",
      "Epoch 36/50\n",
      "1/1 [==============================] - 0s 0s/step - loss: 82.3233\n",
      "Epoch 37/50\n",
      "1/1 [==============================] - 0s 12ms/step - loss: 70.7053\n",
      "Epoch 38/50\n",
      "1/1 [==============================] - 0s 0s/step - loss: 60.0443\n",
      "Epoch 39/50\n",
      "1/1 [==============================] - 0s 2ms/step - loss: 50.3449\n",
      "Epoch 40/50\n",
      "1/1 [==============================] - 0s 0s/step - loss: 41.5996\n",
      "Epoch 41/50\n",
      "1/1 [==============================] - 0s 0s/step - loss: 33.7957\n",
      "Epoch 42/50\n",
      "1/1 [==============================] - 0s 10ms/step - loss: 26.9138\n",
      "Epoch 43/50\n",
      "1/1 [==============================] - 0s 0s/step - loss: 20.9285\n",
      "Epoch 44/50\n",
      "1/1 [==============================] - 0s 8ms/step - loss: 15.8082\n",
      "Epoch 45/50\n",
      "1/1 [==============================] - 0s 9ms/step - loss: 11.5147\n",
      "Epoch 46/50\n",
      "1/1 [==============================] - 0s 0s/step - loss: 8.0038\n",
      "Epoch 47/50\n",
      "1/1 [==============================] - 0s 9ms/step - loss: 5.2239\n",
      "Epoch 48/50\n",
      "1/1 [==============================] - 0s 4ms/step - loss: 3.1169\n",
      "Epoch 49/50\n",
      "1/1 [==============================] - 0s 5ms/step - loss: 1.6174\n",
      "Epoch 50/50\n",
      "1/1 [==============================] - 0s 9ms/step - loss: 0.6538\n",
      "1/1 [==============================] - 0s 100ms/step\n",
      "length of percentages vector does not match number of isotopomers\n"
     ]
    }
   ],
   "source": [
    "ia.fit_data_nn(exp_index=exp_index, metabolite=metabolite, fit_isotopomers=isotopomers)"
   ]
  },
  {
   "cell_type": "code",
   "execution_count": 42,
   "id": "3a698c96-d6dd-47bd-9d49-c71f5df9bcdc",
   "metadata": {
    "tags": []
   },
   "outputs": [
    {
     "name": "stdout",
     "output_type": "stream",
     "text": [
      "Fitted Isotoponers : [[0, 0, 0], [0, 1, 1], [1, 0, 1], [0, 0, 1]]\n",
      "Fitted Isotopomer %: [70.0, 11.06730360033677, 7.0269903305145975, 11.905706069148632]\n"
     ]
    }
   ],
   "source": [
    "print(f'Fitted Isotoponers : {ia.fitted_isotopomers[metabolite][exp_index]}\\nFitted Isotopomer %: {ia.fitted_isotopomer_percentages[metabolite][exp_index]}')  "
   ]
  },
  {
   "cell_type": "markdown",
   "id": "59ae55e8-ccfb-4732-ae74-49011f2e1f36",
   "metadata": {},
   "source": [
    "Export data and analysis to Excel spreadsheet:"
   ]
  },
  {
   "cell_type": "code",
   "execution_count": null,
   "id": "ebbf36fb-27de-4b27-adf8-194ec74b7fb8",
   "metadata": {},
   "outputs": [],
   "source": [
    "ia.export_data('fittedIsotopomerAnalysis.xlsx')"
   ]
  },
  {
   "cell_type": "markdown",
   "id": "9bb44fab-4054-465b-8ac8-49d1b9745c3b",
   "metadata": {},
   "source": [
    "## Addressing Overfitting: "
   ]
  },
  {
   "cell_type": "markdown",
   "id": "da1ee47c-dce3-4348-bd71-bed10b5295c8",
   "metadata": {},
   "source": [
    "To prevent overfitting in my neural network model for predicting isotopomer distributions, several strategies will be implemented:\n",
    "\n",
    "- First, I'll use a validation set to monitor the model's performance during training, ensuring it maintains its ability to generalize to unseen data. This involves splitting the data into training and validation sets and using early stopping to halt training when the validation loss stops improving, which helps avoid overfitting by preventing the model from learning noise in the training data. \n",
    " \n",
    "- Additionally, I'll employ dropout layers within the neural network architecture. Dropout randomly deactivates a fraction of neurons during each training step, which forces the network to learn more robust features and reduces reliance on any specific neurons. \n",
    "\n",
    "- Regularization techniques, such as L2 regularization, will be used to penalize large weights, discouraging the model from becoming too complex. \n",
    "\n",
    "- Finally, I will ensure that the model is trained with an adequate amount of data and, if necessary, use data augmentation techniques to artificially increase the diversity of the training dataset, enhancing the model's ability to generalize."
   ]
  },
  {
   "cell_type": "code",
   "execution_count": null,
   "id": "aa277461-b33f-457a-808a-bf559b0e43dd",
   "metadata": {},
   "outputs": [],
   "source": []
  }
 ],
 "metadata": {
  "kernelspec": {
   "display_name": "Python 3 (ipykernel)",
   "language": "python",
   "name": "python3"
  },
  "language_info": {
   "codemirror_mode": {
    "name": "ipython",
    "version": 3
   },
   "file_extension": ".py",
   "mimetype": "text/x-python",
   "name": "python",
   "nbconvert_exporter": "python",
   "pygments_lexer": "ipython3",
   "version": "3.11.5"
  }
 },
 "nbformat": 4,
 "nbformat_minor": 5
}
