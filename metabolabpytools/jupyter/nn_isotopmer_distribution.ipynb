{
 "cells": [
  {
   "cell_type": "markdown",
   "id": "ba6571f1-30e3-46ff-9842-f8d34a0da0cb",
   "metadata": {},
   "source": [
    "# Random Data Simulation and Fitting Using Neural Network"
   ]
  },
  {
   "cell_type": "markdown",
   "id": "d6808647-bca8-4696-8ed9-676cdb0934ca",
   "metadata": {
    "tags": []
   },
   "source": [
    "### _Simulation of random data:_"
   ]
  },
  {
   "cell_type": "markdown",
   "id": "18e340f9-8402-4b5c-a418-cd47c2aa5445",
   "metadata": {},
   "source": [
    "Import necessary packages:"
   ]
  },
  {
   "cell_type": "code",
   "execution_count": null,
   "id": "9f8aac1e-995b-47ad-9140-7789421bdda5",
   "metadata": {
    "tags": []
   },
   "outputs": [],
   "source": [
    "from metabolabpytools import isotopomerAnalysis\n",
    "import numpy as np\n",
    "import tensorflow as tf\n",
    "from tensorflow.keras.models import Sequential\n",
    "from tensorflow.keras.layers import Dense\n",
    "import copy"
   ]
  },
  {
   "cell_type": "markdown",
   "id": "8d2c1245-c6a1-4306-87c4-61913d597421",
   "metadata": {},
   "source": [
    "Function to generate random percentages summing to 100%:"
   ]
  },
  {
   "cell_type": "code",
   "execution_count": null,
   "id": "9d48eb56-bee8-47b2-8b49-e3db69188f43",
   "metadata": {
    "tags": []
   },
   "outputs": [],
   "source": [
    "def generate_isotopomer_percentages():\n",
    "    unlabelled_percentage = np.random.uniform(20, 80)  # Unlabelled percentage between 20% and 80%\n",
    "    remaining_percentage = 100 - unlabelled_percentage\n",
    "    \n",
    "    # Generate random percentages for the remaining 7 isotopomers\n",
    "    random_values = np.random.rand(7)\n",
    "    random_percentages = (random_values / random_values.sum()) * remaining_percentage\n",
    "    \n",
    "    # Combine unlabelled and other isotopomer percentages\n",
    "    percentages = [unlabelled_percentage] + list(random_percentages)\n",
    "    \n",
    "    return percentages"
   ]
  },
  {
   "cell_type": "markdown",
   "id": "183940de-2de3-406a-99a6-c913f85d4d38",
   "metadata": {},
   "source": [
    "Create an isotopomerAnalysis object:"
   ]
  },
  {
   "cell_type": "code",
   "execution_count": null,
   "id": "892c7bc2-3c50-468f-9679-52f222be98a8",
   "metadata": {
    "tags": []
   },
   "outputs": [],
   "source": [
    "ia = isotopomerAnalysis.IsotopomerAnalysis()"
   ]
  },
  {
   "cell_type": "markdown",
   "id": "93ad61b0-1980-4765-8378-8f59a305e7a7",
   "metadata": {},
   "source": [
    "Define metabolite parameters:"
   ]
  },
  {
   "cell_type": "code",
   "execution_count": null,
   "id": "d1625aa1-ede0-4dec-8e07-51e2e8d016c8",
   "metadata": {
    "tags": []
   },
   "outputs": [],
   "source": [
    "isotopomers = [\n",
    "    [0, 0, 0],   \n",
    "    [1, 0, 0],\n",
    "    [0, 1, 0],\n",
    "    [0, 0, 1],\n",
    "    [1, 1, 0],\n",
    "    [1, 0, 1],\n",
    "    [0, 1, 1],\n",
    "    [1, 1, 1]\n",
    "]\n",
    "\n",
    "print(f\"Initial isotopomers: {isotopomers}\")\n",
    "#random_percentages = generate_isotopomer_percentages()\n",
    "# print(random_percentages)\n",
    "hsqc = [0,1,1]\n",
    "metabolite = 'L-LacticAcid'\n",
    "num_samples = 10\n"
   ]
  },
  {
   "cell_type": "code",
   "execution_count": null,
   "id": "8c6d7f4b-9187-435f-8e34-238e93055c07",
   "metadata": {},
   "outputs": [],
   "source": [
    "ia.init_metabolite_multiple_samples(metabolite, hsqc, num_samples=num_samples)"
   ]
  },
  {
   "cell_type": "code",
   "execution_count": null,
   "id": "592f0cf6-b27a-41e6-9473-7a149316758f",
   "metadata": {},
   "outputs": [],
   "source": [
    "print(f\"Metabolites: {ia.metabolites}\")\n",
    "print(f\"Initial Isotopomer Percentages: {ia.isotopomer_percentages}\")"
   ]
  },
  {
   "cell_type": "markdown",
   "id": "b226e84e-bdd8-4943-8796-fa818c51099e",
   "metadata": {},
   "source": [
    "Initialising and set isoptomers for multiple samples:"
   ]
  },
  {
   "cell_type": "code",
   "execution_count": null,
   "id": "6c347e59-9321-46c2-8401-83bf22368133",
   "metadata": {},
   "outputs": [],
   "source": [
    "generated_percentages = []\n",
    "for exp_index in range(num_samples):\n",
    "    random_percentages = generate_isotopomer_percentages()  # Generate new random percentages for each sample\n",
    "    # print(f\"Generated percentages for sample {exp_index}: {random_percentages}\")\n",
    "    generated_percentages.append(random_percentages)  # Store generated percentages for comparison\n",
    "    \n",
    "    # Deep copy isotopomers for each iteration to ensure it is not modified\n",
    "    isotopomers_copy = copy.deepcopy(isotopomers)\n",
    "    \n",
    "    # Debug prints before setting fit isotopomers\n",
    "    # print(f\"Before set_fit_isotopomers call for exp_index {exp_index}:\")\n",
    "    # print(f\"Metabolite: {metabolite}\")\n",
    "    # print(f\"Isotopomers: {isotopomers_copy}\")\n",
    "    # print(f\"Percentages: {random_percentages}\")\n",
    "    # print(f\"Exp Index: {exp_index}\")\n",
    "    \n",
    "    # Ensure isotopomers_copy is not empty\n",
    "    if len(isotopomers_copy) == 0:\n",
    "        print(f\"Error: Isotopomers is empty for exp_index {exp_index}\")\n",
    "\n",
    "    ia.set_fit_isotopomers_simple(metabolite=metabolite, isotopomers=isotopomers, percentages=random_percentages, exp_index=exp_index)\n",
    "    ia.sim_hsqc_data(metabolite=metabolite, exp_index=exp_index, isotopomers=isotopomers, percentages=random_percentages)\n",
    "    ia.sim_gcms_data(metabolite, exp_index)"
   ]
  },
  {
   "cell_type": "markdown",
   "id": "78523380-aa4a-4a4d-92aa-117c0ab860ef",
   "metadata": {},
   "source": [
    "Initialise isotopomerAnalysis object with selected data:"
   ]
  },
  {
   "cell_type": "code",
   "execution_count": null,
   "id": "4c63826b-7b3c-4a4a-a590-11cb64f620dc",
   "metadata": {
    "tags": []
   },
   "outputs": [],
   "source": [
    "#ia.init_metabolite(metabolite, hsqc)\n",
    "#ia.set_fit_isotopomers(metabolite=metabolite, isotopomers=isotopomers, percentages=random_percentages)"
   ]
  },
  {
   "cell_type": "code",
   "execution_count": null,
   "id": "77baf227-0b66-4a80-8482-470582923dfe",
   "metadata": {
    "tags": []
   },
   "outputs": [],
   "source": [
    "#print(f'Isotopomers : {ia.fit_isotopomers[metabolite]}\\nIsotopomer %: {ia.isotopomer_percentages[metabolite]}')"
   ]
  },
  {
   "cell_type": "markdown",
   "id": "c5523f4f-fc39-494f-95a9-3cfb00258579",
   "metadata": {},
   "source": [
    "Simulate HSQC data:"
   ]
  },
  {
   "cell_type": "code",
   "execution_count": null,
   "id": "e1c670cc-f433-4fd5-9100-3437a97c0576",
   "metadata": {
    "tags": []
   },
   "outputs": [],
   "source": [
    "#ia.sim_hsqc_data(metabolite=metabolite, exp_index=exp_index, isotopomers=isotopomers, percentages=random_percentages)"
   ]
  },
  {
   "cell_type": "code",
   "execution_count": null,
   "id": "d057b29c-722a-4e43-bae4-6d87d6bee885",
   "metadata": {
    "tags": []
   },
   "outputs": [],
   "source": [
    "# print(f'HSQC Multiplets: {ia.exp_multiplets[metabolite][exp_index]}')\n",
    "#print(f'Multiplet percentages: {ia.exp_multiplet_percentages[metabolite][exp_index]}')"
   ]
  },
  {
   "cell_type": "markdown",
   "id": "ebfcec8f-533c-481f-b449-63a53ef28825",
   "metadata": {},
   "source": [
    "Simulate GC-MS data:"
   ]
  },
  {
   "cell_type": "code",
   "execution_count": null,
   "id": "4af64c03-83c9-42d0-96f8-414994b664ab",
   "metadata": {
    "tags": []
   },
   "outputs": [],
   "source": [
    "#ia.sim_gcms_data(metabolite, exp_index)"
   ]
  },
  {
   "cell_type": "code",
   "execution_count": null,
   "id": "72b0a679-19f7-453e-bf64-1c0681e02cab",
   "metadata": {
    "tags": []
   },
   "outputs": [],
   "source": [
    "#ia.exp_gcms[metabolite][exp_index]"
   ]
  },
  {
   "cell_type": "markdown",
   "id": "8b01264c-cda6-4ed3-b187-5e0b92f1b62d",
   "metadata": {},
   "source": [
    "### _Fitting to simulated data using basic neural network:_"
   ]
  },
  {
   "cell_type": "markdown",
   "id": "04bf3206-a948-4405-80ce-f6cabdff28d9",
   "metadata": {},
   "source": [
    "Use only HSQC multiplets and GC-MS data for analysis:"
   ]
  },
  {
   "cell_type": "code",
   "execution_count": null,
   "id": "9f7c3bc7-7ee5-4dd2-b0fb-87cdcc936717",
   "metadata": {
    "tags": []
   },
   "outputs": [],
   "source": [
    "ia.use_hsqc_multiplet_data = True\n",
    "ia.use_gcms_data = True\n",
    "ia.use_nmr1d_data = False"
   ]
  },
  {
   "cell_type": "markdown",
   "id": "85028112-5a41-45b9-95d3-047cbb1b1db7",
   "metadata": {},
   "source": [
    "Generate multiple samples:"
   ]
  },
  {
   "cell_type": "code",
   "execution_count": null,
   "id": "6950fc7f-41af-42d6-89b4-fc8312ca98d7",
   "metadata": {},
   "outputs": [],
   "source": [
    "# num_samples = 10  # Example number of samples\n",
    "# samples = ia.generate_simulated_samples(num_samples)"
   ]
  },
  {
   "cell_type": "markdown",
   "id": "2158ad27-117c-42e3-aa31-4a640037f7a6",
   "metadata": {},
   "source": [
    "Call the new neural network fit method:"
   ]
  },
  {
   "cell_type": "code",
   "execution_count": null,
   "id": "a5b0dc3d-1689-43ed-85c6-f3ef5e7de95a",
   "metadata": {
    "tags": []
   },
   "outputs": [],
   "source": [
    "ia.fit_data_nn(metabolite=metabolite, fit_isotopomers=isotopomers, num_samples=num_samples)"
   ]
  },
  {
   "cell_type": "code",
   "execution_count": null,
   "id": "19540c66-8147-4e49-a360-ba1d13a81a89",
   "metadata": {},
   "outputs": [],
   "source": [
    "sample_data_df = ia.gather_sample_data(metabolite=metabolite, num_samples=num_samples)\n",
    "print(sample_data_df)"
   ]
  },
  {
   "cell_type": "code",
   "execution_count": null,
   "id": "3a698c96-d6dd-47bd-9d49-c71f5df9bcdc",
   "metadata": {
    "tags": []
   },
   "outputs": [],
   "source": [
    "#print(f'Fitted Isotoponers : {ia.fitted_isotopomers[metabolite][exp_index]}\\nFitted Isotopomer %: {ia.fitted_isotopomer_percentages[metabolite][exp_index]}')  "
   ]
  },
  {
   "cell_type": "markdown",
   "id": "59ae55e8-ccfb-4732-ae74-49011f2e1f36",
   "metadata": {},
   "source": [
    "Export data and analysis to Excel spreadsheet:"
   ]
  },
  {
   "cell_type": "code",
   "execution_count": null,
   "id": "ebbf36fb-27de-4b27-adf8-194ec74b7fb8",
   "metadata": {},
   "outputs": [],
   "source": [
    "#ia.export_data('fittedIsotopomerAnalysis.xlsx')"
   ]
  },
  {
   "cell_type": "code",
   "execution_count": null,
   "id": "b9e1cca1-d75a-4aaf-bf2b-0bab826497f5",
   "metadata": {},
   "outputs": [],
   "source": [
    "sample_data_df.to_csv('sample_data.csv', index=False)"
   ]
  },
  {
   "cell_type": "markdown",
   "id": "9bb44fab-4054-465b-8ac8-49d1b9745c3b",
   "metadata": {},
   "source": [
    "## Addressing Overfitting: "
   ]
  },
  {
   "cell_type": "markdown",
   "id": "da1ee47c-dce3-4348-bd71-bed10b5295c8",
   "metadata": {},
   "source": [
    "To prevent overfitting in my neural network model for predicting isotopomer distributions, several strategies will be implemented:\n",
    "\n",
    "- First, I'll use a validation set to monitor the model's performance during training, ensuring it maintains its ability to generalize to unseen data. This involves splitting the data into training and validation sets and using early stopping to halt training when the validation loss stops improving, which helps avoid overfitting by preventing the model from learning noise in the training data. \n",
    " \n",
    "- Additionally, I'll employ dropout layers within the neural network architecture. Dropout randomly deactivates a fraction of neurons during each training step, which forces the network to learn more robust features and reduces reliance on any specific neurons. \n",
    "\n",
    "- Regularization techniques, such as L2 regularization, will be used to penalize large weights, discouraging the model from becoming too complex. \n",
    "\n",
    "- Finally, I will ensure that the model is trained with an adequate amount of data and, if necessary, use data augmentation techniques to artificially increase the diversity of the training dataset, enhancing the model's ability to generalize."
   ]
  },
  {
   "cell_type": "code",
   "execution_count": 5,
   "id": "ae11b44d-a209-4289-9f5c-029ad9722ef0",
   "metadata": {},
   "outputs": [
    {
     "name": "stdout",
     "output_type": "stream",
     "text": [
      "Epoch 1/100\n",
      "\u001b[1m29/29\u001b[0m \u001b[32m━━━━━━━━━━━━━━━━━━━━\u001b[0m\u001b[37m\u001b[0m \u001b[1m1s\u001b[0m 7ms/step - loss: 248.3428 - val_loss: 103.2250 - learning_rate: 0.0010\n",
      "Epoch 2/100\n",
      "\u001b[1m29/29\u001b[0m \u001b[32m━━━━━━━━━━━━━━━━━━━━\u001b[0m\u001b[37m\u001b[0m \u001b[1m0s\u001b[0m 3ms/step - loss: 86.9796 - val_loss: 58.0863 - learning_rate: 0.0010\n",
      "Epoch 3/100\n",
      "\u001b[1m29/29\u001b[0m \u001b[32m━━━━━━━━━━━━━━━━━━━━\u001b[0m\u001b[37m\u001b[0m \u001b[1m0s\u001b[0m 2ms/step - loss: 43.4353 - val_loss: 33.9058 - learning_rate: 0.0010\n",
      "Epoch 4/100\n",
      "\u001b[1m29/29\u001b[0m \u001b[32m━━━━━━━━━━━━━━━━━━━━\u001b[0m\u001b[37m\u001b[0m \u001b[1m0s\u001b[0m 2ms/step - loss: 28.8883 - val_loss: 25.3719 - learning_rate: 0.0010\n",
      "Epoch 5/100\n",
      "\u001b[1m29/29\u001b[0m \u001b[32m━━━━━━━━━━━━━━━━━━━━\u001b[0m\u001b[37m\u001b[0m \u001b[1m0s\u001b[0m 2ms/step - loss: 22.2654 - val_loss: 24.6139 - learning_rate: 0.0010\n",
      "Epoch 6/100\n",
      "\u001b[1m29/29\u001b[0m \u001b[32m━━━━━━━━━━━━━━━━━━━━\u001b[0m\u001b[37m\u001b[0m \u001b[1m0s\u001b[0m 2ms/step - loss: 20.2340 - val_loss: 21.4206 - learning_rate: 0.0010\n",
      "Epoch 7/100\n",
      "\u001b[1m29/29\u001b[0m \u001b[32m━━━━━━━━━━━━━━━━━━━━\u001b[0m\u001b[37m\u001b[0m \u001b[1m0s\u001b[0m 3ms/step - loss: 19.1493 - val_loss: 20.2910 - learning_rate: 0.0010\n",
      "Epoch 8/100\n",
      "\u001b[1m29/29\u001b[0m \u001b[32m━━━━━━━━━━━━━━━━━━━━\u001b[0m\u001b[37m\u001b[0m \u001b[1m0s\u001b[0m 3ms/step - loss: 17.8987 - val_loss: 20.8223 - learning_rate: 0.0010\n",
      "Epoch 9/100\n",
      "\u001b[1m29/29\u001b[0m \u001b[32m━━━━━━━━━━━━━━━━━━━━\u001b[0m\u001b[37m\u001b[0m \u001b[1m0s\u001b[0m 2ms/step - loss: 18.8745 - val_loss: 19.6695 - learning_rate: 0.0010\n",
      "Epoch 10/100\n",
      "\u001b[1m29/29\u001b[0m \u001b[32m━━━━━━━━━━━━━━━━━━━━\u001b[0m\u001b[37m\u001b[0m \u001b[1m0s\u001b[0m 2ms/step - loss: 16.3979 - val_loss: 19.2826 - learning_rate: 0.0010\n",
      "Epoch 11/100\n",
      "\u001b[1m29/29\u001b[0m \u001b[32m━━━━━━━━━━━━━━━━━━━━\u001b[0m\u001b[37m\u001b[0m \u001b[1m0s\u001b[0m 2ms/step - loss: 18.0819 - val_loss: 19.4227 - learning_rate: 9.0484e-04\n",
      "Epoch 12/100\n",
      "\u001b[1m29/29\u001b[0m \u001b[32m━━━━━━━━━━━━━━━━━━━━\u001b[0m\u001b[37m\u001b[0m \u001b[1m0s\u001b[0m 2ms/step - loss: 15.9695 - val_loss: 18.8259 - learning_rate: 8.1873e-04\n",
      "Epoch 13/100\n",
      "\u001b[1m29/29\u001b[0m \u001b[32m━━━━━━━━━━━━━━━━━━━━\u001b[0m\u001b[37m\u001b[0m \u001b[1m0s\u001b[0m 2ms/step - loss: 17.1342 - val_loss: 18.4046 - learning_rate: 7.4082e-04\n",
      "Epoch 14/100\n",
      "\u001b[1m29/29\u001b[0m \u001b[32m━━━━━━━━━━━━━━━━━━━━\u001b[0m\u001b[37m\u001b[0m \u001b[1m0s\u001b[0m 2ms/step - loss: 14.7433 - val_loss: 18.4909 - learning_rate: 6.7032e-04\n",
      "Epoch 15/100\n",
      "\u001b[1m29/29\u001b[0m \u001b[32m━━━━━━━━━━━━━━━━━━━━\u001b[0m\u001b[37m\u001b[0m \u001b[1m0s\u001b[0m 2ms/step - loss: 14.9280 - val_loss: 17.1800 - learning_rate: 6.0653e-04\n",
      "Epoch 16/100\n",
      "\u001b[1m29/29\u001b[0m \u001b[32m━━━━━━━━━━━━━━━━━━━━\u001b[0m\u001b[37m\u001b[0m \u001b[1m0s\u001b[0m 3ms/step - loss: 13.9218 - val_loss: 17.4393 - learning_rate: 5.4881e-04\n",
      "Epoch 17/100\n",
      "\u001b[1m29/29\u001b[0m \u001b[32m━━━━━━━━━━━━━━━━━━━━\u001b[0m\u001b[37m\u001b[0m \u001b[1m0s\u001b[0m 3ms/step - loss: 13.7727 - val_loss: 16.8271 - learning_rate: 4.9659e-04\n",
      "Epoch 18/100\n",
      "\u001b[1m29/29\u001b[0m \u001b[32m━━━━━━━━━━━━━━━━━━━━\u001b[0m\u001b[37m\u001b[0m \u001b[1m0s\u001b[0m 2ms/step - loss: 12.7971 - val_loss: 17.2212 - learning_rate: 4.4933e-04\n",
      "Epoch 19/100\n",
      "\u001b[1m29/29\u001b[0m \u001b[32m━━━━━━━━━━━━━━━━━━━━\u001b[0m\u001b[37m\u001b[0m \u001b[1m0s\u001b[0m 3ms/step - loss: 12.6999 - val_loss: 17.3604 - learning_rate: 4.0657e-04\n",
      "Epoch 20/100\n",
      "\u001b[1m29/29\u001b[0m \u001b[32m━━━━━━━━━━━━━━━━━━━━\u001b[0m\u001b[37m\u001b[0m \u001b[1m0s\u001b[0m 3ms/step - loss: 13.6796 - val_loss: 17.5565 - learning_rate: 3.6788e-04\n",
      "Epoch 21/100\n",
      "\u001b[1m29/29\u001b[0m \u001b[32m━━━━━━━━━━━━━━━━━━━━\u001b[0m\u001b[37m\u001b[0m \u001b[1m0s\u001b[0m 3ms/step - loss: 12.6757 - val_loss: 16.7865 - learning_rate: 3.3287e-04\n",
      "Epoch 22/100\n",
      "\u001b[1m29/29\u001b[0m \u001b[32m━━━━━━━━━━━━━━━━━━━━\u001b[0m\u001b[37m\u001b[0m \u001b[1m0s\u001b[0m 3ms/step - loss: 12.2395 - val_loss: 16.0796 - learning_rate: 3.0119e-04\n",
      "Epoch 23/100\n",
      "\u001b[1m29/29\u001b[0m \u001b[32m━━━━━━━━━━━━━━━━━━━━\u001b[0m\u001b[37m\u001b[0m \u001b[1m0s\u001b[0m 3ms/step - loss: 14.4240 - val_loss: 16.1801 - learning_rate: 2.7253e-04\n",
      "Epoch 24/100\n",
      "\u001b[1m29/29\u001b[0m \u001b[32m━━━━━━━━━━━━━━━━━━━━\u001b[0m\u001b[37m\u001b[0m \u001b[1m0s\u001b[0m 3ms/step - loss: 12.5757 - val_loss: 16.1067 - learning_rate: 2.4660e-04\n",
      "Epoch 25/100\n",
      "\u001b[1m29/29\u001b[0m \u001b[32m━━━━━━━━━━━━━━━━━━━━\u001b[0m\u001b[37m\u001b[0m \u001b[1m0s\u001b[0m 3ms/step - loss: 12.5034 - val_loss: 15.5934 - learning_rate: 2.2313e-04\n",
      "Epoch 26/100\n",
      "\u001b[1m29/29\u001b[0m \u001b[32m━━━━━━━━━━━━━━━━━━━━\u001b[0m\u001b[37m\u001b[0m \u001b[1m0s\u001b[0m 3ms/step - loss: 12.4669 - val_loss: 14.9037 - learning_rate: 2.0190e-04\n",
      "Epoch 27/100\n",
      "\u001b[1m29/29\u001b[0m \u001b[32m━━━━━━━━━━━━━━━━━━━━\u001b[0m\u001b[37m\u001b[0m \u001b[1m0s\u001b[0m 3ms/step - loss: 12.5499 - val_loss: 15.8764 - learning_rate: 1.8268e-04\n",
      "Epoch 28/100\n",
      "\u001b[1m29/29\u001b[0m \u001b[32m━━━━━━━━━━━━━━━━━━━━\u001b[0m\u001b[37m\u001b[0m \u001b[1m0s\u001b[0m 2ms/step - loss: 12.8245 - val_loss: 15.0597 - learning_rate: 1.6530e-04\n",
      "Epoch 29/100\n",
      "\u001b[1m29/29\u001b[0m \u001b[32m━━━━━━━━━━━━━━━━━━━━\u001b[0m\u001b[37m\u001b[0m \u001b[1m0s\u001b[0m 3ms/step - loss: 13.6758 - val_loss: 15.2510 - learning_rate: 1.4957e-04\n",
      "Epoch 30/100\n",
      "\u001b[1m29/29\u001b[0m \u001b[32m━━━━━━━━━━━━━━━━━━━━\u001b[0m\u001b[37m\u001b[0m \u001b[1m0s\u001b[0m 2ms/step - loss: 11.2924 - val_loss: 15.2780 - learning_rate: 1.3534e-04\n",
      "Epoch 31/100\n",
      "\u001b[1m29/29\u001b[0m \u001b[32m━━━━━━━━━━━━━━━━━━━━\u001b[0m\u001b[37m\u001b[0m \u001b[1m0s\u001b[0m 2ms/step - loss: 10.1985 - val_loss: 15.2411 - learning_rate: 1.2246e-04\n",
      "Epoch 32/100\n",
      "\u001b[1m29/29\u001b[0m \u001b[32m━━━━━━━━━━━━━━━━━━━━\u001b[0m\u001b[37m\u001b[0m \u001b[1m0s\u001b[0m 2ms/step - loss: 10.1704 - val_loss: 15.2811 - learning_rate: 1.1080e-04\n",
      "Epoch 33/100\n",
      "\u001b[1m29/29\u001b[0m \u001b[32m━━━━━━━━━━━━━━━━━━━━\u001b[0m\u001b[37m\u001b[0m \u001b[1m0s\u001b[0m 2ms/step - loss: 10.8046 - val_loss: 15.3802 - learning_rate: 1.0026e-04\n",
      "Epoch 34/100\n",
      "\u001b[1m29/29\u001b[0m \u001b[32m━━━━━━━━━━━━━━━━━━━━\u001b[0m\u001b[37m\u001b[0m \u001b[1m0s\u001b[0m 2ms/step - loss: 11.2417 - val_loss: 15.3868 - learning_rate: 9.0718e-05\n",
      "Epoch 35/100\n",
      "\u001b[1m29/29\u001b[0m \u001b[32m━━━━━━━━━━━━━━━━━━━━\u001b[0m\u001b[37m\u001b[0m \u001b[1m0s\u001b[0m 2ms/step - loss: 10.2836 - val_loss: 15.1027 - learning_rate: 8.2085e-05\n",
      "Epoch 36/100\n",
      "\u001b[1m29/29\u001b[0m \u001b[32m━━━━━━━━━━━━━━━━━━━━\u001b[0m\u001b[37m\u001b[0m \u001b[1m0s\u001b[0m 3ms/step - loss: 11.4645 - val_loss: 15.4724 - learning_rate: 7.4274e-05\n",
      "\u001b[1m4/4\u001b[0m \u001b[32m━━━━━━━━━━━━━━━━━━━━\u001b[0m\u001b[37m\u001b[0m \u001b[1m0s\u001b[0m 12ms/step\n",
      "Test Sample True Isotopomer Distribution: [51.2440594   4.14811693 11.10167963  0.          4.9759605   0.\n",
      " 13.7687741  14.76140944]\n",
      "Test Sample Predicted Isotopomer Distribution: [52.37512    4.929516  11.797244   0.         3.2448783  0.\n",
      " 13.145264  14.507979 ]\n"
     ]
    }
   ],
   "source": [
    "import numpy as np\n",
    "import pandas as pd\n",
    "from metabolabpytools import isotopomerAnalysis\n",
    "\n",
    "def generate_isotopomer_percentages():\n",
    "    unlabelled_percentage = np.random.uniform(20, 80)  # Unlabelled percentage between 20% and 80%\n",
    "    remaining_percentage = 100 - unlabelled_percentage\n",
    "    \n",
    "    # Determine which isotopomers are present with a 0.5% chance for each\n",
    "    isotopomer_presence = np.random.rand(7) < 0.5\n",
    "    present_isotopomers = np.sum(isotopomer_presence)\n",
    "    \n",
    "    if present_isotopomers == 0:\n",
    "        # Ensure at least one isotopomer is present if all are zero\n",
    "        isotopomer_presence[np.random.randint(0, 7)] = True\n",
    "        present_isotopomers = 1\n",
    "    \n",
    "    # Generate random percentages for the present isotopomers\n",
    "    random_values = np.random.rand(present_isotopomers)\n",
    "    random_percentages = (random_values / random_values.sum()) * remaining_percentage\n",
    "    \n",
    "    # Initialize all isotopomer percentages to zero\n",
    "    isotopomer_percentages = [0] * 7\n",
    "    # Assign random percentages to the selected isotopomers\n",
    "    random_idx = 0\n",
    "    for i in range(7):\n",
    "        if isotopomer_presence[i]:\n",
    "            isotopomer_percentages[i] = random_percentages[random_idx]\n",
    "            random_idx += 1\n",
    "    \n",
    "    # Combine unlabelled and other isotopomer percentages\n",
    "    percentages = [unlabelled_percentage] + isotopomer_percentages\n",
    "    \n",
    "    return percentages\n",
    "\n",
    "\n",
    "\n",
    "\n",
    "ia = isotopomerAnalysis.IsotopomerAnalysis()\n",
    "\n",
    "# Ensure isotopomers is correctly initialized\n",
    "isotopomers = [\n",
    "    [0, 0, 0],  # Unlabelled\n",
    "    [1, 0, 0],\n",
    "    [0, 1, 0],\n",
    "    [0, 0, 1],\n",
    "    [1, 1, 0],\n",
    "    [1, 0, 1],\n",
    "    [0, 1, 1],\n",
    "    [1, 1, 1]\n",
    "]\n",
    "\n",
    "num_samples = 1000\n",
    "hsqc = [0, 1, 1]\n",
    "metabolite = 'L-LacticAcid'\n",
    "\n",
    "# Initialize the metabolite with multiple samples\n",
    "ia.init_metabolite_multiple_samples(metabolite, hsqc, num_samples=num_samples)\n",
    "\n",
    "# Initialize and set isotopomers for multiple samples\n",
    "generated_percentages = []\n",
    "for exp_index in range(num_samples):\n",
    "    random_percentages = generate_isotopomer_percentages()  # Generate new random percentages for each sample\n",
    "    generated_percentages.append(random_percentages)  # Store generated percentages for comparison\n",
    "    \n",
    "    ia.set_fit_isotopomers_simple(metabolite=metabolite, isotopomers=isotopomers, percentages=random_percentages, exp_index=exp_index)\n",
    "    ia.sim_hsqc_data(metabolite=metabolite, exp_index=exp_index, isotopomers=isotopomers, percentages=random_percentages)\n",
    "    ia.sim_gcms_data(metabolite, exp_index)\n",
    "\n",
    "ia.use_hsqc_multiplet_data = True\n",
    "ia.use_gcms_data = True\n",
    "ia.use_nmr1d_data = False\n",
    "\n",
    "\n",
    "# Fit data using neural network with multiple samples\n",
    "ia.fit_data_nn(metabolite=metabolite, fit_isotopomers=isotopomers, percentages = generated_percentages, num_samples=num_samples)"
   ]
  },
  {
   "cell_type": "code",
   "execution_count": null,
   "id": "4b67e108-b316-4020-b268-eb589d1ef5d1",
   "metadata": {},
   "outputs": [],
   "source": [
    "# # #Gather data for all samples and export to a CSV file\n",
    "# sample_data_df = ia.gather_sample_data(metabolite=metabolite, num_samples=num_samples)\n",
    "\n",
    "# # # Add generated percentages to the DataFrame for comparison\n",
    "# sample_data_df['Generated Isotopomer Percentages'] = generated_percentages\n",
    "\n",
    "# # #print(sample_data_df)\n",
    "\n",
    "# # # Export to CSV\n",
    "# sample_data_df.to_csv('sample_data.csv', index=False)"
   ]
  },
  {
   "cell_type": "markdown",
   "id": "2ba89919-6e45-4c8d-94fd-ff78c0666ef9",
   "metadata": {},
   "source": [
    "Next step, adding Hyperparameter tuning for increased accuracy:"
   ]
  },
  {
   "cell_type": "code",
   "execution_count": null,
   "id": "5ea2bffd-c931-4bf9-91fb-e16e83852f2f",
   "metadata": {},
   "outputs": [],
   "source": [
    "# Fit data using neural network with multiple samples\n",
    "ia.fit_data_nn_new(metabolite=metabolite, fit_isotopomers=isotopomers, percentages = generated_percentages, num_samples=num_samples)"
   ]
  }
 ],
 "metadata": {
  "kernelspec": {
   "display_name": "Python 3 (ipykernel)",
   "language": "python",
   "name": "python3"
  },
  "language_info": {
   "codemirror_mode": {
    "name": "ipython",
    "version": 3
   },
   "file_extension": ".py",
   "mimetype": "text/x-python",
   "name": "python",
   "nbconvert_exporter": "python",
   "pygments_lexer": "ipython3",
   "version": "3.12.3"
  }
 },
 "nbformat": 4,
 "nbformat_minor": 5
}
