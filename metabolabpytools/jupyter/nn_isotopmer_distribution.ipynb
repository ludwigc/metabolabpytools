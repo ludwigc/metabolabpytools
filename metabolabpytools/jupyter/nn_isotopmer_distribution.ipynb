{
 "cells": [
  {
   "cell_type": "markdown",
   "id": "ba6571f1-30e3-46ff-9842-f8d34a0da0cb",
   "metadata": {},
   "source": [
    "# Random Data Simulation and Fitting Using Neural Network"
   ]
  },
  {
   "cell_type": "markdown",
   "id": "d6808647-bca8-4696-8ed9-676cdb0934ca",
   "metadata": {
    "tags": []
   },
   "source": [
    "### _Simulation of random data:_"
   ]
  },
  {
   "cell_type": "markdown",
   "id": "18e340f9-8402-4b5c-a418-cd47c2aa5445",
   "metadata": {},
   "source": [
    "Import necessary packages:"
   ]
  },
  {
   "cell_type": "code",
   "execution_count": null,
   "id": "9f8aac1e-995b-47ad-9140-7789421bdda5",
   "metadata": {
    "tags": []
   },
   "outputs": [],
   "source": [
    "from metabolabpytools import isotopomerAnalysis\n",
    "import numpy as np\n",
    "import tensorflow as tf\n",
    "from tensorflow.keras.models import Sequential\n",
    "from tensorflow.keras.layers import Dense\n",
    "import copy"
   ]
  },
  {
   "cell_type": "markdown",
   "id": "8d2c1245-c6a1-4306-87c4-61913d597421",
   "metadata": {},
   "source": [
    "Function to generate random percentages summing to 100%:"
   ]
  },
  {
   "cell_type": "code",
   "execution_count": null,
   "id": "9d48eb56-bee8-47b2-8b49-e3db69188f43",
   "metadata": {
    "tags": []
   },
   "outputs": [],
   "source": [
    "def generate_isotopomer_percentages():\n",
    "    unlabelled_percentage = np.random.uniform(20, 80)  # Unlabelled percentage between 20% and 80%\n",
    "    remaining_percentage = 100 - unlabelled_percentage\n",
    "    \n",
    "    # Generate random percentages for the remaining 7 isotopomers\n",
    "    random_values = np.random.rand(7)\n",
    "    random_percentages = (random_values / random_values.sum()) * remaining_percentage\n",
    "    \n",
    "    # Combine unlabelled and other isotopomer percentages\n",
    "    percentages = [unlabelled_percentage] + list(random_percentages)\n",
    "    \n",
    "    return percentages"
   ]
  },
  {
   "cell_type": "markdown",
   "id": "183940de-2de3-406a-99a6-c913f85d4d38",
   "metadata": {},
   "source": [
    "Create an isotopomerAnalysis object:"
   ]
  },
  {
   "cell_type": "code",
   "execution_count": null,
   "id": "892c7bc2-3c50-468f-9679-52f222be98a8",
   "metadata": {
    "tags": []
   },
   "outputs": [],
   "source": [
    "ia = isotopomerAnalysis.IsotopomerAnalysis()"
   ]
  },
  {
   "cell_type": "markdown",
   "id": "93ad61b0-1980-4765-8378-8f59a305e7a7",
   "metadata": {},
   "source": [
    "Define metabolite parameters:"
   ]
  },
  {
   "cell_type": "code",
   "execution_count": null,
   "id": "d1625aa1-ede0-4dec-8e07-51e2e8d016c8",
   "metadata": {
    "tags": []
   },
   "outputs": [],
   "source": [
    "isotopomers = [\n",
    "    [0, 0, 0],   \n",
    "    [1, 0, 0],\n",
    "    [0, 1, 0],\n",
    "    [0, 0, 1],\n",
    "    [1, 1, 0],\n",
    "    [1, 0, 1],\n",
    "    [0, 1, 1],\n",
    "    [1, 1, 1]\n",
    "]\n",
    "\n",
    "print(f\"Initial isotopomers: {isotopomers}\")\n",
    "#random_percentages = generate_isotopomer_percentages()\n",
    "# print(random_percentages)\n",
    "hsqc = [0,1,1]\n",
    "metabolite = 'L-LacticAcid'\n",
    "num_samples = 10\n"
   ]
  },
  {
   "cell_type": "code",
   "execution_count": null,
   "id": "8c6d7f4b-9187-435f-8e34-238e93055c07",
   "metadata": {},
   "outputs": [],
   "source": [
    "ia.init_metabolite_multiple_samples(metabolite, hsqc, num_samples=num_samples)"
   ]
  },
  {
   "cell_type": "code",
   "execution_count": null,
   "id": "592f0cf6-b27a-41e6-9473-7a149316758f",
   "metadata": {},
   "outputs": [],
   "source": [
    "print(f\"Metabolites: {ia.metabolites}\")\n",
    "print(f\"Initial Isotopomer Percentages: {ia.isotopomer_percentages}\")"
   ]
  },
  {
   "cell_type": "markdown",
   "id": "b226e84e-bdd8-4943-8796-fa818c51099e",
   "metadata": {},
   "source": [
    "Initialising and set isoptomers for multiple samples:"
   ]
  },
  {
   "cell_type": "code",
   "execution_count": null,
   "id": "6c347e59-9321-46c2-8401-83bf22368133",
   "metadata": {},
   "outputs": [],
   "source": [
    "generated_percentages = []\n",
    "for exp_index in range(num_samples):\n",
    "    random_percentages = generate_isotopomer_percentages()  # Generate new random percentages for each sample\n",
    "    # print(f\"Generated percentages for sample {exp_index}: {random_percentages}\")\n",
    "    generated_percentages.append(random_percentages)  # Store generated percentages for comparison\n",
    "    \n",
    "    # Deep copy isotopomers for each iteration to ensure it is not modified\n",
    "    isotopomers_copy = copy.deepcopy(isotopomers)\n",
    "    \n",
    "    # Debug prints before setting fit isotopomers\n",
    "    # print(f\"Before set_fit_isotopomers call for exp_index {exp_index}:\")\n",
    "    # print(f\"Metabolite: {metabolite}\")\n",
    "    # print(f\"Isotopomers: {isotopomers_copy}\")\n",
    "    # print(f\"Percentages: {random_percentages}\")\n",
    "    # print(f\"Exp Index: {exp_index}\")\n",
    "    \n",
    "    # Ensure isotopomers_copy is not empty\n",
    "    if len(isotopomers_copy) == 0:\n",
    "        print(f\"Error: Isotopomers is empty for exp_index {exp_index}\")\n",
    "\n",
    "    ia.set_fit_isotopomers_simple(metabolite=metabolite, isotopomers=isotopomers, percentages=random_percentages, exp_index=exp_index)\n",
    "    ia.sim_hsqc_data(metabolite=metabolite, exp_index=exp_index, isotopomers=isotopomers, percentages=random_percentages)\n",
    "    ia.sim_gcms_data(metabolite, exp_index)"
   ]
  },
  {
   "cell_type": "markdown",
   "id": "78523380-aa4a-4a4d-92aa-117c0ab860ef",
   "metadata": {},
   "source": [
    "Initialise isotopomerAnalysis object with selected data:"
   ]
  },
  {
   "cell_type": "code",
   "execution_count": null,
   "id": "4c63826b-7b3c-4a4a-a590-11cb64f620dc",
   "metadata": {
    "tags": []
   },
   "outputs": [],
   "source": [
    "#ia.init_metabolite(metabolite, hsqc)\n",
    "#ia.set_fit_isotopomers(metabolite=metabolite, isotopomers=isotopomers, percentages=random_percentages)"
   ]
  },
  {
   "cell_type": "code",
   "execution_count": null,
   "id": "77baf227-0b66-4a80-8482-470582923dfe",
   "metadata": {
    "tags": []
   },
   "outputs": [],
   "source": [
    "#print(f'Isotopomers : {ia.fit_isotopomers[metabolite]}\\nIsotopomer %: {ia.isotopomer_percentages[metabolite]}')"
   ]
  },
  {
   "cell_type": "markdown",
   "id": "c5523f4f-fc39-494f-95a9-3cfb00258579",
   "metadata": {},
   "source": [
    "Simulate HSQC data:"
   ]
  },
  {
   "cell_type": "code",
   "execution_count": null,
   "id": "e1c670cc-f433-4fd5-9100-3437a97c0576",
   "metadata": {
    "tags": []
   },
   "outputs": [],
   "source": [
    "#ia.sim_hsqc_data(metabolite=metabolite, exp_index=exp_index, isotopomers=isotopomers, percentages=random_percentages)"
   ]
  },
  {
   "cell_type": "code",
   "execution_count": null,
   "id": "d057b29c-722a-4e43-bae4-6d87d6bee885",
   "metadata": {
    "tags": []
   },
   "outputs": [],
   "source": [
    "# print(f'HSQC Multiplets: {ia.exp_multiplets[metabolite][exp_index]}')\n",
    "#print(f'Multiplet percentages: {ia.exp_multiplet_percentages[metabolite][exp_index]}')"
   ]
  },
  {
   "cell_type": "markdown",
   "id": "ebfcec8f-533c-481f-b449-63a53ef28825",
   "metadata": {},
   "source": [
    "Simulate GC-MS data:"
   ]
  },
  {
   "cell_type": "code",
   "execution_count": null,
   "id": "4af64c03-83c9-42d0-96f8-414994b664ab",
   "metadata": {
    "tags": []
   },
   "outputs": [],
   "source": [
    "#ia.sim_gcms_data(metabolite, exp_index)"
   ]
  },
  {
   "cell_type": "code",
   "execution_count": null,
   "id": "72b0a679-19f7-453e-bf64-1c0681e02cab",
   "metadata": {
    "tags": []
   },
   "outputs": [],
   "source": [
    "#ia.exp_gcms[metabolite][exp_index]"
   ]
  },
  {
   "cell_type": "markdown",
   "id": "8b01264c-cda6-4ed3-b187-5e0b92f1b62d",
   "metadata": {},
   "source": [
    "### _Fitting to simulated data using basic neural network:_"
   ]
  },
  {
   "cell_type": "markdown",
   "id": "04bf3206-a948-4405-80ce-f6cabdff28d9",
   "metadata": {},
   "source": [
    "Use only HSQC multiplets and GC-MS data for analysis:"
   ]
  },
  {
   "cell_type": "code",
   "execution_count": null,
   "id": "9f7c3bc7-7ee5-4dd2-b0fb-87cdcc936717",
   "metadata": {
    "tags": []
   },
   "outputs": [],
   "source": [
    "ia.use_hsqc_multiplet_data = True\n",
    "ia.use_gcms_data = True\n",
    "ia.use_nmr1d_data = False"
   ]
  },
  {
   "cell_type": "markdown",
   "id": "85028112-5a41-45b9-95d3-047cbb1b1db7",
   "metadata": {},
   "source": [
    "Generate multiple samples:"
   ]
  },
  {
   "cell_type": "code",
   "execution_count": null,
   "id": "6950fc7f-41af-42d6-89b4-fc8312ca98d7",
   "metadata": {},
   "outputs": [],
   "source": [
    "# num_samples = 10  # Example number of samples\n",
    "# samples = ia.generate_simulated_samples(num_samples)"
   ]
  },
  {
   "cell_type": "markdown",
   "id": "2158ad27-117c-42e3-aa31-4a640037f7a6",
   "metadata": {},
   "source": [
    "Call the new neural network fit method:"
   ]
  },
  {
   "cell_type": "code",
   "execution_count": null,
   "id": "a5b0dc3d-1689-43ed-85c6-f3ef5e7de95a",
   "metadata": {
    "tags": []
   },
   "outputs": [],
   "source": [
    "ia.fit_data_nn(metabolite=metabolite, fit_isotopomers=isotopomers, num_samples=num_samples)"
   ]
  },
  {
   "cell_type": "code",
   "execution_count": null,
   "id": "19540c66-8147-4e49-a360-ba1d13a81a89",
   "metadata": {},
   "outputs": [],
   "source": [
    "sample_data_df = ia.gather_sample_data(metabolite=metabolite, num_samples=num_samples)\n",
    "print(sample_data_df)"
   ]
  },
  {
   "cell_type": "code",
   "execution_count": null,
   "id": "3a698c96-d6dd-47bd-9d49-c71f5df9bcdc",
   "metadata": {
    "tags": []
   },
   "outputs": [],
   "source": [
    "#print(f'Fitted Isotoponers : {ia.fitted_isotopomers[metabolite][exp_index]}\\nFitted Isotopomer %: {ia.fitted_isotopomer_percentages[metabolite][exp_index]}')  "
   ]
  },
  {
   "cell_type": "markdown",
   "id": "59ae55e8-ccfb-4732-ae74-49011f2e1f36",
   "metadata": {},
   "source": [
    "Export data and analysis to Excel spreadsheet:"
   ]
  },
  {
   "cell_type": "code",
   "execution_count": null,
   "id": "ebbf36fb-27de-4b27-adf8-194ec74b7fb8",
   "metadata": {},
   "outputs": [],
   "source": [
    "#ia.export_data('fittedIsotopomerAnalysis.xlsx')"
   ]
  },
  {
   "cell_type": "code",
   "execution_count": null,
   "id": "b9e1cca1-d75a-4aaf-bf2b-0bab826497f5",
   "metadata": {},
   "outputs": [],
   "source": [
    "sample_data_df.to_csv('sample_data.csv', index=False)"
   ]
  },
  {
   "cell_type": "markdown",
   "id": "9bb44fab-4054-465b-8ac8-49d1b9745c3b",
   "metadata": {},
   "source": [
    "## Addressing Overfitting: "
   ]
  },
  {
   "cell_type": "markdown",
   "id": "da1ee47c-dce3-4348-bd71-bed10b5295c8",
   "metadata": {},
   "source": [
    "To prevent overfitting in my neural network model for predicting isotopomer distributions, several strategies will be implemented:\n",
    "\n",
    "- First, I'll use a validation set to monitor the model's performance during training, ensuring it maintains its ability to generalize to unseen data. This involves splitting the data into training and validation sets and using early stopping to halt training when the validation loss stops improving, which helps avoid overfitting by preventing the model from learning noise in the training data. \n",
    " \n",
    "- Additionally, I'll employ dropout layers within the neural network architecture. Dropout randomly deactivates a fraction of neurons during each training step, which forces the network to learn more robust features and reduces reliance on any specific neurons. \n",
    "\n",
    "- Regularization techniques, such as L2 regularization, will be used to penalize large weights, discouraging the model from becoming too complex. \n",
    "\n",
    "- Finally, I will ensure that the model is trained with an adequate amount of data and, if necessary, use data augmentation techniques to artificially increase the diversity of the training dataset, enhancing the model's ability to generalize."
   ]
  },
  {
   "cell_type": "code",
   "execution_count": null,
   "id": "ae11b44d-a209-4289-9f5c-029ad9722ef0",
   "metadata": {},
   "outputs": [],
   "source": [
    "import numpy as np\n",
    "import pandas as pd\n",
    "from metabolabpytools import isotopomerAnalysis\n",
    "\n",
    "def generate_isotopomer_percentages():\n",
    "    unlabelled_percentage = np.random.uniform(20, 80)  # Unlabelled percentage between 20% and 80%\n",
    "    remaining_percentage = 100 - unlabelled_percentage\n",
    "    \n",
    "    # Determine which isotopomers are present with a 0.5% chance for each\n",
    "    isotopomer_presence = np.random.rand(7) < 0.5\n",
    "    present_isotopomers = np.sum(isotopomer_presence)\n",
    "    \n",
    "    if present_isotopomers == 0:\n",
    "        # Ensure at least one isotopomer is present if all are zero\n",
    "        isotopomer_presence[np.random.randint(0, 7)] = True\n",
    "        present_isotopomers = 1\n",
    "    \n",
    "    # Generate random percentages for the present isotopomers\n",
    "    random_values = np.random.rand(present_isotopomers)\n",
    "    random_percentages = (random_values / random_values.sum()) * remaining_percentage\n",
    "    \n",
    "    # Initialize all isotopomer percentages to zero\n",
    "    isotopomer_percentages = [0] * 7\n",
    "    # Assign random percentages to the selected isotopomers\n",
    "    random_idx = 0\n",
    "    for i in range(7):\n",
    "        if isotopomer_presence[i]:\n",
    "            isotopomer_percentages[i] = random_percentages[random_idx]\n",
    "            random_idx += 1\n",
    "    \n",
    "    # Combine unlabelled and other isotopomer percentages\n",
    "    percentages = [unlabelled_percentage] + isotopomer_percentages\n",
    "    \n",
    "    return percentages\n",
    "\n",
    "\n",
    "\n",
    "\n",
    "ia = isotopomerAnalysis.IsotopomerAnalysis()\n",
    "\n",
    "# Ensure isotopomers is correctly initialized\n",
    "isotopomers = [\n",
    "    [0, 0, 0],  # Unlabelled\n",
    "    [1, 0, 0],\n",
    "    [0, 1, 0],\n",
    "    [0, 0, 1],\n",
    "    [1, 1, 0],\n",
    "    [1, 0, 1],\n",
    "    [0, 1, 1],\n",
    "    [1, 1, 1]\n",
    "]\n",
    "\n",
    "num_samples = 1000\n",
    "hsqc = [0, 1, 1]\n",
    "metabolite = 'L-LacticAcid'\n",
    "\n",
    "# Initialize the metabolite with multiple samples\n",
    "ia.init_metabolite_multiple_samples(metabolite, hsqc, num_samples=num_samples)\n",
    "\n",
    "# Initialize and set isotopomers for multiple samples\n",
    "generated_percentages = []\n",
    "for exp_index in range(num_samples):\n",
    "    random_percentages = generate_isotopomer_percentages()  # Generate new random percentages for each sample\n",
    "    generated_percentages.append(random_percentages)  # Store generated percentages for comparison\n",
    "    \n",
    "    ia.set_fit_isotopomers_simple(metabolite=metabolite, isotopomers=isotopomers, percentages=random_percentages, exp_index=exp_index)\n",
    "    ia.sim_hsqc_data(metabolite=metabolite, exp_index=exp_index, isotopomers=isotopomers, percentages=random_percentages)\n",
    "    ia.sim_gcms_data(metabolite, exp_index)\n",
    "\n",
    "ia.use_hsqc_multiplet_data = True\n",
    "ia.use_gcms_data = True\n",
    "ia.use_nmr1d_data = False\n",
    "\n",
    "\n",
    "# Fit data using neural network with multiple samples\n",
    "ia.fit_data_nn(metabolite=metabolite, fit_isotopomers=isotopomers, percentages = generated_percentages, num_samples=num_samples)"
   ]
  },
  {
   "cell_type": "code",
   "execution_count": null,
   "id": "4b67e108-b316-4020-b268-eb589d1ef5d1",
   "metadata": {},
   "outputs": [],
   "source": [
    "# # #Gather data for all samples and export to a CSV file\n",
    "# sample_data_df = ia.gather_sample_data(metabolite=metabolite, num_samples=num_samples)\n",
    "\n",
    "# # # Add generated percentages to the DataFrame for comparison\n",
    "# sample_data_df['Generated Isotopomer Percentages'] = generated_percentages\n",
    "\n",
    "# # #print(sample_data_df)\n",
    "\n",
    "# # # Export to CSV\n",
    "# sample_data_df.to_csv('sample_data.csv', index=False)"
   ]
  },
  {
   "cell_type": "markdown",
   "id": "2ba89919-6e45-4c8d-94fd-ff78c0666ef9",
   "metadata": {},
   "source": [
    "Next step, adding Hyperparameter tuning for increased accuracy:"
   ]
  },
  {
   "cell_type": "code",
   "execution_count": 4,
   "id": "5ea2bffd-c931-4bf9-91fb-e16e83852f2f",
   "metadata": {},
   "outputs": [
    {
     "name": "stdout",
     "output_type": "stream",
     "text": [
      "Reloading Tuner from my_dir\\isotopomer_analysis\\tuner0.json\n",
      "Epoch 1/100\n"
     ]
    },
    {
     "name": "stderr",
     "output_type": "stream",
     "text": [
      "C:\\Users\\raath\\metabolabpytools\\venv\\Lib\\site-packages\\keras\\src\\layers\\core\\dense.py:87: UserWarning: Do not pass an `input_shape`/`input_dim` argument to a layer. When using Sequential models, prefer using an `Input(shape)` object as the first layer in the model instead.\n",
      "  super().__init__(activity_regularizer=activity_regularizer, **kwargs)\n"
     ]
    },
    {
     "name": "stdout",
     "output_type": "stream",
     "text": [
      "\u001b[1m29/29\u001b[0m \u001b[32m━━━━━━━━━━━━━━━━━━━━\u001b[0m\u001b[37m\u001b[0m \u001b[1m1s\u001b[0m 8ms/step - loss: 203.0206 - val_loss: 67.9854\n",
      "Epoch 2/100\n",
      "\u001b[1m29/29\u001b[0m \u001b[32m━━━━━━━━━━━━━━━━━━━━\u001b[0m\u001b[37m\u001b[0m \u001b[1m0s\u001b[0m 3ms/step - loss: 75.6615 - val_loss: 50.9296\n",
      "Epoch 3/100\n",
      "\u001b[1m29/29\u001b[0m \u001b[32m━━━━━━━━━━━━━━━━━━━━\u001b[0m\u001b[37m\u001b[0m \u001b[1m0s\u001b[0m 3ms/step - loss: 52.2231 - val_loss: 30.8194\n",
      "Epoch 4/100\n",
      "\u001b[1m29/29\u001b[0m \u001b[32m━━━━━━━━━━━━━━━━━━━━\u001b[0m\u001b[37m\u001b[0m \u001b[1m0s\u001b[0m 3ms/step - loss: 32.9978 - val_loss: 26.7417\n",
      "Epoch 5/100\n",
      "\u001b[1m29/29\u001b[0m \u001b[32m━━━━━━━━━━━━━━━━━━━━\u001b[0m\u001b[37m\u001b[0m \u001b[1m0s\u001b[0m 3ms/step - loss: 30.5231 - val_loss: 26.1930\n",
      "Epoch 6/100\n",
      "\u001b[1m29/29\u001b[0m \u001b[32m━━━━━━━━━━━━━━━━━━━━\u001b[0m\u001b[37m\u001b[0m \u001b[1m0s\u001b[0m 3ms/step - loss: 30.7231 - val_loss: 25.6604\n",
      "Epoch 7/100\n",
      "\u001b[1m29/29\u001b[0m \u001b[32m━━━━━━━━━━━━━━━━━━━━\u001b[0m\u001b[37m\u001b[0m \u001b[1m0s\u001b[0m 3ms/step - loss: 33.7963 - val_loss: 24.8779\n",
      "Epoch 8/100\n",
      "\u001b[1m29/29\u001b[0m \u001b[32m━━━━━━━━━━━━━━━━━━━━\u001b[0m\u001b[37m\u001b[0m \u001b[1m0s\u001b[0m 3ms/step - loss: 29.3556 - val_loss: 24.6105\n",
      "Epoch 9/100\n",
      "\u001b[1m29/29\u001b[0m \u001b[32m━━━━━━━━━━━━━━━━━━━━\u001b[0m\u001b[37m\u001b[0m \u001b[1m0s\u001b[0m 3ms/step - loss: 29.6449 - val_loss: 24.0761\n",
      "Epoch 10/100\n",
      "\u001b[1m29/29\u001b[0m \u001b[32m━━━━━━━━━━━━━━━━━━━━\u001b[0m\u001b[37m\u001b[0m \u001b[1m0s\u001b[0m 2ms/step - loss: 26.5713 - val_loss: 23.9778\n",
      "Epoch 11/100\n",
      "\u001b[1m29/29\u001b[0m \u001b[32m━━━━━━━━━━━━━━━━━━━━\u001b[0m\u001b[37m\u001b[0m \u001b[1m0s\u001b[0m 4ms/step - loss: 28.9927 - val_loss: 24.2775\n",
      "Epoch 12/100\n",
      "\u001b[1m29/29\u001b[0m \u001b[32m━━━━━━━━━━━━━━━━━━━━\u001b[0m\u001b[37m\u001b[0m \u001b[1m0s\u001b[0m 3ms/step - loss: 25.1880 - val_loss: 25.5127\n",
      "Epoch 13/100\n",
      "\u001b[1m29/29\u001b[0m \u001b[32m━━━━━━━━━━━━━━━━━━━━\u001b[0m\u001b[37m\u001b[0m \u001b[1m0s\u001b[0m 2ms/step - loss: 29.8476 - val_loss: 23.8356\n",
      "Epoch 14/100\n",
      "\u001b[1m29/29\u001b[0m \u001b[32m━━━━━━━━━━━━━━━━━━━━\u001b[0m\u001b[37m\u001b[0m \u001b[1m0s\u001b[0m 3ms/step - loss: 28.5126 - val_loss: 25.0616\n",
      "Epoch 15/100\n",
      "\u001b[1m29/29\u001b[0m \u001b[32m━━━━━━━━━━━━━━━━━━━━\u001b[0m\u001b[37m\u001b[0m \u001b[1m0s\u001b[0m 3ms/step - loss: 29.9400 - val_loss: 25.4608\n",
      "Epoch 16/100\n",
      "\u001b[1m29/29\u001b[0m \u001b[32m━━━━━━━━━━━━━━━━━━━━\u001b[0m\u001b[37m\u001b[0m \u001b[1m0s\u001b[0m 3ms/step - loss: 29.5085 - val_loss: 23.2636\n",
      "Epoch 17/100\n",
      "\u001b[1m29/29\u001b[0m \u001b[32m━━━━━━━━━━━━━━━━━━━━\u001b[0m\u001b[37m\u001b[0m \u001b[1m0s\u001b[0m 3ms/step - loss: 27.3710 - val_loss: 26.7799\n",
      "Epoch 18/100\n",
      "\u001b[1m29/29\u001b[0m \u001b[32m━━━━━━━━━━━━━━━━━━━━\u001b[0m\u001b[37m\u001b[0m \u001b[1m0s\u001b[0m 3ms/step - loss: 30.1286 - val_loss: 24.4540\n",
      "Epoch 19/100\n",
      "\u001b[1m29/29\u001b[0m \u001b[32m━━━━━━━━━━━━━━━━━━━━\u001b[0m\u001b[37m\u001b[0m \u001b[1m0s\u001b[0m 3ms/step - loss: 26.7977 - val_loss: 22.9066\n",
      "Epoch 20/100\n",
      "\u001b[1m29/29\u001b[0m \u001b[32m━━━━━━━━━━━━━━━━━━━━\u001b[0m\u001b[37m\u001b[0m \u001b[1m0s\u001b[0m 2ms/step - loss: 26.2526 - val_loss: 22.7191\n",
      "Epoch 21/100\n",
      "\u001b[1m29/29\u001b[0m \u001b[32m━━━━━━━━━━━━━━━━━━━━\u001b[0m\u001b[37m\u001b[0m \u001b[1m0s\u001b[0m 3ms/step - loss: 24.6208 - val_loss: 23.3771\n",
      "Epoch 22/100\n",
      "\u001b[1m29/29\u001b[0m \u001b[32m━━━━━━━━━━━━━━━━━━━━\u001b[0m\u001b[37m\u001b[0m \u001b[1m0s\u001b[0m 3ms/step - loss: 25.5563 - val_loss: 22.7652\n",
      "Epoch 23/100\n",
      "\u001b[1m29/29\u001b[0m \u001b[32m━━━━━━━━━━━━━━━━━━━━\u001b[0m\u001b[37m\u001b[0m \u001b[1m0s\u001b[0m 3ms/step - loss: 27.0970 - val_loss: 22.7160\n",
      "Epoch 24/100\n",
      "\u001b[1m29/29\u001b[0m \u001b[32m━━━━━━━━━━━━━━━━━━━━\u001b[0m\u001b[37m\u001b[0m \u001b[1m0s\u001b[0m 3ms/step - loss: 27.0977 - val_loss: 23.6310\n",
      "Epoch 25/100\n",
      "\u001b[1m29/29\u001b[0m \u001b[32m━━━━━━━━━━━━━━━━━━━━\u001b[0m\u001b[37m\u001b[0m \u001b[1m0s\u001b[0m 3ms/step - loss: 26.0327 - val_loss: 22.6265\n",
      "Epoch 26/100\n",
      "\u001b[1m29/29\u001b[0m \u001b[32m━━━━━━━━━━━━━━━━━━━━\u001b[0m\u001b[37m\u001b[0m \u001b[1m0s\u001b[0m 3ms/step - loss: 26.5592 - val_loss: 22.6875\n",
      "Epoch 27/100\n",
      "\u001b[1m29/29\u001b[0m \u001b[32m━━━━━━━━━━━━━━━━━━━━\u001b[0m\u001b[37m\u001b[0m \u001b[1m0s\u001b[0m 4ms/step - loss: 27.9195 - val_loss: 22.8022\n",
      "Epoch 28/100\n",
      "\u001b[1m29/29\u001b[0m \u001b[32m━━━━━━━━━━━━━━━━━━━━\u001b[0m\u001b[37m\u001b[0m \u001b[1m0s\u001b[0m 3ms/step - loss: 25.1193 - val_loss: 22.6480\n",
      "Epoch 29/100\n",
      "\u001b[1m29/29\u001b[0m \u001b[32m━━━━━━━━━━━━━━━━━━━━\u001b[0m\u001b[37m\u001b[0m \u001b[1m0s\u001b[0m 3ms/step - loss: 28.1171 - val_loss: 22.5743\n",
      "Epoch 30/100\n",
      "\u001b[1m29/29\u001b[0m \u001b[32m━━━━━━━━━━━━━━━━━━━━\u001b[0m\u001b[37m\u001b[0m \u001b[1m0s\u001b[0m 3ms/step - loss: 27.3767 - val_loss: 23.4276\n",
      "Epoch 31/100\n",
      "\u001b[1m29/29\u001b[0m \u001b[32m━━━━━━━━━━━━━━━━━━━━\u001b[0m\u001b[37m\u001b[0m \u001b[1m0s\u001b[0m 3ms/step - loss: 28.9865 - val_loss: 22.9643\n",
      "Epoch 32/100\n",
      "\u001b[1m29/29\u001b[0m \u001b[32m━━━━━━━━━━━━━━━━━━━━\u001b[0m\u001b[37m\u001b[0m \u001b[1m0s\u001b[0m 3ms/step - loss: 27.2761 - val_loss: 22.4065\n",
      "Epoch 33/100\n",
      "\u001b[1m29/29\u001b[0m \u001b[32m━━━━━━━━━━━━━━━━━━━━\u001b[0m\u001b[37m\u001b[0m \u001b[1m0s\u001b[0m 2ms/step - loss: 25.5056 - val_loss: 23.2619\n",
      "Epoch 34/100\n",
      "\u001b[1m29/29\u001b[0m \u001b[32m━━━━━━━━━━━━━━━━━━━━\u001b[0m\u001b[37m\u001b[0m \u001b[1m0s\u001b[0m 3ms/step - loss: 26.7110 - val_loss: 22.2767\n",
      "Epoch 35/100\n",
      "\u001b[1m29/29\u001b[0m \u001b[32m━━━━━━━━━━━━━━━━━━━━\u001b[0m\u001b[37m\u001b[0m \u001b[1m0s\u001b[0m 3ms/step - loss: 24.2430 - val_loss: 24.2902\n",
      "Epoch 36/100\n",
      "\u001b[1m29/29\u001b[0m \u001b[32m━━━━━━━━━━━━━━━━━━━━\u001b[0m\u001b[37m\u001b[0m \u001b[1m0s\u001b[0m 3ms/step - loss: 27.2876 - val_loss: 22.1804\n",
      "Epoch 37/100\n",
      "\u001b[1m29/29\u001b[0m \u001b[32m━━━━━━━━━━━━━━━━━━━━\u001b[0m\u001b[37m\u001b[0m \u001b[1m0s\u001b[0m 3ms/step - loss: 26.7745 - val_loss: 22.3247\n",
      "Epoch 38/100\n",
      "\u001b[1m29/29\u001b[0m \u001b[32m━━━━━━━━━━━━━━━━━━━━\u001b[0m\u001b[37m\u001b[0m \u001b[1m0s\u001b[0m 2ms/step - loss: 23.9238 - val_loss: 22.2138\n",
      "Epoch 39/100\n",
      "\u001b[1m29/29\u001b[0m \u001b[32m━━━━━━━━━━━━━━━━━━━━\u001b[0m\u001b[37m\u001b[0m \u001b[1m0s\u001b[0m 3ms/step - loss: 27.2091 - val_loss: 22.5804\n",
      "Epoch 40/100\n",
      "\u001b[1m29/29\u001b[0m \u001b[32m━━━━━━━━━━━━━━━━━━━━\u001b[0m\u001b[37m\u001b[0m \u001b[1m0s\u001b[0m 2ms/step - loss: 24.7620 - val_loss: 22.4646\n",
      "Epoch 41/100\n",
      "\u001b[1m29/29\u001b[0m \u001b[32m━━━━━━━━━━━━━━━━━━━━\u001b[0m\u001b[37m\u001b[0m \u001b[1m0s\u001b[0m 3ms/step - loss: 25.5418 - val_loss: 22.0438\n",
      "Epoch 42/100\n",
      "\u001b[1m29/29\u001b[0m \u001b[32m━━━━━━━━━━━━━━━━━━━━\u001b[0m\u001b[37m\u001b[0m \u001b[1m0s\u001b[0m 3ms/step - loss: 27.3200 - val_loss: 21.6967\n",
      "Epoch 43/100\n",
      "\u001b[1m29/29\u001b[0m \u001b[32m━━━━━━━━━━━━━━━━━━━━\u001b[0m\u001b[37m\u001b[0m \u001b[1m0s\u001b[0m 3ms/step - loss: 28.2969 - val_loss: 21.7932\n",
      "Epoch 44/100\n",
      "\u001b[1m29/29\u001b[0m \u001b[32m━━━━━━━━━━━━━━━━━━━━\u001b[0m\u001b[37m\u001b[0m \u001b[1m0s\u001b[0m 3ms/step - loss: 23.9464 - val_loss: 22.5379\n",
      "Epoch 45/100\n",
      "\u001b[1m29/29\u001b[0m \u001b[32m━━━━━━━━━━━━━━━━━━━━\u001b[0m\u001b[37m\u001b[0m \u001b[1m0s\u001b[0m 3ms/step - loss: 30.2339 - val_loss: 21.7984\n",
      "Epoch 46/100\n",
      "\u001b[1m29/29\u001b[0m \u001b[32m━━━━━━━━━━━━━━━━━━━━\u001b[0m\u001b[37m\u001b[0m \u001b[1m0s\u001b[0m 4ms/step - loss: 29.1056 - val_loss: 23.3835\n",
      "Epoch 47/100\n",
      "\u001b[1m29/29\u001b[0m \u001b[32m━━━━━━━━━━━━━━━━━━━━\u001b[0m\u001b[37m\u001b[0m \u001b[1m0s\u001b[0m 3ms/step - loss: 30.1606 - val_loss: 23.4522\n",
      "Epoch 48/100\n",
      "\u001b[1m29/29\u001b[0m \u001b[32m━━━━━━━━━━━━━━━━━━━━\u001b[0m\u001b[37m\u001b[0m \u001b[1m0s\u001b[0m 3ms/step - loss: 24.4466 - val_loss: 22.0866\n",
      "Epoch 49/100\n",
      "\u001b[1m29/29\u001b[0m \u001b[32m━━━━━━━━━━━━━━━━━━━━\u001b[0m\u001b[37m\u001b[0m \u001b[1m0s\u001b[0m 3ms/step - loss: 26.7406 - val_loss: 21.5459\n",
      "Epoch 50/100\n",
      "\u001b[1m29/29\u001b[0m \u001b[32m━━━━━━━━━━━━━━━━━━━━\u001b[0m\u001b[37m\u001b[0m \u001b[1m0s\u001b[0m 3ms/step - loss: 31.4693 - val_loss: 22.7508\n",
      "Epoch 51/100\n",
      "\u001b[1m29/29\u001b[0m \u001b[32m━━━━━━━━━━━━━━━━━━━━\u001b[0m\u001b[37m\u001b[0m \u001b[1m0s\u001b[0m 3ms/step - loss: 25.1189 - val_loss: 21.8846\n",
      "Epoch 52/100\n",
      "\u001b[1m29/29\u001b[0m \u001b[32m━━━━━━━━━━━━━━━━━━━━\u001b[0m\u001b[37m\u001b[0m \u001b[1m0s\u001b[0m 3ms/step - loss: 27.6433 - val_loss: 21.3087\n",
      "Epoch 53/100\n",
      "\u001b[1m29/29\u001b[0m \u001b[32m━━━━━━━━━━━━━━━━━━━━\u001b[0m\u001b[37m\u001b[0m \u001b[1m0s\u001b[0m 3ms/step - loss: 26.7909 - val_loss: 21.6289\n",
      "Epoch 54/100\n",
      "\u001b[1m29/29\u001b[0m \u001b[32m━━━━━━━━━━━━━━━━━━━━\u001b[0m\u001b[37m\u001b[0m \u001b[1m0s\u001b[0m 3ms/step - loss: 24.9609 - val_loss: 21.9158\n",
      "Epoch 55/100\n",
      "\u001b[1m29/29\u001b[0m \u001b[32m━━━━━━━━━━━━━━━━━━━━\u001b[0m\u001b[37m\u001b[0m \u001b[1m0s\u001b[0m 3ms/step - loss: 24.9155 - val_loss: 21.6680\n",
      "Epoch 56/100\n",
      "\u001b[1m29/29\u001b[0m \u001b[32m━━━━━━━━━━━━━━━━━━━━\u001b[0m\u001b[37m\u001b[0m \u001b[1m0s\u001b[0m 3ms/step - loss: 25.9396 - val_loss: 20.9225\n",
      "Epoch 57/100\n",
      "\u001b[1m29/29\u001b[0m \u001b[32m━━━━━━━━━━━━━━━━━━━━\u001b[0m\u001b[37m\u001b[0m \u001b[1m0s\u001b[0m 3ms/step - loss: 25.3190 - val_loss: 21.2429\n",
      "Epoch 58/100\n",
      "\u001b[1m29/29\u001b[0m \u001b[32m━━━━━━━━━━━━━━━━━━━━\u001b[0m\u001b[37m\u001b[0m \u001b[1m0s\u001b[0m 3ms/step - loss: 26.9702 - val_loss: 22.8745\n",
      "Epoch 59/100\n",
      "\u001b[1m29/29\u001b[0m \u001b[32m━━━━━━━━━━━━━━━━━━━━\u001b[0m\u001b[37m\u001b[0m \u001b[1m0s\u001b[0m 3ms/step - loss: 24.7446 - val_loss: 22.1997\n",
      "Epoch 60/100\n",
      "\u001b[1m29/29\u001b[0m \u001b[32m━━━━━━━━━━━━━━━━━━━━\u001b[0m\u001b[37m\u001b[0m \u001b[1m0s\u001b[0m 3ms/step - loss: 26.1318 - val_loss: 22.8151\n",
      "Epoch 61/100\n",
      "\u001b[1m29/29\u001b[0m \u001b[32m━━━━━━━━━━━━━━━━━━━━\u001b[0m\u001b[37m\u001b[0m \u001b[1m0s\u001b[0m 4ms/step - loss: 26.8826 - val_loss: 21.3595\n",
      "Epoch 62/100\n",
      "\u001b[1m29/29\u001b[0m \u001b[32m━━━━━━━━━━━━━━━━━━━━\u001b[0m\u001b[37m\u001b[0m \u001b[1m0s\u001b[0m 2ms/step - loss: 22.5594 - val_loss: 20.9912\n",
      "Epoch 63/100\n",
      "\u001b[1m29/29\u001b[0m \u001b[32m━━━━━━━━━━━━━━━━━━━━\u001b[0m\u001b[37m\u001b[0m \u001b[1m0s\u001b[0m 2ms/step - loss: 21.8836 - val_loss: 21.5890\n",
      "Epoch 64/100\n",
      "\u001b[1m29/29\u001b[0m \u001b[32m━━━━━━━━━━━━━━━━━━━━\u001b[0m\u001b[37m\u001b[0m \u001b[1m0s\u001b[0m 3ms/step - loss: 21.7970 - val_loss: 20.9019\n",
      "Epoch 65/100\n",
      "\u001b[1m29/29\u001b[0m \u001b[32m━━━━━━━━━━━━━━━━━━━━\u001b[0m\u001b[37m\u001b[0m \u001b[1m0s\u001b[0m 3ms/step - loss: 22.2241 - val_loss: 21.4105\n",
      "Epoch 66/100\n",
      "\u001b[1m29/29\u001b[0m \u001b[32m━━━━━━━━━━━━━━━━━━━━\u001b[0m\u001b[37m\u001b[0m \u001b[1m0s\u001b[0m 3ms/step - loss: 23.5533 - val_loss: 21.1214\n",
      "Epoch 67/100\n",
      "\u001b[1m29/29\u001b[0m \u001b[32m━━━━━━━━━━━━━━━━━━━━\u001b[0m\u001b[37m\u001b[0m \u001b[1m0s\u001b[0m 2ms/step - loss: 23.7455 - val_loss: 21.5910\n",
      "Epoch 68/100\n",
      "\u001b[1m29/29\u001b[0m \u001b[32m━━━━━━━━━━━━━━━━━━━━\u001b[0m\u001b[37m\u001b[0m \u001b[1m0s\u001b[0m 4ms/step - loss: 23.5533 - val_loss: 21.4849\n",
      "Epoch 69/100\n",
      "\u001b[1m29/29\u001b[0m \u001b[32m━━━━━━━━━━━━━━━━━━━━\u001b[0m\u001b[37m\u001b[0m \u001b[1m0s\u001b[0m 3ms/step - loss: 25.6015 - val_loss: 20.9623\n",
      "Epoch 70/100\n",
      "\u001b[1m29/29\u001b[0m \u001b[32m━━━━━━━━━━━━━━━━━━━━\u001b[0m\u001b[37m\u001b[0m \u001b[1m0s\u001b[0m 3ms/step - loss: 27.3756 - val_loss: 21.2435\n",
      "Epoch 71/100\n",
      "\u001b[1m29/29\u001b[0m \u001b[32m━━━━━━━━━━━━━━━━━━━━\u001b[0m\u001b[37m\u001b[0m \u001b[1m0s\u001b[0m 3ms/step - loss: 24.6704 - val_loss: 21.1869\n",
      "Epoch 72/100\n",
      "\u001b[1m29/29\u001b[0m \u001b[32m━━━━━━━━━━━━━━━━━━━━\u001b[0m\u001b[37m\u001b[0m \u001b[1m0s\u001b[0m 3ms/step - loss: 22.0448 - val_loss: 21.6553\n",
      "Epoch 73/100\n",
      "\u001b[1m29/29\u001b[0m \u001b[32m━━━━━━━━━━━━━━━━━━━━\u001b[0m\u001b[37m\u001b[0m \u001b[1m0s\u001b[0m 2ms/step - loss: 23.9329 - val_loss: 21.1465\n",
      "Epoch 74/100\n",
      "\u001b[1m29/29\u001b[0m \u001b[32m━━━━━━━━━━━━━━━━━━━━\u001b[0m\u001b[37m\u001b[0m \u001b[1m0s\u001b[0m 4ms/step - loss: 26.5148 - val_loss: 21.4462\n",
      "\u001b[1m4/4\u001b[0m \u001b[32m━━━━━━━━━━━━━━━━━━━━\u001b[0m\u001b[37m\u001b[0m \u001b[1m0s\u001b[0m 15ms/step\n",
      "Test Sample True Isotopomer Distribution: [47.6707604   0.          6.24055429  0.         22.73934604 12.32772417\n",
      " 11.0216151   0.        ]\n",
      "Test Sample Predicted Isotopomer Distribution: [46.97295   0.        6.332176  0.       22.780565 14.09985   9.814465\n",
      "  0.      ]\n"
     ]
    }
   ],
   "source": [
    "import numpy as np\n",
    "import pandas as pd\n",
    "from metabolabpytools import isotopomerAnalysis\n",
    "\n",
    "def generate_isotopomer_percentages():\n",
    "    unlabelled_percentage = np.random.uniform(20, 80)  # Unlabelled percentage between 20% and 80%\n",
    "    remaining_percentage = 100 - unlabelled_percentage\n",
    "    \n",
    "    # Determine which isotopomers are present with a 0.5% chance for each\n",
    "    isotopomer_presence = np.random.rand(7) < 0.5\n",
    "    present_isotopomers = np.sum(isotopomer_presence)\n",
    "    \n",
    "    if present_isotopomers == 0:\n",
    "        # Ensure at least one isotopomer is present if all are zero\n",
    "        isotopomer_presence[np.random.randint(0, 7)] = True\n",
    "        present_isotopomers = 1\n",
    "    \n",
    "    # Generate random percentages for the present isotopomers\n",
    "    random_values = np.random.rand(present_isotopomers)\n",
    "    random_percentages = (random_values / random_values.sum()) * remaining_percentage\n",
    "    \n",
    "    # Initialize all isotopomer percentages to zero\n",
    "    isotopomer_percentages = [0] * 7\n",
    "    # Assign random percentages to the selected isotopomers\n",
    "    random_idx = 0\n",
    "    for i in range(7):\n",
    "        if isotopomer_presence[i]:\n",
    "            isotopomer_percentages[i] = random_percentages[random_idx]\n",
    "            random_idx += 1\n",
    "    \n",
    "    # Combine unlabelled and other isotopomer percentages\n",
    "    percentages = [unlabelled_percentage] + isotopomer_percentages\n",
    "    \n",
    "    return percentages\n",
    "\n",
    "def add_noise(data, noise_level):\n",
    "    \"\"\"Add Gaussian noise to the data.\"\"\"\n",
    "    data = np.array(data)\n",
    "    noise = np.random.normal(0, noise_level, data.shape)\n",
    "    return data + noise\n",
    "\n",
    "def add_noise_to_hsqc_gcms(ia, metabolite, num_samples, hsqc_noise_level, gcms_noise_level):\n",
    "    for exp_index in range(num_samples):\n",
    "        # Add noise to HSQC data\n",
    "        ia.exp_multiplet_percentages[metabolite][exp_index] = add_noise(\n",
    "            ia.exp_multiplet_percentages[metabolite][exp_index], hsqc_noise_level\n",
    "        ).tolist()\n",
    "        # Add noise to GC-MS data\n",
    "        ia.exp_gcms[metabolite][exp_index] = add_noise(\n",
    "            ia.exp_gcms[metabolite][exp_index], gcms_noise_level\n",
    "        ).tolist()\n",
    "\n",
    "\n",
    "\n",
    "ia = isotopomerAnalysis.IsotopomerAnalysis()\n",
    "\n",
    "# Ensure isotopomers is correctly initialized\n",
    "isotopomers = [\n",
    "    [0, 0, 0],  # Unlabelled\n",
    "    [1, 0, 0],\n",
    "    [0, 1, 0],\n",
    "    [0, 0, 1],\n",
    "    [1, 1, 0],\n",
    "    [1, 0, 1],\n",
    "    [0, 1, 1],\n",
    "    [1, 1, 1]\n",
    "]\n",
    "\n",
    "num_samples = 1000\n",
    "hsqc = [0, 1, 1]\n",
    "metabolite = 'L-LacticAcid'\n",
    "\n",
    "# Initialize the metabolite with multiple samples\n",
    "ia.init_metabolite_multiple_samples(metabolite, hsqc, num_samples=num_samples)\n",
    "\n",
    "# Initialize and set isotopomers for multiple samples\n",
    "generated_percentages = []\n",
    "for exp_index in range(num_samples):\n",
    "    random_percentages = generate_isotopomer_percentages()  # Generate new random percentages for each sample\n",
    "    generated_percentages.append(random_percentages)  # Store generated percentages for comparison\n",
    "    \n",
    "    ia.set_fit_isotopomers_simple(metabolite=metabolite, isotopomers=isotopomers, percentages=random_percentages, exp_index=exp_index)\n",
    "    ia.sim_hsqc_data(metabolite=metabolite, exp_index=exp_index, isotopomers=isotopomers, percentages=random_percentages)\n",
    "    ia.sim_gcms_data(metabolite, exp_index)\n",
    "\n",
    "add_noise_to_hsqc_gcms(ia, metabolite, num_samples, hsqc_noise_level=0.03, gcms_noise_level=0.075)\n",
    "\n",
    "ia.use_hsqc_multiplet_data = True\n",
    "ia.use_gcms_data = True\n",
    "ia.use_nmr1d_data = False\n",
    "\n",
    "# Fit data using neural network with multiple samples\n",
    "ia.fit_data_nn(metabolite=metabolite, fit_isotopomers=isotopomers, percentages = generated_percentages, num_samples=num_samples)"
   ]
  },
  {
   "cell_type": "code",
   "execution_count": null,
   "id": "8b081bf2-c477-4048-a9b9-9cd2e16cdfa8",
   "metadata": {},
   "outputs": [],
   "source": []
  }
 ],
 "metadata": {
  "kernelspec": {
   "display_name": "Python 3 (ipykernel)",
   "language": "python",
   "name": "python3"
  },
  "language_info": {
   "codemirror_mode": {
    "name": "ipython",
    "version": 3
   },
   "file_extension": ".py",
   "mimetype": "text/x-python",
   "name": "python",
   "nbconvert_exporter": "python",
   "pygments_lexer": "ipython3",
   "version": "3.12.3"
  }
 },
 "nbformat": 4,
 "nbformat_minor": 5
}
