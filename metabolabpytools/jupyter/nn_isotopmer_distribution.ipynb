{
 "cells": [
  {
   "cell_type": "markdown",
   "id": "ba6571f1-30e3-46ff-9842-f8d34a0da0cb",
   "metadata": {},
   "source": [
    "# Random Data Simulation and Fitting Isotopomer Distribution Using Neural Network"
   ]
  },
  {
   "cell_type": "markdown",
   "id": "18e340f9-8402-4b5c-a418-cd47c2aa5445",
   "metadata": {},
   "source": [
    "Import necessary packages:"
   ]
  },
  {
   "cell_type": "code",
   "execution_count": 7,
   "id": "9f8aac1e-995b-47ad-9140-7789421bdda5",
   "metadata": {
    "tags": []
   },
   "outputs": [],
   "source": [
    "import numpy as np\n",
    "import pandas as pd\n",
    "from metabolabpytools import isotopomerAnalysis"
   ]
  },
  {
   "cell_type": "markdown",
   "id": "183940de-2de3-406a-99a6-c913f85d4d38",
   "metadata": {},
   "source": [
    "Create an isotopomerAnalysis object:"
   ]
  },
  {
   "cell_type": "code",
   "execution_count": 9,
   "id": "892c7bc2-3c50-468f-9679-52f222be98a8",
   "metadata": {
    "tags": []
   },
   "outputs": [],
   "source": [
    "ia = isotopomerAnalysis.IsotopomerAnalysis()"
   ]
  },
  {
   "cell_type": "markdown",
   "id": "93ad61b0-1980-4765-8378-8f59a305e7a7",
   "metadata": {},
   "source": [
    "Define metabolite parameters:"
   ]
  },
  {
   "cell_type": "code",
   "execution_count": 8,
   "id": "d1625aa1-ede0-4dec-8e07-51e2e8d016c8",
   "metadata": {
    "tags": []
   },
   "outputs": [],
   "source": [
    "# Ensure isotopomers is correctly initialized\n",
    "isotopomers = [\n",
    "    [0, 0, 0],  # Unlabelled\n",
    "    [1, 0, 0],\n",
    "    [0, 1, 0],\n",
    "    [0, 0, 1],\n",
    "    [1, 1, 0],\n",
    "    [1, 0, 1],\n",
    "    [0, 1, 1],\n",
    "    [1, 1, 1]\n",
    "]\n",
    "\n",
    "num_samples = 1000\n",
    "hsqc = [0, 1, 1]\n",
    "metabolite = 'L-LacticAcid'\n"
   ]
  },
  {
   "cell_type": "code",
   "execution_count": 10,
   "id": "8c6d7f4b-9187-435f-8e34-238e93055c07",
   "metadata": {},
   "outputs": [],
   "source": [
    "ia.init_metabolite_multiple_samples(metabolite, hsqc, num_samples=num_samples)"
   ]
  },
  {
   "cell_type": "markdown",
   "id": "b226e84e-bdd8-4943-8796-fa818c51099e",
   "metadata": {},
   "source": [
    "Initialising and set isoptomer, HSQC and gcms data for multiple samples:"
   ]
  },
  {
   "cell_type": "code",
   "execution_count": 11,
   "id": "6c347e59-9321-46c2-8401-83bf22368133",
   "metadata": {},
   "outputs": [],
   "source": [
    "generated_percentages = []\n",
    "for exp_index in range(num_samples):\n",
    "    random_percentages = ia.generate_isotopomer_percentages()  # Generate new random percentages for each sample\n",
    "    generated_percentages.append(random_percentages)  # Store generated percentages for comparison\n",
    "    \n",
    "    ia.set_fit_isotopomers_simple(metabolite=metabolite, isotopomers=isotopomers, percentages=random_percentages, exp_index=exp_index)\n",
    "    ia.sim_hsqc_data(metabolite=metabolite, exp_index=exp_index, isotopomers=isotopomers, percentages=random_percentages)\n",
    "    ia.sim_gcms_data(metabolite, exp_index)"
   ]
  },
  {
   "cell_type": "markdown",
   "id": "78523380-aa4a-4a4d-92aa-117c0ab860ef",
   "metadata": {},
   "source": [
    "Add noise to HSQC and GC-MS data:"
   ]
  },
  {
   "cell_type": "code",
   "execution_count": 12,
   "id": "4c63826b-7b3c-4a4a-a590-11cb64f620dc",
   "metadata": {
    "tags": []
   },
   "outputs": [],
   "source": [
    "ia.add_noise_to_hsqc_gcms(metabolite, num_samples, hsqc_noise_level=0.03, gcms_noise_level=0.075)"
   ]
  },
  {
   "cell_type": "markdown",
   "id": "a08a654c-cd43-40fa-a572-2d0cc311ba29",
   "metadata": {},
   "source": [
    "Modify object states for the data:"
   ]
  },
  {
   "cell_type": "code",
   "execution_count": 13,
   "id": "77baf227-0b66-4a80-8482-470582923dfe",
   "metadata": {
    "tags": []
   },
   "outputs": [],
   "source": [
    "ia.use_hsqc_multiplet_data = True\n",
    "ia.use_gcms_data = True\n",
    "ia.use_nmr1d_data = False"
   ]
  },
  {
   "cell_type": "markdown",
   "id": "c5523f4f-fc39-494f-95a9-3cfb00258579",
   "metadata": {},
   "source": [
    "Fitting the neural network:"
   ]
  },
  {
   "cell_type": "code",
   "execution_count": 14,
   "id": "d057b29c-722a-4e43-bae4-6d87d6bee885",
   "metadata": {
    "tags": []
   },
   "outputs": [
    {
     "name": "stdout",
     "output_type": "stream",
     "text": [
      "Reloading Tuner from my_dir\\isotopomer_analysis\\tuner0.json\n",
      "Epoch 1/100\n"
     ]
    },
    {
     "name": "stderr",
     "output_type": "stream",
     "text": [
      "C:\\Users\\raath\\metabolabpytools\\venv\\Lib\\site-packages\\keras\\src\\layers\\core\\dense.py:87: UserWarning: Do not pass an `input_shape`/`input_dim` argument to a layer. When using Sequential models, prefer using an `Input(shape)` object as the first layer in the model instead.\n",
      "  super().__init__(activity_regularizer=activity_regularizer, **kwargs)\n"
     ]
    },
    {
     "name": "stdout",
     "output_type": "stream",
     "text": [
      "\u001b[1m29/29\u001b[0m \u001b[32m━━━━━━━━━━━━━━━━━━━━\u001b[0m\u001b[37m\u001b[0m \u001b[1m1s\u001b[0m 7ms/step - loss: 553.5529 - val_loss: 407.7870\n",
      "Epoch 2/100\n",
      "\u001b[1m29/29\u001b[0m \u001b[32m━━━━━━━━━━━━━━━━━━━━\u001b[0m\u001b[37m\u001b[0m \u001b[1m0s\u001b[0m 3ms/step - loss: 179.3965 - val_loss: 59.4321\n",
      "Epoch 3/100\n",
      "\u001b[1m29/29\u001b[0m \u001b[32m━━━━━━━━━━━━━━━━━━━━\u001b[0m\u001b[37m\u001b[0m \u001b[1m0s\u001b[0m 3ms/step - loss: 45.5851 - val_loss: 32.4372\n",
      "Epoch 4/100\n",
      "\u001b[1m29/29\u001b[0m \u001b[32m━━━━━━━━━━━━━━━━━━━━\u001b[0m\u001b[37m\u001b[0m \u001b[1m0s\u001b[0m 3ms/step - loss: 24.8297 - val_loss: 25.6773\n",
      "Epoch 5/100\n",
      "\u001b[1m29/29\u001b[0m \u001b[32m━━━━━━━━━━━━━━━━━━━━\u001b[0m\u001b[37m\u001b[0m \u001b[1m0s\u001b[0m 3ms/step - loss: 22.5848 - val_loss: 22.8123\n",
      "Epoch 6/100\n",
      "\u001b[1m29/29\u001b[0m \u001b[32m━━━━━━━━━━━━━━━━━━━━\u001b[0m\u001b[37m\u001b[0m \u001b[1m0s\u001b[0m 3ms/step - loss: 19.2962 - val_loss: 19.0725\n",
      "Epoch 7/100\n",
      "\u001b[1m29/29\u001b[0m \u001b[32m━━━━━━━━━━━━━━━━━━━━\u001b[0m\u001b[37m\u001b[0m \u001b[1m0s\u001b[0m 3ms/step - loss: 16.2192 - val_loss: 15.8382\n",
      "Epoch 8/100\n",
      "\u001b[1m29/29\u001b[0m \u001b[32m━━━━━━━━━━━━━━━━━━━━\u001b[0m\u001b[37m\u001b[0m \u001b[1m0s\u001b[0m 3ms/step - loss: 14.9940 - val_loss: 16.8301\n",
      "Epoch 9/100\n",
      "\u001b[1m29/29\u001b[0m \u001b[32m━━━━━━━━━━━━━━━━━━━━\u001b[0m\u001b[37m\u001b[0m \u001b[1m0s\u001b[0m 3ms/step - loss: 17.6943 - val_loss: 17.9723\n",
      "Epoch 10/100\n",
      "\u001b[1m29/29\u001b[0m \u001b[32m━━━━━━━━━━━━━━━━━━━━\u001b[0m\u001b[37m\u001b[0m \u001b[1m0s\u001b[0m 3ms/step - loss: 16.2009 - val_loss: 14.0763\n",
      "Epoch 11/100\n",
      "\u001b[1m29/29\u001b[0m \u001b[32m━━━━━━━━━━━━━━━━━━━━\u001b[0m\u001b[37m\u001b[0m \u001b[1m0s\u001b[0m 3ms/step - loss: 12.7235 - val_loss: 13.9630\n",
      "Epoch 12/100\n",
      "\u001b[1m29/29\u001b[0m \u001b[32m━━━━━━━━━━━━━━━━━━━━\u001b[0m\u001b[37m\u001b[0m \u001b[1m0s\u001b[0m 3ms/step - loss: 12.4463 - val_loss: 13.6300\n",
      "Epoch 13/100\n",
      "\u001b[1m29/29\u001b[0m \u001b[32m━━━━━━━━━━━━━━━━━━━━\u001b[0m\u001b[37m\u001b[0m \u001b[1m0s\u001b[0m 4ms/step - loss: 11.0888 - val_loss: 14.2688\n",
      "Epoch 14/100\n",
      "\u001b[1m29/29\u001b[0m \u001b[32m━━━━━━━━━━━━━━━━━━━━\u001b[0m\u001b[37m\u001b[0m \u001b[1m0s\u001b[0m 3ms/step - loss: 10.6855 - val_loss: 14.0678\n",
      "Epoch 15/100\n",
      "\u001b[1m29/29\u001b[0m \u001b[32m━━━━━━━━━━━━━━━━━━━━\u001b[0m\u001b[37m\u001b[0m \u001b[1m0s\u001b[0m 3ms/step - loss: 10.5226 - val_loss: 14.6760\n",
      "Epoch 16/100\n",
      "\u001b[1m29/29\u001b[0m \u001b[32m━━━━━━━━━━━━━━━━━━━━\u001b[0m\u001b[37m\u001b[0m \u001b[1m0s\u001b[0m 3ms/step - loss: 9.2535 - val_loss: 12.4723\n",
      "Epoch 17/100\n",
      "\u001b[1m29/29\u001b[0m \u001b[32m━━━━━━━━━━━━━━━━━━━━\u001b[0m\u001b[37m\u001b[0m \u001b[1m0s\u001b[0m 2ms/step - loss: 9.3438 - val_loss: 15.5994\n",
      "Epoch 18/100\n",
      "\u001b[1m29/29\u001b[0m \u001b[32m━━━━━━━━━━━━━━━━━━━━\u001b[0m\u001b[37m\u001b[0m \u001b[1m0s\u001b[0m 2ms/step - loss: 10.5147 - val_loss: 13.7831\n",
      "Epoch 19/100\n",
      "\u001b[1m29/29\u001b[0m \u001b[32m━━━━━━━━━━━━━━━━━━━━\u001b[0m\u001b[37m\u001b[0m \u001b[1m0s\u001b[0m 2ms/step - loss: 12.9042 - val_loss: 12.4751\n",
      "Epoch 20/100\n",
      "\u001b[1m29/29\u001b[0m \u001b[32m━━━━━━━━━━━━━━━━━━━━\u001b[0m\u001b[37m\u001b[0m \u001b[1m0s\u001b[0m 3ms/step - loss: 9.1891 - val_loss: 11.4137\n",
      "Epoch 21/100\n",
      "\u001b[1m29/29\u001b[0m \u001b[32m━━━━━━━━━━━━━━━━━━━━\u001b[0m\u001b[37m\u001b[0m \u001b[1m0s\u001b[0m 3ms/step - loss: 7.8404 - val_loss: 13.6375\n",
      "Epoch 22/100\n",
      "\u001b[1m29/29\u001b[0m \u001b[32m━━━━━━━━━━━━━━━━━━━━\u001b[0m\u001b[37m\u001b[0m \u001b[1m0s\u001b[0m 3ms/step - loss: 8.3278 - val_loss: 16.0002\n",
      "Epoch 23/100\n",
      "\u001b[1m29/29\u001b[0m \u001b[32m━━━━━━━━━━━━━━━━━━━━\u001b[0m\u001b[37m\u001b[0m \u001b[1m0s\u001b[0m 3ms/step - loss: 13.6036 - val_loss: 14.3527\n",
      "Epoch 24/100\n",
      "\u001b[1m29/29\u001b[0m \u001b[32m━━━━━━━━━━━━━━━━━━━━\u001b[0m\u001b[37m\u001b[0m \u001b[1m0s\u001b[0m 4ms/step - loss: 9.4631 - val_loss: 14.2631\n",
      "Epoch 25/100\n",
      "\u001b[1m29/29\u001b[0m \u001b[32m━━━━━━━━━━━━━━━━━━━━\u001b[0m\u001b[37m\u001b[0m \u001b[1m0s\u001b[0m 3ms/step - loss: 7.3581 - val_loss: 12.2667\n",
      "Epoch 26/100\n",
      "\u001b[1m29/29\u001b[0m \u001b[32m━━━━━━━━━━━━━━━━━━━━\u001b[0m\u001b[37m\u001b[0m \u001b[1m0s\u001b[0m 3ms/step - loss: 7.3821 - val_loss: 14.0038\n",
      "Epoch 27/100\n",
      "\u001b[1m29/29\u001b[0m \u001b[32m━━━━━━━━━━━━━━━━━━━━\u001b[0m\u001b[37m\u001b[0m \u001b[1m0s\u001b[0m 3ms/step - loss: 7.4746 - val_loss: 11.9799\n",
      "Epoch 28/100\n",
      "\u001b[1m29/29\u001b[0m \u001b[32m━━━━━━━━━━━━━━━━━━━━\u001b[0m\u001b[37m\u001b[0m \u001b[1m0s\u001b[0m 2ms/step - loss: 8.1717 - val_loss: 13.9762\n",
      "Epoch 29/100\n",
      "\u001b[1m29/29\u001b[0m \u001b[32m━━━━━━━━━━━━━━━━━━━━\u001b[0m\u001b[37m\u001b[0m \u001b[1m0s\u001b[0m 3ms/step - loss: 8.1706 - val_loss: 15.5870\n",
      "Epoch 30/100\n",
      "\u001b[1m29/29\u001b[0m \u001b[32m━━━━━━━━━━━━━━━━━━━━\u001b[0m\u001b[37m\u001b[0m \u001b[1m0s\u001b[0m 3ms/step - loss: 6.4646 - val_loss: 11.6792\n",
      "\u001b[1m4/4\u001b[0m \u001b[32m━━━━━━━━━━━━━━━━━━━━\u001b[0m\u001b[37m\u001b[0m \u001b[1m0s\u001b[0m 20ms/step\n",
      "Test Sample True Isotopomer Distribution: [35.41457462 23.33428348 17.12398966 16.58271344  0.          0.\n",
      "  0.          7.5444388 ]\n",
      "Test Sample Predicted Isotopomer Distribution: [35.999477 17.466124 19.285904 18.209932  0.        0.        0.\n",
      "  9.03857 ]\n"
     ]
    }
   ],
   "source": [
    "ia.fit_data_nn(metabolite=metabolite, fit_isotopomers=isotopomers, percentages=generated_percentages, num_samples=num_samples)"
   ]
  },
  {
   "cell_type": "markdown",
   "id": "9bb44fab-4054-465b-8ac8-49d1b9745c3b",
   "metadata": {},
   "source": [
    "## Addressing Overfitting: "
   ]
  },
  {
   "cell_type": "markdown",
   "id": "da1ee47c-dce3-4348-bd71-bed10b5295c8",
   "metadata": {},
   "source": [
    "To prevent overfitting in my neural network model for predicting isotopomer distributions, several strategies have been implemented:\n",
    "\n",
    "- First, use of a validation set to monitor the model's performance during training, ensuring it maintains its ability to generalize to unseen data has been used. This involves splitting the data into training and validation sets and using early stopping to halt training when the validation loss stops improving, which helps avoid overfitting by preventing the model from learning noise in the training data. \n",
    " \n",
    "- Additionally, dropout layers have been employed within the neural network architecture. Dropout randomly deactivates a fraction of neurons during each training step, which forces the network to learn more robust features and reduces reliance on any specific neurons. \n",
    "\n",
    "- Regularization techniques, such as L2 regularization, have been used to penalize large weights, discouraging the model from becoming too complex. \n",
    "\n",
    "- Finally, the model has been trained with an adequate amount of data (1000 samples), enhancing the model's ability to generalize."
   ]
  },
  {
   "cell_type": "code",
   "execution_count": null,
   "id": "a2767999-2b5c-4c37-ba4c-d6136e5aefbd",
   "metadata": {},
   "outputs": [],
   "source": []
  }
 ],
 "metadata": {
  "kernelspec": {
   "display_name": "Python 3 (ipykernel)",
   "language": "python",
   "name": "python3"
  },
  "language_info": {
   "codemirror_mode": {
    "name": "ipython",
    "version": 3
   },
   "file_extension": ".py",
   "mimetype": "text/x-python",
   "name": "python",
   "nbconvert_exporter": "python",
   "pygments_lexer": "ipython3",
   "version": "3.12.3"
  }
 },
 "nbformat": 4,
 "nbformat_minor": 5
}
