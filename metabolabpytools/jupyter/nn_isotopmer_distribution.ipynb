{
 "cells": [
  {
   "cell_type": "markdown",
   "id": "ba6571f1-30e3-46ff-9842-f8d34a0da0cb",
   "metadata": {},
   "source": [
    "# Random Data Simulation and Fitting Using Neural Network"
   ]
  },
  {
   "cell_type": "markdown",
   "id": "d6808647-bca8-4696-8ed9-676cdb0934ca",
   "metadata": {
    "tags": []
   },
   "source": [
    "### _Simulation of random data:_"
   ]
  },
  {
   "cell_type": "markdown",
   "id": "18e340f9-8402-4b5c-a418-cd47c2aa5445",
   "metadata": {},
   "source": [
    "Import necessary packages:"
   ]
  },
  {
   "cell_type": "code",
   "execution_count": null,
   "id": "9f8aac1e-995b-47ad-9140-7789421bdda5",
   "metadata": {
    "tags": []
   },
   "outputs": [],
   "source": [
    "from metabolabpytools import isotopomerAnalysis\n",
    "import numpy as np\n",
    "import tensorflow as tf\n",
    "from tensorflow.keras.models import Sequential\n",
    "from tensorflow.keras.layers import Dense\n",
    "import copy"
   ]
  },
  {
   "cell_type": "markdown",
   "id": "8d2c1245-c6a1-4306-87c4-61913d597421",
   "metadata": {},
   "source": [
    "Function to generate random percentages summing to 100%:"
   ]
  },
  {
   "cell_type": "code",
   "execution_count": null,
   "id": "9d48eb56-bee8-47b2-8b49-e3db69188f43",
   "metadata": {
    "tags": []
   },
   "outputs": [],
   "source": [
    "def generate_isotopomer_percentages():\n",
    "    unlabelled_percentage = np.random.uniform(20, 80)  # Unlabelled percentage between 20% and 80%\n",
    "    remaining_percentage = 100 - unlabelled_percentage\n",
    "    \n",
    "    # Generate random percentages for the remaining 7 isotopomers\n",
    "    random_values = np.random.rand(7)\n",
    "    random_percentages = (random_values / random_values.sum()) * remaining_percentage\n",
    "    \n",
    "    # Combine unlabelled and other isotopomer percentages\n",
    "    percentages = [unlabelled_percentage] + list(random_percentages)\n",
    "    \n",
    "    return percentages"
   ]
  },
  {
   "cell_type": "markdown",
   "id": "183940de-2de3-406a-99a6-c913f85d4d38",
   "metadata": {},
   "source": [
    "Create an isotopomerAnalysis object:"
   ]
  },
  {
   "cell_type": "code",
   "execution_count": null,
   "id": "892c7bc2-3c50-468f-9679-52f222be98a8",
   "metadata": {
    "tags": []
   },
   "outputs": [],
   "source": [
    "ia = isotopomerAnalysis.IsotopomerAnalysis()"
   ]
  },
  {
   "cell_type": "markdown",
   "id": "93ad61b0-1980-4765-8378-8f59a305e7a7",
   "metadata": {},
   "source": [
    "Define metabolite parameters:"
   ]
  },
  {
   "cell_type": "code",
   "execution_count": null,
   "id": "d1625aa1-ede0-4dec-8e07-51e2e8d016c8",
   "metadata": {
    "tags": []
   },
   "outputs": [],
   "source": [
    "isotopomers = [\n",
    "    [0, 0, 0],   \n",
    "    [1, 0, 0],\n",
    "    [0, 1, 0],\n",
    "    [0, 0, 1],\n",
    "    [1, 1, 0],\n",
    "    [1, 0, 1],\n",
    "    [0, 1, 1],\n",
    "    [1, 1, 1]\n",
    "]\n",
    "\n",
    "print(f\"Initial isotopomers: {isotopomers}\")\n",
    "#random_percentages = generate_isotopomer_percentages()\n",
    "# print(random_percentages)\n",
    "hsqc = [0,1,1]\n",
    "metabolite = 'L-LacticAcid'\n",
    "num_samples = 10\n"
   ]
  },
  {
   "cell_type": "code",
   "execution_count": null,
   "id": "8c6d7f4b-9187-435f-8e34-238e93055c07",
   "metadata": {},
   "outputs": [],
   "source": [
    "ia.init_metabolite_multiple_samples(metabolite, hsqc, num_samples=num_samples)"
   ]
  },
  {
   "cell_type": "code",
   "execution_count": null,
   "id": "592f0cf6-b27a-41e6-9473-7a149316758f",
   "metadata": {},
   "outputs": [],
   "source": [
    "print(f\"Metabolites: {ia.metabolites}\")\n",
    "print(f\"Initial Isotopomer Percentages: {ia.isotopomer_percentages}\")"
   ]
  },
  {
   "cell_type": "markdown",
   "id": "b226e84e-bdd8-4943-8796-fa818c51099e",
   "metadata": {},
   "source": [
    "Initialising and set isoptomers for multiple samples:"
   ]
  },
  {
   "cell_type": "code",
   "execution_count": null,
   "id": "6c347e59-9321-46c2-8401-83bf22368133",
   "metadata": {},
   "outputs": [],
   "source": [
    "generated_percentages = []\n",
    "for exp_index in range(num_samples):\n",
    "    random_percentages = generate_isotopomer_percentages()  # Generate new random percentages for each sample\n",
    "    # print(f\"Generated percentages for sample {exp_index}: {random_percentages}\")\n",
    "    generated_percentages.append(random_percentages)  # Store generated percentages for comparison\n",
    "    \n",
    "    # Deep copy isotopomers for each iteration to ensure it is not modified\n",
    "    isotopomers_copy = copy.deepcopy(isotopomers)\n",
    "    \n",
    "    # Debug prints before setting fit isotopomers\n",
    "    # print(f\"Before set_fit_isotopomers call for exp_index {exp_index}:\")\n",
    "    # print(f\"Metabolite: {metabolite}\")\n",
    "    # print(f\"Isotopomers: {isotopomers_copy}\")\n",
    "    # print(f\"Percentages: {random_percentages}\")\n",
    "    # print(f\"Exp Index: {exp_index}\")\n",
    "    \n",
    "    # Ensure isotopomers_copy is not empty\n",
    "    if len(isotopomers_copy) == 0:\n",
    "        print(f\"Error: Isotopomers is empty for exp_index {exp_index}\")\n",
    "\n",
    "    ia.set_fit_isotopomers_simple(metabolite=metabolite, isotopomers=isotopomers, percentages=random_percentages, exp_index=exp_index)\n",
    "    ia.sim_hsqc_data(metabolite=metabolite, exp_index=exp_index, isotopomers=isotopomers, percentages=random_percentages)\n",
    "    ia.sim_gcms_data(metabolite, exp_index)"
   ]
  },
  {
   "cell_type": "markdown",
   "id": "78523380-aa4a-4a4d-92aa-117c0ab860ef",
   "metadata": {},
   "source": [
    "Initialise isotopomerAnalysis object with selected data:"
   ]
  },
  {
   "cell_type": "code",
   "execution_count": null,
   "id": "4c63826b-7b3c-4a4a-a590-11cb64f620dc",
   "metadata": {
    "tags": []
   },
   "outputs": [],
   "source": [
    "#ia.init_metabolite(metabolite, hsqc)\n",
    "#ia.set_fit_isotopomers(metabolite=metabolite, isotopomers=isotopomers, percentages=random_percentages)"
   ]
  },
  {
   "cell_type": "code",
   "execution_count": null,
   "id": "77baf227-0b66-4a80-8482-470582923dfe",
   "metadata": {
    "tags": []
   },
   "outputs": [],
   "source": [
    "#print(f'Isotopomers : {ia.fit_isotopomers[metabolite]}\\nIsotopomer %: {ia.isotopomer_percentages[metabolite]}')"
   ]
  },
  {
   "cell_type": "markdown",
   "id": "c5523f4f-fc39-494f-95a9-3cfb00258579",
   "metadata": {},
   "source": [
    "Simulate HSQC data:"
   ]
  },
  {
   "cell_type": "code",
   "execution_count": null,
   "id": "e1c670cc-f433-4fd5-9100-3437a97c0576",
   "metadata": {
    "tags": []
   },
   "outputs": [],
   "source": [
    "#ia.sim_hsqc_data(metabolite=metabolite, exp_index=exp_index, isotopomers=isotopomers, percentages=random_percentages)"
   ]
  },
  {
   "cell_type": "code",
   "execution_count": null,
   "id": "d057b29c-722a-4e43-bae4-6d87d6bee885",
   "metadata": {
    "tags": []
   },
   "outputs": [],
   "source": [
    "# print(f'HSQC Multiplets: {ia.exp_multiplets[metabolite][exp_index]}')\n",
    "#print(f'Multiplet percentages: {ia.exp_multiplet_percentages[metabolite][exp_index]}')"
   ]
  },
  {
   "cell_type": "markdown",
   "id": "ebfcec8f-533c-481f-b449-63a53ef28825",
   "metadata": {},
   "source": [
    "Simulate GC-MS data:"
   ]
  },
  {
   "cell_type": "code",
   "execution_count": null,
   "id": "4af64c03-83c9-42d0-96f8-414994b664ab",
   "metadata": {
    "tags": []
   },
   "outputs": [],
   "source": [
    "#ia.sim_gcms_data(metabolite, exp_index)"
   ]
  },
  {
   "cell_type": "code",
   "execution_count": null,
   "id": "72b0a679-19f7-453e-bf64-1c0681e02cab",
   "metadata": {
    "tags": []
   },
   "outputs": [],
   "source": [
    "#ia.exp_gcms[metabolite][exp_index]"
   ]
  },
  {
   "cell_type": "markdown",
   "id": "8b01264c-cda6-4ed3-b187-5e0b92f1b62d",
   "metadata": {},
   "source": [
    "### _Fitting to simulated data using basic neural network:_"
   ]
  },
  {
   "cell_type": "markdown",
   "id": "04bf3206-a948-4405-80ce-f6cabdff28d9",
   "metadata": {},
   "source": [
    "Use only HSQC multiplets and GC-MS data for analysis:"
   ]
  },
  {
   "cell_type": "code",
   "execution_count": null,
   "id": "9f7c3bc7-7ee5-4dd2-b0fb-87cdcc936717",
   "metadata": {
    "tags": []
   },
   "outputs": [],
   "source": [
    "ia.use_hsqc_multiplet_data = True\n",
    "ia.use_gcms_data = True\n",
    "ia.use_nmr1d_data = False"
   ]
  },
  {
   "cell_type": "markdown",
   "id": "85028112-5a41-45b9-95d3-047cbb1b1db7",
   "metadata": {},
   "source": [
    "Generate multiple samples:"
   ]
  },
  {
   "cell_type": "code",
   "execution_count": null,
   "id": "6950fc7f-41af-42d6-89b4-fc8312ca98d7",
   "metadata": {},
   "outputs": [],
   "source": [
    "# num_samples = 10  # Example number of samples\n",
    "# samples = ia.generate_simulated_samples(num_samples)"
   ]
  },
  {
   "cell_type": "markdown",
   "id": "2158ad27-117c-42e3-aa31-4a640037f7a6",
   "metadata": {},
   "source": [
    "Call the new neural network fit method:"
   ]
  },
  {
   "cell_type": "code",
   "execution_count": null,
   "id": "a5b0dc3d-1689-43ed-85c6-f3ef5e7de95a",
   "metadata": {
    "tags": []
   },
   "outputs": [],
   "source": [
    "ia.fit_data_nn(metabolite=metabolite, fit_isotopomers=isotopomers, num_samples=num_samples)"
   ]
  },
  {
   "cell_type": "code",
   "execution_count": null,
   "id": "19540c66-8147-4e49-a360-ba1d13a81a89",
   "metadata": {},
   "outputs": [],
   "source": [
    "sample_data_df = ia.gather_sample_data(metabolite=metabolite, num_samples=num_samples)\n",
    "print(sample_data_df)"
   ]
  },
  {
   "cell_type": "code",
   "execution_count": null,
   "id": "3a698c96-d6dd-47bd-9d49-c71f5df9bcdc",
   "metadata": {
    "tags": []
   },
   "outputs": [],
   "source": [
    "#print(f'Fitted Isotoponers : {ia.fitted_isotopomers[metabolite][exp_index]}\\nFitted Isotopomer %: {ia.fitted_isotopomer_percentages[metabolite][exp_index]}')  "
   ]
  },
  {
   "cell_type": "markdown",
   "id": "59ae55e8-ccfb-4732-ae74-49011f2e1f36",
   "metadata": {},
   "source": [
    "Export data and analysis to Excel spreadsheet:"
   ]
  },
  {
   "cell_type": "code",
   "execution_count": null,
   "id": "ebbf36fb-27de-4b27-adf8-194ec74b7fb8",
   "metadata": {},
   "outputs": [],
   "source": [
    "#ia.export_data('fittedIsotopomerAnalysis.xlsx')"
   ]
  },
  {
   "cell_type": "code",
   "execution_count": null,
   "id": "b9e1cca1-d75a-4aaf-bf2b-0bab826497f5",
   "metadata": {},
   "outputs": [],
   "source": [
    "sample_data_df.to_csv('sample_data.csv', index=False)"
   ]
  },
  {
   "cell_type": "markdown",
   "id": "9bb44fab-4054-465b-8ac8-49d1b9745c3b",
   "metadata": {},
   "source": [
    "## Addressing Overfitting: "
   ]
  },
  {
   "cell_type": "markdown",
   "id": "da1ee47c-dce3-4348-bd71-bed10b5295c8",
   "metadata": {},
   "source": [
    "To prevent overfitting in my neural network model for predicting isotopomer distributions, several strategies will be implemented:\n",
    "\n",
    "- First, I'll use a validation set to monitor the model's performance during training, ensuring it maintains its ability to generalize to unseen data. This involves splitting the data into training and validation sets and using early stopping to halt training when the validation loss stops improving, which helps avoid overfitting by preventing the model from learning noise in the training data. \n",
    " \n",
    "- Additionally, I'll employ dropout layers within the neural network architecture. Dropout randomly deactivates a fraction of neurons during each training step, which forces the network to learn more robust features and reduces reliance on any specific neurons. \n",
    "\n",
    "- Regularization techniques, such as L2 regularization, will be used to penalize large weights, discouraging the model from becoming too complex. \n",
    "\n",
    "- Finally, I will ensure that the model is trained with an adequate amount of data and, if necessary, use data augmentation techniques to artificially increase the diversity of the training dataset, enhancing the model's ability to generalize."
   ]
  },
  {
   "cell_type": "code",
   "execution_count": 1,
   "id": "fa7b578a-168c-4b13-80e6-f1dcd44f02e7",
   "metadata": {},
   "outputs": [
    {
     "name": "stdout",
     "output_type": "stream",
     "text": [
      "[34.71518938 23.49510282 32.83615479  8.95355301 72.23621919 27.76378081\n",
      " 43.82383582 27.82837892 26.59110463  1.75668064]\n",
      "[43.82383581514689, 9.736902990534956, 7.6081695577876065, 10.483306368228131, 5.226679665023729, 13.993239242939524, 7.371185724399198, 1.7566806359399556]\n",
      "[34.8439234  28.36658095 22.33669637 14.45279928 52.68229598 47.31770402\n",
      " 34.08793132 30.82456821 29.71591076  5.3715897 ]\n",
      "[34.08793132458349, 11.394297464468407, 13.644047660121286, 5.7862230886706705, 11.016878250143177, 10.020922493328191, 8.678110017600627, 5.371589701084163]\n",
      "[50.59485178  3.7483589  44.58484058  1.07194875 64.69889685 35.30110315\n",
      " 37.98489778 43.68184764 18.21996593  0.11328865]\n",
      "[37.98489777806584, 10.229547266445172, 14.45153577473458, 19.000764599442135, 0.8225664525226569, 4.800033892017754, 12.597365584936556, 0.11328865183530643]\n",
      "[57.42098724 20.9464387   8.8515065  12.78106755 75.77005719 24.22994281\n",
      " 72.80724578 19.31770622  6.01553725  1.85951075]\n",
      "[72.80724578091598, 3.5924390953417022, 8.036263159138779, 7.689003966352464, 3.0613026551700613, 1.777526453149491, 1.176708144443368, 1.8595107454881579]\n",
      "[29.20060669 15.48750369 21.42592636 33.88596326 27.34236556 72.65763444\n",
      " 54.06777732 16.18910363 18.15261504 11.59050401]\n",
      "[54.06777732144791, 5.18365371937361, 9.786179766735975, 1.2192701394808272, 5.282533566266572, 5.457090079554151, 7.412991394555738, 11.590504012585221]\n",
      "[28.52949762 18.9285239  28.58863155 23.95334694 62.58809945 37.41190055\n",
      " 49.61843869 21.9085129  22.1886373   6.28441111]\n",
      "[49.61843869115783, 0.2896813963990983, 7.395126377287183, 14.22370512292165, 5.126334439982203, 9.42804935455385, 7.634253504224742, 6.284411113473446]\n",
      "[30.05185155 13.53920765 38.70210457 17.70683623 51.41312942 48.58687058\n",
      " 79.34475403  8.9319942   9.96671352  1.75653825]\n",
      "[79.34475402965003, 5.671367496093465, 2.3637683281989226, 0.8968583750772139, 1.3531507808308623, 4.532397192325228, 4.0811655436866925, 1.75653825413758]\n",
      "[33.30827907 28.31781086 17.52585899 20.84805108 41.5831121  58.4168879\n",
      " 77.25768308  9.55294203  9.39738213  3.79199276]\n",
      "[77.25768307883416, 0.6381143967581742, 5.510259322610489, 3.4045683118810093, 5.277911489708174, 0.9082417018547388, 3.2112289383182224, 3.791992760035025]\n",
      "[21.93674508 41.56027217  6.55045365 29.9525291  70.41635151 29.58364849\n",
      " 72.74270387 12.85428968 10.65793931  3.74506714]\n",
      "[72.74270386762605, 4.8389986572232715, 2.092785949763344, 5.922505073636145, 5.337599945844927, 4.553936937947416, 0.7664024234356953, 3.745067144523155]\n",
      "[37.38041983 20.46632033 28.53172354 13.62153631 60.73207449 39.26792551\n",
      " 78.04539012  7.85150651 12.30222139  1.80088198]\n",
      "[78.04539012452153, 0.1924028474959208, 4.565861844354967, 3.093241816961751, 2.8835399694232717, 5.409884612448459, 4.008796805624668, 1.8008819791694317]\n",
      "Epoch 1/50\n"
     ]
    },
    {
     "name": "stderr",
     "output_type": "stream",
     "text": [
      "C:\\Users\\raath\\metabolabpytools\\venv\\Lib\\site-packages\\keras\\src\\layers\\core\\dense.py:87: UserWarning: Do not pass an `input_shape`/`input_dim` argument to a layer. When using Sequential models, prefer using an `Input(shape)` object as the first layer in the model instead.\n",
      "  super().__init__(activity_regularizer=activity_regularizer, **kwargs)\n"
     ]
    },
    {
     "name": "stdout",
     "output_type": "stream",
     "text": [
      "\u001b[1m1/1\u001b[0m \u001b[32m━━━━━━━━━━━━━━━━━━━━\u001b[0m\u001b[37m\u001b[0m \u001b[1m1s\u001b[0m 962ms/step - loss: 597.9880 - val_loss: 722.0712\n",
      "Epoch 2/50\n",
      "\u001b[1m1/1\u001b[0m \u001b[32m━━━━━━━━━━━━━━━━━━━━\u001b[0m\u001b[37m\u001b[0m \u001b[1m0s\u001b[0m 66ms/step - loss: 550.1485 - val_loss: 665.6041\n",
      "Epoch 3/50\n",
      "\u001b[1m1/1\u001b[0m \u001b[32m━━━━━━━━━━━━━━━━━━━━\u001b[0m\u001b[37m\u001b[0m \u001b[1m0s\u001b[0m 50ms/step - loss: 505.8438 - val_loss: 616.0464\n",
      "Epoch 4/50\n",
      "\u001b[1m1/1\u001b[0m \u001b[32m━━━━━━━━━━━━━━━━━━━━\u001b[0m\u001b[37m\u001b[0m \u001b[1m0s\u001b[0m 66ms/step - loss: 465.0555 - val_loss: 572.0484\n",
      "Epoch 5/50\n",
      "\u001b[1m1/1\u001b[0m \u001b[32m━━━━━━━━━━━━━━━━━━━━\u001b[0m\u001b[37m\u001b[0m \u001b[1m0s\u001b[0m 50ms/step - loss: 427.6199 - val_loss: 530.5849\n",
      "Epoch 6/50\n",
      "\u001b[1m1/1\u001b[0m \u001b[32m━━━━━━━━━━━━━━━━━━━━\u001b[0m\u001b[37m\u001b[0m \u001b[1m0s\u001b[0m 54ms/step - loss: 393.0804 - val_loss: 492.4539\n",
      "Epoch 7/50\n",
      "\u001b[1m1/1\u001b[0m \u001b[32m━━━━━━━━━━━━━━━━━━━━\u001b[0m\u001b[37m\u001b[0m \u001b[1m0s\u001b[0m 50ms/step - loss: 361.1422 - val_loss: 457.4865\n",
      "Epoch 8/50\n",
      "\u001b[1m1/1\u001b[0m \u001b[32m━━━━━━━━━━━━━━━━━━━━\u001b[0m\u001b[37m\u001b[0m \u001b[1m0s\u001b[0m 82ms/step - loss: 331.6827 - val_loss: 425.3449\n",
      "Epoch 9/50\n",
      "\u001b[1m1/1\u001b[0m \u001b[32m━━━━━━━━━━━━━━━━━━━━\u001b[0m\u001b[37m\u001b[0m \u001b[1m0s\u001b[0m 53ms/step - loss: 304.5670 - val_loss: 395.3196\n",
      "Epoch 10/50\n",
      "\u001b[1m1/1\u001b[0m \u001b[32m━━━━━━━━━━━━━━━━━━━━\u001b[0m\u001b[37m\u001b[0m \u001b[1m0s\u001b[0m 50ms/step - loss: 279.7993 - val_loss: 367.3456\n",
      "Epoch 11/50\n",
      "\u001b[1m1/1\u001b[0m \u001b[32m━━━━━━━━━━━━━━━━━━━━\u001b[0m\u001b[37m\u001b[0m \u001b[1m0s\u001b[0m 66ms/step - loss: 257.1587 - val_loss: 339.7746\n",
      "Epoch 12/50\n",
      "\u001b[1m1/1\u001b[0m \u001b[32m━━━━━━━━━━━━━━━━━━━━\u001b[0m\u001b[37m\u001b[0m \u001b[1m0s\u001b[0m 50ms/step - loss: 236.3801 - val_loss: 312.8159\n",
      "Epoch 13/50\n",
      "\u001b[1m1/1\u001b[0m \u001b[32m━━━━━━━━━━━━━━━━━━━━\u001b[0m\u001b[37m\u001b[0m \u001b[1m0s\u001b[0m 53ms/step - loss: 217.4280 - val_loss: 288.3094\n",
      "Epoch 14/50\n",
      "\u001b[1m1/1\u001b[0m \u001b[32m━━━━━━━━━━━━━━━━━━━━\u001b[0m\u001b[37m\u001b[0m \u001b[1m0s\u001b[0m 51ms/step - loss: 200.2749 - val_loss: 265.7192\n",
      "Epoch 15/50\n",
      "\u001b[1m1/1\u001b[0m \u001b[32m━━━━━━━━━━━━━━━━━━━━\u001b[0m\u001b[37m\u001b[0m \u001b[1m0s\u001b[0m 53ms/step - loss: 184.1616 - val_loss: 244.7803\n",
      "Epoch 16/50\n",
      "\u001b[1m1/1\u001b[0m \u001b[32m━━━━━━━━━━━━━━━━━━━━\u001b[0m\u001b[37m\u001b[0m \u001b[1m0s\u001b[0m 51ms/step - loss: 169.7462 - val_loss: 225.3248\n",
      "Epoch 17/50\n",
      "\u001b[1m1/1\u001b[0m \u001b[32m━━━━━━━━━━━━━━━━━━━━\u001b[0m\u001b[37m\u001b[0m \u001b[1m0s\u001b[0m 53ms/step - loss: 156.4122 - val_loss: 207.4497\n",
      "Epoch 18/50\n",
      "\u001b[1m1/1\u001b[0m \u001b[32m━━━━━━━━━━━━━━━━━━━━\u001b[0m\u001b[37m\u001b[0m \u001b[1m0s\u001b[0m 51ms/step - loss: 143.8571 - val_loss: 190.6564\n",
      "Epoch 19/50\n",
      "\u001b[1m1/1\u001b[0m \u001b[32m━━━━━━━━━━━━━━━━━━━━\u001b[0m\u001b[37m\u001b[0m \u001b[1m0s\u001b[0m 66ms/step - loss: 132.2209 - val_loss: 174.7109\n",
      "Epoch 20/50\n",
      "\u001b[1m1/1\u001b[0m \u001b[32m━━━━━━━━━━━━━━━━━━━━\u001b[0m\u001b[37m\u001b[0m \u001b[1m0s\u001b[0m 72ms/step - loss: 121.3610 - val_loss: 159.3206\n",
      "Epoch 21/50\n",
      "\u001b[1m1/1\u001b[0m \u001b[32m━━━━━━━━━━━━━━━━━━━━\u001b[0m\u001b[37m\u001b[0m \u001b[1m0s\u001b[0m 52ms/step - loss: 111.1961 - val_loss: 144.7179\n",
      "Epoch 22/50\n",
      "\u001b[1m1/1\u001b[0m \u001b[32m━━━━━━━━━━━━━━━━━━━━\u001b[0m\u001b[37m\u001b[0m \u001b[1m0s\u001b[0m 51ms/step - loss: 101.5428 - val_loss: 129.5238\n",
      "Epoch 23/50\n",
      "\u001b[1m1/1\u001b[0m \u001b[32m━━━━━━━━━━━━━━━━━━━━\u001b[0m\u001b[37m\u001b[0m \u001b[1m0s\u001b[0m 53ms/step - loss: 92.5078 - val_loss: 115.0407\n",
      "Epoch 24/50\n",
      "\u001b[1m1/1\u001b[0m \u001b[32m━━━━━━━━━━━━━━━━━━━━\u001b[0m\u001b[37m\u001b[0m \u001b[1m0s\u001b[0m 51ms/step - loss: 84.0569 - val_loss: 101.4131\n",
      "Epoch 25/50\n",
      "\u001b[1m1/1\u001b[0m \u001b[32m━━━━━━━━━━━━━━━━━━━━\u001b[0m\u001b[37m\u001b[0m \u001b[1m0s\u001b[0m 53ms/step - loss: 76.1469 - val_loss: 88.7662\n",
      "Epoch 26/50\n",
      "\u001b[1m1/1\u001b[0m \u001b[32m━━━━━━━━━━━━━━━━━━━━\u001b[0m\u001b[37m\u001b[0m \u001b[1m0s\u001b[0m 51ms/step - loss: 68.9785 - val_loss: 77.2197\n",
      "Epoch 27/50\n",
      "\u001b[1m1/1\u001b[0m \u001b[32m━━━━━━━━━━━━━━━━━━━━\u001b[0m\u001b[37m\u001b[0m \u001b[1m0s\u001b[0m 53ms/step - loss: 62.5236 - val_loss: 66.8818\n",
      "Epoch 28/50\n",
      "\u001b[1m1/1\u001b[0m \u001b[32m━━━━━━━━━━━━━━━━━━━━\u001b[0m\u001b[37m\u001b[0m \u001b[1m0s\u001b[0m 51ms/step - loss: 56.9546 - val_loss: 57.8172\n",
      "Epoch 29/50\n",
      "\u001b[1m1/1\u001b[0m \u001b[32m━━━━━━━━━━━━━━━━━━━━\u001b[0m\u001b[37m\u001b[0m \u001b[1m0s\u001b[0m 53ms/step - loss: 52.3520 - val_loss: 49.4690\n",
      "Epoch 30/50\n",
      "\u001b[1m1/1\u001b[0m \u001b[32m━━━━━━━━━━━━━━━━━━━━\u001b[0m\u001b[37m\u001b[0m \u001b[1m0s\u001b[0m 51ms/step - loss: 48.7645 - val_loss: 42.5234\n",
      "Epoch 31/50\n",
      "\u001b[1m1/1\u001b[0m \u001b[32m━━━━━━━━━━━━━━━━━━━━\u001b[0m\u001b[37m\u001b[0m \u001b[1m0s\u001b[0m 53ms/step - loss: 46.1400 - val_loss: 37.0539\n",
      "Epoch 32/50\n",
      "\u001b[1m1/1\u001b[0m \u001b[32m━━━━━━━━━━━━━━━━━━━━\u001b[0m\u001b[37m\u001b[0m \u001b[1m0s\u001b[0m 63ms/step - loss: 44.3328 - val_loss: 32.9270\n",
      "Epoch 33/50\n",
      "\u001b[1m1/1\u001b[0m \u001b[32m━━━━━━━━━━━━━━━━━━━━\u001b[0m\u001b[37m\u001b[0m \u001b[1m0s\u001b[0m 52ms/step - loss: 43.2662 - val_loss: 29.9727\n",
      "Epoch 34/50\n",
      "\u001b[1m1/1\u001b[0m \u001b[32m━━━━━━━━━━━━━━━━━━━━\u001b[0m\u001b[37m\u001b[0m \u001b[1m0s\u001b[0m 61ms/step - loss: 42.7662 - val_loss: 27.9488\n",
      "Epoch 35/50\n",
      "\u001b[1m1/1\u001b[0m \u001b[32m━━━━━━━━━━━━━━━━━━━━\u001b[0m\u001b[37m\u001b[0m \u001b[1m0s\u001b[0m 51ms/step - loss: 42.6231 - val_loss: 26.5965\n",
      "Epoch 36/50\n",
      "\u001b[1m1/1\u001b[0m \u001b[32m━━━━━━━━━━━━━━━━━━━━\u001b[0m\u001b[37m\u001b[0m \u001b[1m0s\u001b[0m 74ms/step - loss: 42.5862 - val_loss: 25.6656\n",
      "Epoch 37/50\n",
      "\u001b[1m1/1\u001b[0m \u001b[32m━━━━━━━━━━━━━━━━━━━━\u001b[0m\u001b[37m\u001b[0m \u001b[1m0s\u001b[0m 45ms/step - loss: 42.4740 - val_loss: 24.9409\n",
      "Epoch 38/50\n",
      "\u001b[1m1/1\u001b[0m \u001b[32m━━━━━━━━━━━━━━━━━━━━\u001b[0m\u001b[37m\u001b[0m \u001b[1m0s\u001b[0m 64ms/step - loss: 42.1013 - val_loss: 24.2713\n",
      "Epoch 39/50\n",
      "\u001b[1m1/1\u001b[0m \u001b[32m━━━━━━━━━━━━━━━━━━━━\u001b[0m\u001b[37m\u001b[0m \u001b[1m0s\u001b[0m 50ms/step - loss: 41.4025 - val_loss: 23.5660\n",
      "Epoch 40/50\n",
      "\u001b[1m1/1\u001b[0m \u001b[32m━━━━━━━━━━━━━━━━━━━━\u001b[0m\u001b[37m\u001b[0m \u001b[1m0s\u001b[0m 50ms/step - loss: 40.3873 - val_loss: 22.7539\n",
      "Epoch 41/50\n",
      "\u001b[1m1/1\u001b[0m \u001b[32m━━━━━━━━━━━━━━━━━━━━\u001b[0m\u001b[37m\u001b[0m \u001b[1m0s\u001b[0m 45ms/step - loss: 39.0431 - val_loss: 21.8477\n",
      "Epoch 42/50\n",
      "\u001b[1m1/1\u001b[0m \u001b[32m━━━━━━━━━━━━━━━━━━━━\u001b[0m\u001b[37m\u001b[0m \u001b[1m0s\u001b[0m 50ms/step - loss: 37.4239 - val_loss: 20.8981\n",
      "Epoch 43/50\n",
      "\u001b[1m1/1\u001b[0m \u001b[32m━━━━━━━━━━━━━━━━━━━━\u001b[0m\u001b[37m\u001b[0m \u001b[1m0s\u001b[0m 50ms/step - loss: 35.6185 - val_loss: 19.9736\n",
      "Epoch 44/50\n",
      "\u001b[1m1/1\u001b[0m \u001b[32m━━━━━━━━━━━━━━━━━━━━\u001b[0m\u001b[37m\u001b[0m \u001b[1m0s\u001b[0m 64ms/step - loss: 33.7630 - val_loss: 19.1359\n",
      "Epoch 45/50\n",
      "\u001b[1m1/1\u001b[0m \u001b[32m━━━━━━━━━━━━━━━━━━━━\u001b[0m\u001b[37m\u001b[0m \u001b[1m0s\u001b[0m 51ms/step - loss: 31.9412 - val_loss: 18.4292\n",
      "Epoch 46/50\n",
      "\u001b[1m1/1\u001b[0m \u001b[32m━━━━━━━━━━━━━━━━━━━━\u001b[0m\u001b[37m\u001b[0m \u001b[1m0s\u001b[0m 51ms/step - loss: 30.2228 - val_loss: 17.8744\n",
      "Epoch 47/50\n",
      "\u001b[1m1/1\u001b[0m \u001b[32m━━━━━━━━━━━━━━━━━━━━\u001b[0m\u001b[37m\u001b[0m \u001b[1m0s\u001b[0m 50ms/step - loss: 28.6667 - val_loss: 17.4675\n",
      "Epoch 48/50\n",
      "\u001b[1m1/1\u001b[0m \u001b[32m━━━━━━━━━━━━━━━━━━━━\u001b[0m\u001b[37m\u001b[0m \u001b[1m0s\u001b[0m 73ms/step - loss: 27.2932 - val_loss: 17.1880\n",
      "Epoch 49/50\n",
      "\u001b[1m1/1\u001b[0m \u001b[32m━━━━━━━━━━━━━━━━━━━━\u001b[0m\u001b[37m\u001b[0m \u001b[1m0s\u001b[0m 50ms/step - loss: 26.1028 - val_loss: 16.9973\n",
      "Epoch 50/50\n",
      "\u001b[1m1/1\u001b[0m \u001b[32m━━━━━━━━━━━━━━━━━━━━\u001b[0m\u001b[37m\u001b[0m \u001b[1m0s\u001b[0m 50ms/step - loss: 25.0635 - val_loss: 16.8511\n",
      "\u001b[1m1/1\u001b[0m \u001b[32m━━━━━━━━━━━━━━━━━━━━\u001b[0m\u001b[37m\u001b[0m \u001b[1m0s\u001b[0m 40ms/step\n",
      "Test Sample True Isotopomer Distribution: [72.74270387  4.83899866  2.09278595  5.92250507  5.33759995  4.55393694\n",
      "  0.76640242  3.74506714]\n",
      "Test Sample Predicted Isotopomer Distribution: [65.5707     7.3416815  5.5373306  6.3671145  3.8660927  8.759478\n",
      "  0.3679071 -2.9656851]\n"
     ]
    }
   ],
   "source": [
    "import numpy as np\n",
    "import pandas as pd\n",
    "from metabolabpytools import isotopomerAnalysis\n",
    "\n",
    "def generate_isotopomer_percentages():\n",
    "    unlabelled_percentage = np.random.uniform(20, 80)  # Unlabelled percentage between 20% and 80%\n",
    "    remaining_percentage = 100 - unlabelled_percentage\n",
    "    \n",
    "    # Generate random percentages for the remaining 7 isotopomers\n",
    "    random_values = np.random.rand(7)\n",
    "    random_percentages = (random_values / random_values.sum()) * remaining_percentage\n",
    "    \n",
    "    # Combine unlabelled and other isotopomer percentages\n",
    "    percentages = [unlabelled_percentage] + list(random_percentages)\n",
    "    \n",
    "    return percentages\n",
    "\n",
    "\n",
    "ia = isotopomerAnalysis.IsotopomerAnalysis()\n",
    "\n",
    "# Ensure isotopomers is correctly initialized\n",
    "isotopomers = [\n",
    "    [0, 0, 0],  # Unlabelled\n",
    "    [1, 0, 0],\n",
    "    [0, 1, 0],\n",
    "    [0, 0, 1],\n",
    "    [1, 1, 0],\n",
    "    [1, 0, 1],\n",
    "    [0, 1, 1],\n",
    "    [1, 1, 1]\n",
    "]\n",
    "\n",
    "num_samples = 10\n",
    "hsqc = [0, 1, 1]\n",
    "metabolite = 'L-LacticAcid'\n",
    "\n",
    "# Initialize the metabolite with multiple samples\n",
    "ia.init_metabolite_multiple_samples(metabolite, hsqc, num_samples=num_samples)\n",
    "\n",
    "# Initialize and set isotopomers for multiple samples\n",
    "generated_percentages = []\n",
    "for exp_index in range(num_samples):\n",
    "    random_percentages = generate_isotopomer_percentages()  # Generate new random percentages for each sample\n",
    "    generated_percentages.append(random_percentages)  # Store generated percentages for comparison\n",
    "    \n",
    "    ia.set_fit_isotopomers_simple(metabolite=metabolite, isotopomers=isotopomers, percentages=random_percentages, exp_index=exp_index)\n",
    "    ia.sim_hsqc_data(metabolite=metabolite, exp_index=exp_index, isotopomers=isotopomers, percentages=random_percentages)\n",
    "    ia.sim_gcms_data(metabolite, exp_index)\n",
    "\n",
    "ia.use_hsqc_multiplet_data = True\n",
    "ia.use_gcms_data = True\n",
    "ia.use_nmr1d_data = False\n",
    "\n",
    "\n",
    "# Fit data using neural network with multiple samples\n",
    "ia.fit_data_nn(metabolite=metabolite, fit_isotopomers=isotopomers, percentages = generated_percentages, num_samples=num_samples)\n",
    "\n",
    "# #Gather data for all samples and export to a CSV file\n",
    "sample_data_df = ia.gather_sample_data(metabolite=metabolite, num_samples=num_samples)\n",
    "\n",
    "# # Add generated percentages to the DataFrame for comparison\n",
    "sample_data_df['Generated Isotopomer Percentages'] = generated_percentages\n",
    "\n",
    "# #print(sample_data_df)\n",
    "\n",
    "# # Export to CSV\n",
    "sample_data_df.to_csv('sample_data.csv', index=False)\n"
   ]
  },
  {
   "cell_type": "code",
   "execution_count": null,
   "id": "8efbf3f5-3bd5-4323-a29d-08327628f30f",
   "metadata": {},
   "outputs": [],
   "source": []
  }
 ],
 "metadata": {
  "kernelspec": {
   "display_name": "Python 3 (ipykernel)",
   "language": "python",
   "name": "python3"
  },
  "language_info": {
   "codemirror_mode": {
    "name": "ipython",
    "version": 3
   },
   "file_extension": ".py",
   "mimetype": "text/x-python",
   "name": "python",
   "nbconvert_exporter": "python",
   "pygments_lexer": "ipython3",
   "version": "3.12.3"
  }
 },
 "nbformat": 4,
 "nbformat_minor": 5
}
