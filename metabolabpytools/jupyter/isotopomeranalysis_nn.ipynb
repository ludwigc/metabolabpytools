{
 "cells": [
  {
   "cell_type": "markdown",
   "id": "ac3cccf6-5bc3-43d6-bb55-0eef464dd9aa",
   "metadata": {},
   "source": [
    "## Neural Network Isopotopomer Analysis\n",
    "\n",
    "### Step 1 - Data simulation:\n",
    "\n",
    "- All data now simulated, find sim data in the relevant sim save. More/diverse datasets can be created to train the networks even further"
   ]
  },
  {
   "cell_type": "code",
   "execution_count": 2,
   "id": "107a8260-b16d-4d68-88aa-2a677300350c",
   "metadata": {
    "ExecuteTime": {
     "end_time": "2024-08-19T12:17:57.039906Z",
     "start_time": "2024-08-19T12:17:56.063185Z"
    }
   },
   "outputs": [
    {
     "name": "stdout",
     "output_type": "stream",
     "text": [
      "Data successfully saved to sim_data/sim_010.xlsx\n"
     ]
    }
   ],
   "source": [
    "import pandas as pd\n",
    "from metabolabpytools import isotopomerAnalysis\n",
    "analysis = isotopomerAnalysis.IsotopomerAnalysisNN()\n",
    "\n",
    "# Define the HSQC vector externally\n",
    "hsqc_vector = [0, 1, 0] # For 3-carbon metabolites, all carbons participate in HSQC\n",
    "n_carbons = len(hsqc_vector)\n",
    "\n",
    "# Example usage\n",
    "synthetic_distributions = analysis.generate_isotopomer_distributions(n_distributions=1000, n_carbons=n_carbons)  \n",
    "\n",
    "\n",
    "# Simulate HSQC and GC-MS data for all distributions with the defined HSQC vector\n",
    "combined_isotopomer_data, combined_hsqc_data, combined_gcms_data = analysis.simulate_hsqc_gcms(synthetic_distributions, hsqc_vector)\n",
    "\n",
    "# Save the simulation data to a spreadsheet\n",
    "analysis.save_simulation_data(combined_isotopomer_data, combined_hsqc_data, combined_gcms_data, hsqc_vector)"
   ]
  },
  {
   "cell_type": "markdown",
   "id": "c46217cb-a520-4d7c-8cce-9dff7e32c16b",
   "metadata": {},
   "source": [
    "### Step 2 - Data preparation:\n",
    "\n",
    "-Using [0, 1, 1, 0] as example "
   ]
  },
  {
   "cell_type": "code",
   "execution_count": 6,
   "id": "b4282db9-9784-4e36-b788-73d8e86806ea",
   "metadata": {},
   "outputs": [
    {
     "name": "stdout",
     "output_type": "stream",
     "text": [
      "[44.77626703  9.64497454  5.64510035  0.          5.8507274   0.\n",
      "  0.          0.          8.16475425  0.         10.83805303  3.35811042\n",
      "  0.          0.          0.         11.72201297]\n",
      "[34.18004628  0.81261443 64.37895144  0.62838785 51.70025895 11.15246416\n",
      "  0.73995497 36.40732192 44.77626703 29.30555654 10.83805303  3.35811042\n",
      " 11.72201297]\n"
     ]
    }
   ],
   "source": [
    "from metabolabpytools import isotopomerAnalysis\n",
    "analysis = isotopomerAnalysis.IsotopomerAnalysisNN()\n",
    "\n",
    "# Example usage for HSQC vector [0,1,1, 0]\n",
    "hsqc_vector = [0, 1, 1, 0]\n",
    "num_carbons = len(hsqc_vector)\n",
    "isotopomer_data, hsqc_data, gcms_data = analysis.load_spreadsheet_by_hsqc_vector(hsqc_vector)\n",
    "\n",
    "all_possible_hsqc_multiplets = analysis.generate_possible_hsqc_multiplets(hsqc_vector)\n",
    "\n",
    "Y = analysis.collate_y_labels(isotopomer_data, num_carbons)\n",
    "\n",
    "X_noisy = analysis.collate_x_labels_without_noise(hsqc_data, gcms_data, all_possible_hsqc_multiplets)\n",
    "\n",
    "\n",
    "# # Now Y contains the isotopomer percentages for each sample, structured for training a neural network\n",
    "print(Y[7])\n",
    "print(X_noisy[7])"
   ]
  },
  {
   "cell_type": "markdown",
   "id": "a2d392a5-6aad-48d4-b953-f46f6a77c73c",
   "metadata": {},
   "source": [
    "### Step 3 - Train a Neural Network:"
   ]
  },
  {
   "cell_type": "code",
   "execution_count": 2,
   "id": "7818209f-e76b-4c3e-a4d6-ac5efa39f296",
   "metadata": {},
   "outputs": [
    {
     "data": {
      "text/html": [
       "<pre style=\"white-space:pre;overflow-x:auto;line-height:normal;font-family:Menlo,'DejaVu Sans Mono',consolas,'Courier New',monospace\"><span style=\"font-weight: bold\">Model: \"sequential\"</span>\n",
       "</pre>\n"
      ],
      "text/plain": [
       "\u001b[1mModel: \"sequential\"\u001b[0m\n"
      ]
     },
     "metadata": {},
     "output_type": "display_data"
    },
    {
     "data": {
      "text/html": [
       "<pre style=\"white-space:pre;overflow-x:auto;line-height:normal;font-family:Menlo,'DejaVu Sans Mono',consolas,'Courier New',monospace\">┏━━━━━━━━━━━━━━━━━━━━━━━━━━━━━━━━━┳━━━━━━━━━━━━━━━━━━━━━━━━┳━━━━━━━━━━━━━━━┓\n",
       "┃<span style=\"font-weight: bold\"> Layer (type)                    </span>┃<span style=\"font-weight: bold\"> Output Shape           </span>┃<span style=\"font-weight: bold\">       Param # </span>┃\n",
       "┡━━━━━━━━━━━━━━━━━━━━━━━━━━━━━━━━━╇━━━━━━━━━━━━━━━━━━━━━━━━╇━━━━━━━━━━━━━━━┩\n",
       "│ dense (<span style=\"color: #0087ff; text-decoration-color: #0087ff\">Dense</span>)                   │ (<span style=\"color: #00d7ff; text-decoration-color: #00d7ff\">None</span>, <span style=\"color: #00af00; text-decoration-color: #00af00\">128</span>)            │         <span style=\"color: #00af00; text-decoration-color: #00af00\">1,792</span> │\n",
       "├─────────────────────────────────┼────────────────────────┼───────────────┤\n",
       "│ dense_1 (<span style=\"color: #0087ff; text-decoration-color: #0087ff\">Dense</span>)                 │ (<span style=\"color: #00d7ff; text-decoration-color: #00d7ff\">None</span>, <span style=\"color: #00af00; text-decoration-color: #00af00\">64</span>)             │         <span style=\"color: #00af00; text-decoration-color: #00af00\">8,256</span> │\n",
       "├─────────────────────────────────┼────────────────────────┼───────────────┤\n",
       "│ dense_2 (<span style=\"color: #0087ff; text-decoration-color: #0087ff\">Dense</span>)                 │ (<span style=\"color: #00d7ff; text-decoration-color: #00d7ff\">None</span>, <span style=\"color: #00af00; text-decoration-color: #00af00\">32</span>)             │         <span style=\"color: #00af00; text-decoration-color: #00af00\">2,080</span> │\n",
       "├─────────────────────────────────┼────────────────────────┼───────────────┤\n",
       "│ dense_3 (<span style=\"color: #0087ff; text-decoration-color: #0087ff\">Dense</span>)                 │ (<span style=\"color: #00d7ff; text-decoration-color: #00d7ff\">None</span>, <span style=\"color: #00af00; text-decoration-color: #00af00\">16</span>)             │           <span style=\"color: #00af00; text-decoration-color: #00af00\">528</span> │\n",
       "└─────────────────────────────────┴────────────────────────┴───────────────┘\n",
       "</pre>\n"
      ],
      "text/plain": [
       "┏━━━━━━━━━━━━━━━━━━━━━━━━━━━━━━━━━┳━━━━━━━━━━━━━━━━━━━━━━━━┳━━━━━━━━━━━━━━━┓\n",
       "┃\u001b[1m \u001b[0m\u001b[1mLayer (type)                   \u001b[0m\u001b[1m \u001b[0m┃\u001b[1m \u001b[0m\u001b[1mOutput Shape          \u001b[0m\u001b[1m \u001b[0m┃\u001b[1m \u001b[0m\u001b[1m      Param #\u001b[0m\u001b[1m \u001b[0m┃\n",
       "┡━━━━━━━━━━━━━━━━━━━━━━━━━━━━━━━━━╇━━━━━━━━━━━━━━━━━━━━━━━━╇━━━━━━━━━━━━━━━┩\n",
       "│ dense (\u001b[38;5;33mDense\u001b[0m)                   │ (\u001b[38;5;45mNone\u001b[0m, \u001b[38;5;34m128\u001b[0m)            │         \u001b[38;5;34m1,792\u001b[0m │\n",
       "├─────────────────────────────────┼────────────────────────┼───────────────┤\n",
       "│ dense_1 (\u001b[38;5;33mDense\u001b[0m)                 │ (\u001b[38;5;45mNone\u001b[0m, \u001b[38;5;34m64\u001b[0m)             │         \u001b[38;5;34m8,256\u001b[0m │\n",
       "├─────────────────────────────────┼────────────────────────┼───────────────┤\n",
       "│ dense_2 (\u001b[38;5;33mDense\u001b[0m)                 │ (\u001b[38;5;45mNone\u001b[0m, \u001b[38;5;34m32\u001b[0m)             │         \u001b[38;5;34m2,080\u001b[0m │\n",
       "├─────────────────────────────────┼────────────────────────┼───────────────┤\n",
       "│ dense_3 (\u001b[38;5;33mDense\u001b[0m)                 │ (\u001b[38;5;45mNone\u001b[0m, \u001b[38;5;34m16\u001b[0m)             │           \u001b[38;5;34m528\u001b[0m │\n",
       "└─────────────────────────────────┴────────────────────────┴───────────────┘\n"
      ]
     },
     "metadata": {},
     "output_type": "display_data"
    },
    {
     "data": {
      "text/html": [
       "<pre style=\"white-space:pre;overflow-x:auto;line-height:normal;font-family:Menlo,'DejaVu Sans Mono',consolas,'Courier New',monospace\"><span style=\"font-weight: bold\"> Total params: </span><span style=\"color: #00af00; text-decoration-color: #00af00\">12,656</span> (49.44 KB)\n",
       "</pre>\n"
      ],
      "text/plain": [
       "\u001b[1m Total params: \u001b[0m\u001b[38;5;34m12,656\u001b[0m (49.44 KB)\n"
      ]
     },
     "metadata": {},
     "output_type": "display_data"
    },
    {
     "data": {
      "text/html": [
       "<pre style=\"white-space:pre;overflow-x:auto;line-height:normal;font-family:Menlo,'DejaVu Sans Mono',consolas,'Courier New',monospace\"><span style=\"font-weight: bold\"> Trainable params: </span><span style=\"color: #00af00; text-decoration-color: #00af00\">12,656</span> (49.44 KB)\n",
       "</pre>\n"
      ],
      "text/plain": [
       "\u001b[1m Trainable params: \u001b[0m\u001b[38;5;34m12,656\u001b[0m (49.44 KB)\n"
      ]
     },
     "metadata": {},
     "output_type": "display_data"
    },
    {
     "data": {
      "text/html": [
       "<pre style=\"white-space:pre;overflow-x:auto;line-height:normal;font-family:Menlo,'DejaVu Sans Mono',consolas,'Courier New',monospace\"><span style=\"font-weight: bold\"> Non-trainable params: </span><span style=\"color: #00af00; text-decoration-color: #00af00\">0</span> (0.00 B)\n",
       "</pre>\n"
      ],
      "text/plain": [
       "\u001b[1m Non-trainable params: \u001b[0m\u001b[38;5;34m0\u001b[0m (0.00 B)\n"
      ]
     },
     "metadata": {},
     "output_type": "display_data"
    },
    {
     "name": "stdout",
     "output_type": "stream",
     "text": [
      "Epoch 1/100\n",
      "\u001b[1m250/250\u001b[0m \u001b[32m━━━━━━━━━━━━━━━━━━━━\u001b[0m\u001b[37m\u001b[0m \u001b[1m2s\u001b[0m 2ms/step - loss: 43.7618 - mae: 3.2031 - val_loss: 12.0061 - val_mae: 1.8994\n",
      "Epoch 2/100\n",
      "\u001b[1m250/250\u001b[0m \u001b[32m━━━━━━━━━━━━━━━━━━━━\u001b[0m\u001b[37m\u001b[0m \u001b[1m0s\u001b[0m 1ms/step - loss: 12.3502 - mae: 1.9075 - val_loss: 10.5454 - val_mae: 1.7008\n",
      "Epoch 3/100\n",
      "\u001b[1m250/250\u001b[0m \u001b[32m━━━━━━━━━━━━━━━━━━━━\u001b[0m\u001b[37m\u001b[0m \u001b[1m0s\u001b[0m 1ms/step - loss: 11.0408 - mae: 1.7566 - val_loss: 10.2635 - val_mae: 1.6596\n",
      "Epoch 4/100\n",
      "\u001b[1m250/250\u001b[0m \u001b[32m━━━━━━━━━━━━━━━━━━━━\u001b[0m\u001b[37m\u001b[0m \u001b[1m0s\u001b[0m 1ms/step - loss: 10.6217 - mae: 1.6973 - val_loss: 10.2219 - val_mae: 1.6915\n",
      "Epoch 5/100\n",
      "\u001b[1m250/250\u001b[0m \u001b[32m━━━━━━━━━━━━━━━━━━━━\u001b[0m\u001b[37m\u001b[0m \u001b[1m0s\u001b[0m 1ms/step - loss: 10.4284 - mae: 1.7006 - val_loss: 8.9840 - val_mae: 1.5909\n",
      "Epoch 6/100\n",
      "\u001b[1m250/250\u001b[0m \u001b[32m━━━━━━━━━━━━━━━━━━━━\u001b[0m\u001b[37m\u001b[0m \u001b[1m0s\u001b[0m 1ms/step - loss: 9.2196 - mae: 1.6104 - val_loss: 8.2968 - val_mae: 1.4910\n",
      "Epoch 7/100\n",
      "\u001b[1m250/250\u001b[0m \u001b[32m━━━━━━━━━━━━━━━━━━━━\u001b[0m\u001b[37m\u001b[0m \u001b[1m0s\u001b[0m 1ms/step - loss: 8.7760 - mae: 1.5690 - val_loss: 8.2865 - val_mae: 1.4810\n",
      "Epoch 8/100\n",
      "\u001b[1m250/250\u001b[0m \u001b[32m━━━━━━━━━━━━━━━━━━━━\u001b[0m\u001b[37m\u001b[0m \u001b[1m0s\u001b[0m 1ms/step - loss: 8.7784 - mae: 1.5603 - val_loss: 7.6377 - val_mae: 1.4621\n",
      "Epoch 9/100\n",
      "\u001b[1m250/250\u001b[0m \u001b[32m━━━━━━━━━━━━━━━━━━━━\u001b[0m\u001b[37m\u001b[0m \u001b[1m0s\u001b[0m 1ms/step - loss: 7.8417 - mae: 1.4966 - val_loss: 7.6739 - val_mae: 1.4954\n",
      "Epoch 10/100\n",
      "\u001b[1m250/250\u001b[0m \u001b[32m━━━━━━━━━━━━━━━━━━━━\u001b[0m\u001b[37m\u001b[0m \u001b[1m0s\u001b[0m 1ms/step - loss: 7.6061 - mae: 1.4911 - val_loss: 7.4134 - val_mae: 1.4249\n",
      "Epoch 11/100\n",
      "\u001b[1m250/250\u001b[0m \u001b[32m━━━━━━━━━━━━━━━━━━━━\u001b[0m\u001b[37m\u001b[0m \u001b[1m0s\u001b[0m 1ms/step - loss: 7.6800 - mae: 1.4714 - val_loss: 7.5150 - val_mae: 1.4250\n",
      "Epoch 12/100\n",
      "\u001b[1m250/250\u001b[0m \u001b[32m━━━━━━━━━━━━━━━━━━━━\u001b[0m\u001b[37m\u001b[0m \u001b[1m0s\u001b[0m 2ms/step - loss: 7.5500 - mae: 1.4606 - val_loss: 7.4487 - val_mae: 1.4216\n",
      "Epoch 13/100\n",
      "\u001b[1m250/250\u001b[0m \u001b[32m━━━━━━━━━━━━━━━━━━━━\u001b[0m\u001b[37m\u001b[0m \u001b[1m0s\u001b[0m 1ms/step - loss: 7.4636 - mae: 1.4546 - val_loss: 7.4285 - val_mae: 1.4233\n",
      "Epoch 14/100\n",
      "\u001b[1m250/250\u001b[0m \u001b[32m━━━━━━━━━━━━━━━━━━━━\u001b[0m\u001b[37m\u001b[0m \u001b[1m0s\u001b[0m 1ms/step - loss: 7.4953 - mae: 1.4540 - val_loss: 7.3593 - val_mae: 1.4154\n",
      "Epoch 15/100\n",
      "\u001b[1m250/250\u001b[0m \u001b[32m━━━━━━━━━━━━━━━━━━━━\u001b[0m\u001b[37m\u001b[0m \u001b[1m0s\u001b[0m 2ms/step - loss: 7.5494 - mae: 1.4532 - val_loss: 7.4249 - val_mae: 1.4108\n",
      "Epoch 16/100\n",
      "\u001b[1m250/250\u001b[0m \u001b[32m━━━━━━━━━━━━━━━━━━━━\u001b[0m\u001b[37m\u001b[0m \u001b[1m0s\u001b[0m 1ms/step - loss: 7.4078 - mae: 1.4428 - val_loss: 7.4283 - val_mae: 1.4398\n",
      "Epoch 17/100\n",
      "\u001b[1m250/250\u001b[0m \u001b[32m━━━━━━━━━━━━━━━━━━━━\u001b[0m\u001b[37m\u001b[0m \u001b[1m0s\u001b[0m 1ms/step - loss: 7.4255 - mae: 1.4389 - val_loss: 7.3702 - val_mae: 1.4239\n",
      "Epoch 18/100\n",
      "\u001b[1m250/250\u001b[0m \u001b[32m━━━━━━━━━━━━━━━━━━━━\u001b[0m\u001b[37m\u001b[0m \u001b[1m0s\u001b[0m 1ms/step - loss: 7.3108 - mae: 1.4488 - val_loss: 7.2724 - val_mae: 1.3929\n",
      "Epoch 19/100\n",
      "\u001b[1m250/250\u001b[0m \u001b[32m━━━━━━━━━━━━━━━━━━━━\u001b[0m\u001b[37m\u001b[0m \u001b[1m0s\u001b[0m 1ms/step - loss: 7.3170 - mae: 1.4302 - val_loss: 7.3027 - val_mae: 1.3991\n",
      "Epoch 20/100\n",
      "\u001b[1m250/250\u001b[0m \u001b[32m━━━━━━━━━━━━━━━━━━━━\u001b[0m\u001b[37m\u001b[0m \u001b[1m0s\u001b[0m 1ms/step - loss: 7.1929 - mae: 1.4145 - val_loss: 7.3586 - val_mae: 1.4059\n",
      "Epoch 21/100\n",
      "\u001b[1m250/250\u001b[0m \u001b[32m━━━━━━━━━━━━━━━━━━━━\u001b[0m\u001b[37m\u001b[0m \u001b[1m0s\u001b[0m 1ms/step - loss: 7.2998 - mae: 1.4251 - val_loss: 7.2544 - val_mae: 1.3938\n",
      "Epoch 22/100\n",
      "\u001b[1m250/250\u001b[0m \u001b[32m━━━━━━━━━━━━━━━━━━━━\u001b[0m\u001b[37m\u001b[0m \u001b[1m0s\u001b[0m 1ms/step - loss: 7.3228 - mae: 1.4209 - val_loss: 7.3168 - val_mae: 1.3864\n",
      "Epoch 23/100\n",
      "\u001b[1m250/250\u001b[0m \u001b[32m━━━━━━━━━━━━━━━━━━━━\u001b[0m\u001b[37m\u001b[0m \u001b[1m0s\u001b[0m 1ms/step - loss: 7.3770 - mae: 1.4256 - val_loss: 7.3375 - val_mae: 1.4004\n",
      "Epoch 24/100\n",
      "\u001b[1m250/250\u001b[0m \u001b[32m━━━━━━━━━━━━━━━━━━━━\u001b[0m\u001b[37m\u001b[0m \u001b[1m0s\u001b[0m 1ms/step - loss: 7.3033 - mae: 1.4197 - val_loss: 7.3660 - val_mae: 1.4166\n",
      "Epoch 25/100\n",
      "\u001b[1m250/250\u001b[0m \u001b[32m━━━━━━━━━━━━━━━━━━━━\u001b[0m\u001b[37m\u001b[0m \u001b[1m0s\u001b[0m 1ms/step - loss: 7.2060 - mae: 1.4085 - val_loss: 7.1606 - val_mae: 1.3631\n",
      "Epoch 26/100\n",
      "\u001b[1m250/250\u001b[0m \u001b[32m━━━━━━━━━━━━━━━━━━━━\u001b[0m\u001b[37m\u001b[0m \u001b[1m0s\u001b[0m 1ms/step - loss: 7.2418 - mae: 1.3993 - val_loss: 7.2454 - val_mae: 1.3784\n",
      "Epoch 27/100\n",
      "\u001b[1m250/250\u001b[0m \u001b[32m━━━━━━━━━━━━━━━━━━━━\u001b[0m\u001b[37m\u001b[0m \u001b[1m0s\u001b[0m 1ms/step - loss: 7.2622 - mae: 1.4098 - val_loss: 7.3448 - val_mae: 1.4063\n",
      "Epoch 28/100\n",
      "\u001b[1m250/250\u001b[0m \u001b[32m━━━━━━━━━━━━━━━━━━━━\u001b[0m\u001b[37m\u001b[0m \u001b[1m0s\u001b[0m 1ms/step - loss: 7.2213 - mae: 1.4127 - val_loss: 7.4329 - val_mae: 1.3940\n",
      "Epoch 29/100\n",
      "\u001b[1m250/250\u001b[0m \u001b[32m━━━━━━━━━━━━━━━━━━━━\u001b[0m\u001b[37m\u001b[0m \u001b[1m0s\u001b[0m 1ms/step - loss: 7.0712 - mae: 1.3890 - val_loss: 7.2557 - val_mae: 1.3716\n",
      "Epoch 30/100\n",
      "\u001b[1m250/250\u001b[0m \u001b[32m━━━━━━━━━━━━━━━━━━━━\u001b[0m\u001b[37m\u001b[0m \u001b[1m0s\u001b[0m 1ms/step - loss: 6.9624 - mae: 1.3679 - val_loss: 7.1670 - val_mae: 1.3781\n",
      "Epoch 31/100\n",
      "\u001b[1m250/250\u001b[0m \u001b[32m━━━━━━━━━━━━━━━━━━━━\u001b[0m\u001b[37m\u001b[0m \u001b[1m0s\u001b[0m 2ms/step - loss: 6.9522 - mae: 1.3742 - val_loss: 7.1519 - val_mae: 1.3828\n",
      "Epoch 32/100\n",
      "\u001b[1m250/250\u001b[0m \u001b[32m━━━━━━━━━━━━━━━━━━━━\u001b[0m\u001b[37m\u001b[0m \u001b[1m0s\u001b[0m 1ms/step - loss: 7.2333 - mae: 1.4042 - val_loss: 7.1982 - val_mae: 1.3771\n",
      "Epoch 33/100\n",
      "\u001b[1m250/250\u001b[0m \u001b[32m━━━━━━━━━━━━━━━━━━━━\u001b[0m\u001b[37m\u001b[0m \u001b[1m0s\u001b[0m 1ms/step - loss: 7.1649 - mae: 1.3907 - val_loss: 7.2402 - val_mae: 1.3932\n",
      "Epoch 34/100\n",
      "\u001b[1m250/250\u001b[0m \u001b[32m━━━━━━━━━━━━━━━━━━━━\u001b[0m\u001b[37m\u001b[0m \u001b[1m0s\u001b[0m 1ms/step - loss: 6.9973 - mae: 1.3847 - val_loss: 7.1852 - val_mae: 1.3608\n",
      "Epoch 35/100\n",
      "\u001b[1m250/250\u001b[0m \u001b[32m━━━━━━━━━━━━━━━━━━━━\u001b[0m\u001b[37m\u001b[0m \u001b[1m0s\u001b[0m 1ms/step - loss: 7.1905 - mae: 1.3881 - val_loss: 7.2437 - val_mae: 1.3781\n",
      "Epoch 36/100\n",
      "\u001b[1m250/250\u001b[0m \u001b[32m━━━━━━━━━━━━━━━━━━━━\u001b[0m\u001b[37m\u001b[0m \u001b[1m0s\u001b[0m 1ms/step - loss: 7.0304 - mae: 1.3895 - val_loss: 7.2210 - val_mae: 1.3511\n",
      "Epoch 37/100\n",
      "\u001b[1m250/250\u001b[0m \u001b[32m━━━━━━━━━━━━━━━━━━━━\u001b[0m\u001b[37m\u001b[0m \u001b[1m0s\u001b[0m 1ms/step - loss: 7.1235 - mae: 1.3862 - val_loss: 7.3296 - val_mae: 1.4053\n",
      "Epoch 38/100\n",
      "\u001b[1m250/250\u001b[0m \u001b[32m━━━━━━━━━━━━━━━━━━━━\u001b[0m\u001b[37m\u001b[0m \u001b[1m0s\u001b[0m 1ms/step - loss: 7.1943 - mae: 1.3918 - val_loss: 7.2446 - val_mae: 1.4023\n",
      "Epoch 39/100\n",
      "\u001b[1m250/250\u001b[0m \u001b[32m━━━━━━━━━━━━━━━━━━━━\u001b[0m\u001b[37m\u001b[0m \u001b[1m0s\u001b[0m 1ms/step - loss: 7.0118 - mae: 1.3675 - val_loss: 7.1893 - val_mae: 1.3850\n",
      "Epoch 40/100\n",
      "\u001b[1m250/250\u001b[0m \u001b[32m━━━━━━━━━━━━━━━━━━━━\u001b[0m\u001b[37m\u001b[0m \u001b[1m0s\u001b[0m 2ms/step - loss: 7.1046 - mae: 1.3768 - val_loss: 7.2710 - val_mae: 1.3756\n",
      "Epoch 41/100\n",
      "\u001b[1m250/250\u001b[0m \u001b[32m━━━━━━━━━━━━━━━━━━━━\u001b[0m\u001b[37m\u001b[0m \u001b[1m0s\u001b[0m 1ms/step - loss: 7.0056 - mae: 1.3762 - val_loss: 7.3325 - val_mae: 1.3847\n",
      "Epoch 42/100\n",
      "\u001b[1m250/250\u001b[0m \u001b[32m━━━━━━━━━━━━━━━━━━━━\u001b[0m\u001b[37m\u001b[0m \u001b[1m0s\u001b[0m 1ms/step - loss: 6.8191 - mae: 1.3543 - val_loss: 7.3130 - val_mae: 1.3993\n",
      "Epoch 43/100\n",
      "\u001b[1m250/250\u001b[0m \u001b[32m━━━━━━━━━━━━━━━━━━━━\u001b[0m\u001b[37m\u001b[0m \u001b[1m0s\u001b[0m 1ms/step - loss: 7.0449 - mae: 1.3693 - val_loss: 7.1168 - val_mae: 1.3602\n",
      "Epoch 44/100\n",
      "\u001b[1m250/250\u001b[0m \u001b[32m━━━━━━━━━━━━━━━━━━━━\u001b[0m\u001b[37m\u001b[0m \u001b[1m0s\u001b[0m 2ms/step - loss: 6.9852 - mae: 1.3692 - val_loss: 7.2186 - val_mae: 1.3520\n",
      "Epoch 45/100\n",
      "\u001b[1m250/250\u001b[0m \u001b[32m━━━━━━━━━━━━━━━━━━━━\u001b[0m\u001b[37m\u001b[0m \u001b[1m0s\u001b[0m 1ms/step - loss: 6.7508 - mae: 1.3446 - val_loss: 7.1923 - val_mae: 1.3503\n",
      "Epoch 46/100\n",
      "\u001b[1m250/250\u001b[0m \u001b[32m━━━━━━━━━━━━━━━━━━━━\u001b[0m\u001b[37m\u001b[0m \u001b[1m0s\u001b[0m 1ms/step - loss: 6.9163 - mae: 1.3661 - val_loss: 7.2714 - val_mae: 1.3798\n",
      "Epoch 47/100\n",
      "\u001b[1m250/250\u001b[0m \u001b[32m━━━━━━━━━━━━━━━━━━━━\u001b[0m\u001b[37m\u001b[0m \u001b[1m0s\u001b[0m 1ms/step - loss: 7.0122 - mae: 1.3630 - val_loss: 7.3478 - val_mae: 1.3671\n",
      "Epoch 48/100\n",
      "\u001b[1m250/250\u001b[0m \u001b[32m━━━━━━━━━━━━━━━━━━━━\u001b[0m\u001b[37m\u001b[0m \u001b[1m0s\u001b[0m 1ms/step - loss: 6.7087 - mae: 1.3468 - val_loss: 7.1760 - val_mae: 1.3655\n",
      "Epoch 49/100\n",
      "\u001b[1m250/250\u001b[0m \u001b[32m━━━━━━━━━━━━━━━━━━━━\u001b[0m\u001b[37m\u001b[0m \u001b[1m0s\u001b[0m 1ms/step - loss: 6.9519 - mae: 1.3588 - val_loss: 7.1698 - val_mae: 1.3699\n",
      "Epoch 50/100\n",
      "\u001b[1m250/250\u001b[0m \u001b[32m━━━━━━━━━━━━━━━━━━━━\u001b[0m\u001b[37m\u001b[0m \u001b[1m0s\u001b[0m 1ms/step - loss: 6.6958 - mae: 1.3313 - val_loss: 7.1473 - val_mae: 1.3657\n",
      "Epoch 51/100\n",
      "\u001b[1m250/250\u001b[0m \u001b[32m━━━━━━━━━━━━━━━━━━━━\u001b[0m\u001b[37m\u001b[0m \u001b[1m0s\u001b[0m 2ms/step - loss: 6.8210 - mae: 1.3572 - val_loss: 7.2344 - val_mae: 1.3511\n",
      "Epoch 52/100\n",
      "\u001b[1m250/250\u001b[0m \u001b[32m━━━━━━━━━━━━━━━━━━━━\u001b[0m\u001b[37m\u001b[0m \u001b[1m0s\u001b[0m 1ms/step - loss: 6.8758 - mae: 1.3594 - val_loss: 7.1517 - val_mae: 1.3567\n",
      "Epoch 53/100\n",
      "\u001b[1m250/250\u001b[0m \u001b[32m━━━━━━━━━━━━━━━━━━━━\u001b[0m\u001b[37m\u001b[0m \u001b[1m0s\u001b[0m 1ms/step - loss: 6.7263 - mae: 1.3383 - val_loss: 7.2429 - val_mae: 1.3918\n",
      "Epoch 54/100\n",
      "\u001b[1m250/250\u001b[0m \u001b[32m━━━━━━━━━━━━━━━━━━━━\u001b[0m\u001b[37m\u001b[0m \u001b[1m0s\u001b[0m 2ms/step - loss: 6.7609 - mae: 1.3542 - val_loss: 7.2316 - val_mae: 1.3746\n",
      "Epoch 55/100\n",
      "\u001b[1m250/250\u001b[0m \u001b[32m━━━━━━━━━━━━━━━━━━━━\u001b[0m\u001b[37m\u001b[0m \u001b[1m0s\u001b[0m 1ms/step - loss: 6.6901 - mae: 1.3486 - val_loss: 7.1843 - val_mae: 1.3478\n",
      "Epoch 56/100\n",
      "\u001b[1m250/250\u001b[0m \u001b[32m━━━━━━━━━━━━━━━━━━━━\u001b[0m\u001b[37m\u001b[0m \u001b[1m0s\u001b[0m 1ms/step - loss: 6.6918 - mae: 1.3342 - val_loss: 7.1906 - val_mae: 1.3682\n",
      "Epoch 57/100\n",
      "\u001b[1m250/250\u001b[0m \u001b[32m━━━━━━━━━━━━━━━━━━━━\u001b[0m\u001b[37m\u001b[0m \u001b[1m0s\u001b[0m 1ms/step - loss: 6.6729 - mae: 1.3353 - val_loss: 7.2196 - val_mae: 1.3728\n",
      "Epoch 58/100\n",
      "\u001b[1m250/250\u001b[0m \u001b[32m━━━━━━━━━━━━━━━━━━━━\u001b[0m\u001b[37m\u001b[0m \u001b[1m0s\u001b[0m 1ms/step - loss: 6.6665 - mae: 1.3371 - val_loss: 7.1968 - val_mae: 1.3627\n",
      "Epoch 59/100\n",
      "\u001b[1m250/250\u001b[0m \u001b[32m━━━━━━━━━━━━━━━━━━━━\u001b[0m\u001b[37m\u001b[0m \u001b[1m0s\u001b[0m 1ms/step - loss: 6.5754 - mae: 1.3236 - val_loss: 7.2944 - val_mae: 1.3821\n",
      "Epoch 60/100\n",
      "\u001b[1m250/250\u001b[0m \u001b[32m━━━━━━━━━━━━━━━━━━━━\u001b[0m\u001b[37m\u001b[0m \u001b[1m0s\u001b[0m 1ms/step - loss: 6.4361 - mae: 1.3150 - val_loss: 7.2665 - val_mae: 1.3563\n",
      "Epoch 61/100\n",
      "\u001b[1m250/250\u001b[0m \u001b[32m━━━━━━━━━━━━━━━━━━━━\u001b[0m\u001b[37m\u001b[0m \u001b[1m0s\u001b[0m 1ms/step - loss: 6.6150 - mae: 1.3316 - val_loss: 7.2048 - val_mae: 1.3556\n",
      "Epoch 62/100\n",
      "\u001b[1m250/250\u001b[0m \u001b[32m━━━━━━━━━━━━━━━━━━━━\u001b[0m\u001b[37m\u001b[0m \u001b[1m0s\u001b[0m 1ms/step - loss: 6.6304 - mae: 1.3232 - val_loss: 7.2120 - val_mae: 1.3587\n",
      "Epoch 63/100\n",
      "\u001b[1m250/250\u001b[0m \u001b[32m━━━━━━━━━━━━━━━━━━━━\u001b[0m\u001b[37m\u001b[0m \u001b[1m0s\u001b[0m 2ms/step - loss: 6.5719 - mae: 1.3307 - val_loss: 7.2710 - val_mae: 1.3765\n",
      "Epoch 64/100\n",
      "\u001b[1m250/250\u001b[0m \u001b[32m━━━━━━━━━━━━━━━━━━━━\u001b[0m\u001b[37m\u001b[0m \u001b[1m0s\u001b[0m 1ms/step - loss: 6.7008 - mae: 1.3372 - val_loss: 7.2276 - val_mae: 1.3569\n",
      "Epoch 65/100\n",
      "\u001b[1m250/250\u001b[0m \u001b[32m━━━━━━━━━━━━━━━━━━━━\u001b[0m\u001b[37m\u001b[0m \u001b[1m0s\u001b[0m 1ms/step - loss: 6.5839 - mae: 1.3182 - val_loss: 7.2459 - val_mae: 1.3550\n",
      "Epoch 66/100\n",
      "\u001b[1m250/250\u001b[0m \u001b[32m━━━━━━━━━━━━━━━━━━━━\u001b[0m\u001b[37m\u001b[0m \u001b[1m0s\u001b[0m 1ms/step - loss: 6.5077 - mae: 1.3229 - val_loss: 7.2140 - val_mae: 1.3567\n",
      "Epoch 67/100\n",
      "\u001b[1m250/250\u001b[0m \u001b[32m━━━━━━━━━━━━━━━━━━━━\u001b[0m\u001b[37m\u001b[0m \u001b[1m0s\u001b[0m 1ms/step - loss: 6.6326 - mae: 1.3254 - val_loss: 7.2071 - val_mae: 1.3539\n",
      "Epoch 68/100\n",
      "\u001b[1m250/250\u001b[0m \u001b[32m━━━━━━━━━━━━━━━━━━━━\u001b[0m\u001b[37m\u001b[0m \u001b[1m0s\u001b[0m 1ms/step - loss: 6.5309 - mae: 1.3274 - val_loss: 7.2492 - val_mae: 1.3642\n",
      "Epoch 69/100\n",
      "\u001b[1m250/250\u001b[0m \u001b[32m━━━━━━━━━━━━━━━━━━━━\u001b[0m\u001b[37m\u001b[0m \u001b[1m0s\u001b[0m 1ms/step - loss: 6.8020 - mae: 1.3405 - val_loss: 7.3029 - val_mae: 1.3697\n",
      "Epoch 70/100\n",
      "\u001b[1m250/250\u001b[0m \u001b[32m━━━━━━━━━━━━━━━━━━━━\u001b[0m\u001b[37m\u001b[0m \u001b[1m0s\u001b[0m 1ms/step - loss: 6.5165 - mae: 1.3290 - val_loss: 7.2979 - val_mae: 1.3628\n",
      "Epoch 71/100\n",
      "\u001b[1m250/250\u001b[0m \u001b[32m━━━━━━━━━━━━━━━━━━━━\u001b[0m\u001b[37m\u001b[0m \u001b[1m0s\u001b[0m 1ms/step - loss: 6.3313 - mae: 1.2991 - val_loss: 7.4311 - val_mae: 1.3766\n",
      "Epoch 72/100\n",
      "\u001b[1m250/250\u001b[0m \u001b[32m━━━━━━━━━━━━━━━━━━━━\u001b[0m\u001b[37m\u001b[0m \u001b[1m0s\u001b[0m 1ms/step - loss: 6.5021 - mae: 1.3174 - val_loss: 7.3898 - val_mae: 1.3846\n",
      "Epoch 73/100\n",
      "\u001b[1m250/250\u001b[0m \u001b[32m━━━━━━━━━━━━━━━━━━━━\u001b[0m\u001b[37m\u001b[0m \u001b[1m0s\u001b[0m 1ms/step - loss: 6.4846 - mae: 1.3161 - val_loss: 7.3387 - val_mae: 1.3668\n",
      "Epoch 74/100\n",
      "\u001b[1m250/250\u001b[0m \u001b[32m━━━━━━━━━━━━━━━━━━━━\u001b[0m\u001b[37m\u001b[0m \u001b[1m0s\u001b[0m 1ms/step - loss: 6.6155 - mae: 1.3143 - val_loss: 7.3136 - val_mae: 1.3613\n",
      "Epoch 75/100\n",
      "\u001b[1m250/250\u001b[0m \u001b[32m━━━━━━━━━━━━━━━━━━━━\u001b[0m\u001b[37m\u001b[0m \u001b[1m0s\u001b[0m 1ms/step - loss: 6.3749 - mae: 1.3095 - val_loss: 7.4378 - val_mae: 1.3730\n",
      "Epoch 76/100\n",
      "\u001b[1m250/250\u001b[0m \u001b[32m━━━━━━━━━━━━━━━━━━━━\u001b[0m\u001b[37m\u001b[0m \u001b[1m0s\u001b[0m 1ms/step - loss: 6.4346 - mae: 1.3060 - val_loss: 7.3592 - val_mae: 1.3906\n",
      "Epoch 77/100\n",
      "\u001b[1m250/250\u001b[0m \u001b[32m━━━━━━━━━━━━━━━━━━━━\u001b[0m\u001b[37m\u001b[0m \u001b[1m0s\u001b[0m 1ms/step - loss: 6.4668 - mae: 1.3174 - val_loss: 7.4569 - val_mae: 1.3596\n",
      "Epoch 78/100\n",
      "\u001b[1m250/250\u001b[0m \u001b[32m━━━━━━━━━━━━━━━━━━━━\u001b[0m\u001b[37m\u001b[0m \u001b[1m0s\u001b[0m 2ms/step - loss: 6.2715 - mae: 1.2887 - val_loss: 7.3289 - val_mae: 1.3724\n",
      "Epoch 79/100\n",
      "\u001b[1m250/250\u001b[0m \u001b[32m━━━━━━━━━━━━━━━━━━━━\u001b[0m\u001b[37m\u001b[0m \u001b[1m0s\u001b[0m 2ms/step - loss: 6.3992 - mae: 1.3008 - val_loss: 7.3195 - val_mae: 1.3551\n",
      "Epoch 80/100\n",
      "\u001b[1m250/250\u001b[0m \u001b[32m━━━━━━━━━━━━━━━━━━━━\u001b[0m\u001b[37m\u001b[0m \u001b[1m0s\u001b[0m 1ms/step - loss: 6.3332 - mae: 1.3031 - val_loss: 7.4252 - val_mae: 1.3513\n",
      "Epoch 81/100\n",
      "\u001b[1m250/250\u001b[0m \u001b[32m━━━━━━━━━━━━━━━━━━━━\u001b[0m\u001b[37m\u001b[0m \u001b[1m0s\u001b[0m 1ms/step - loss: 6.5189 - mae: 1.3142 - val_loss: 7.4089 - val_mae: 1.3597\n",
      "Epoch 82/100\n",
      "\u001b[1m250/250\u001b[0m \u001b[32m━━━━━━━━━━━━━━━━━━━━\u001b[0m\u001b[37m\u001b[0m \u001b[1m0s\u001b[0m 1ms/step - loss: 6.4065 - mae: 1.3107 - val_loss: 7.4305 - val_mae: 1.3647\n",
      "Epoch 83/100\n",
      "\u001b[1m250/250\u001b[0m \u001b[32m━━━━━━━━━━━━━━━━━━━━\u001b[0m\u001b[37m\u001b[0m \u001b[1m0s\u001b[0m 1ms/step - loss: 6.5450 - mae: 1.3098 - val_loss: 7.3483 - val_mae: 1.3628\n",
      "Epoch 84/100\n",
      "\u001b[1m250/250\u001b[0m \u001b[32m━━━━━━━━━━━━━━━━━━━━\u001b[0m\u001b[37m\u001b[0m \u001b[1m0s\u001b[0m 1ms/step - loss: 6.4672 - mae: 1.2966 - val_loss: 7.4038 - val_mae: 1.3507\n",
      "Epoch 85/100\n",
      "\u001b[1m250/250\u001b[0m \u001b[32m━━━━━━━━━━━━━━━━━━━━\u001b[0m\u001b[37m\u001b[0m \u001b[1m0s\u001b[0m 1ms/step - loss: 6.5704 - mae: 1.3205 - val_loss: 7.3590 - val_mae: 1.3641\n",
      "Epoch 86/100\n",
      "\u001b[1m250/250\u001b[0m \u001b[32m━━━━━━━━━━━━━━━━━━━━\u001b[0m\u001b[37m\u001b[0m \u001b[1m0s\u001b[0m 1ms/step - loss: 6.3016 - mae: 1.2915 - val_loss: 7.3524 - val_mae: 1.3419\n",
      "Epoch 87/100\n",
      "\u001b[1m250/250\u001b[0m \u001b[32m━━━━━━━━━━━━━━━━━━━━\u001b[0m\u001b[37m\u001b[0m \u001b[1m0s\u001b[0m 2ms/step - loss: 6.3267 - mae: 1.2883 - val_loss: 7.4201 - val_mae: 1.3729\n",
      "Epoch 88/100\n",
      "\u001b[1m250/250\u001b[0m \u001b[32m━━━━━━━━━━━━━━━━━━━━\u001b[0m\u001b[37m\u001b[0m \u001b[1m0s\u001b[0m 1ms/step - loss: 6.4694 - mae: 1.2950 - val_loss: 7.4321 - val_mae: 1.3681\n",
      "Epoch 89/100\n",
      "\u001b[1m250/250\u001b[0m \u001b[32m━━━━━━━━━━━━━━━━━━━━\u001b[0m\u001b[37m\u001b[0m \u001b[1m0s\u001b[0m 1ms/step - loss: 6.4052 - mae: 1.3007 - val_loss: 7.3619 - val_mae: 1.3451\n",
      "Epoch 90/100\n",
      "\u001b[1m250/250\u001b[0m \u001b[32m━━━━━━━━━━━━━━━━━━━━\u001b[0m\u001b[37m\u001b[0m \u001b[1m0s\u001b[0m 1ms/step - loss: 6.4475 - mae: 1.3022 - val_loss: 7.3902 - val_mae: 1.3625\n",
      "Epoch 91/100\n",
      "\u001b[1m250/250\u001b[0m \u001b[32m━━━━━━━━━━━━━━━━━━━━\u001b[0m\u001b[37m\u001b[0m \u001b[1m0s\u001b[0m 1ms/step - loss: 6.3432 - mae: 1.2896 - val_loss: 7.5354 - val_mae: 1.3520\n",
      "Epoch 92/100\n",
      "\u001b[1m250/250\u001b[0m \u001b[32m━━━━━━━━━━━━━━━━━━━━\u001b[0m\u001b[37m\u001b[0m \u001b[1m0s\u001b[0m 1ms/step - loss: 6.2457 - mae: 1.2845 - val_loss: 7.4562 - val_mae: 1.3712\n",
      "Epoch 93/100\n",
      "\u001b[1m250/250\u001b[0m \u001b[32m━━━━━━━━━━━━━━━━━━━━\u001b[0m\u001b[37m\u001b[0m \u001b[1m0s\u001b[0m 1ms/step - loss: 6.3047 - mae: 1.2782 - val_loss: 7.4606 - val_mae: 1.3722\n",
      "Epoch 94/100\n",
      "\u001b[1m250/250\u001b[0m \u001b[32m━━━━━━━━━━━━━━━━━━━━\u001b[0m\u001b[37m\u001b[0m \u001b[1m0s\u001b[0m 1ms/step - loss: 6.3923 - mae: 1.2930 - val_loss: 7.3967 - val_mae: 1.3742\n",
      "Epoch 95/100\n",
      "\u001b[1m250/250\u001b[0m \u001b[32m━━━━━━━━━━━━━━━━━━━━\u001b[0m\u001b[37m\u001b[0m \u001b[1m0s\u001b[0m 1ms/step - loss: 6.0632 - mae: 1.2615 - val_loss: 7.4851 - val_mae: 1.3656\n",
      "Epoch 96/100\n",
      "\u001b[1m250/250\u001b[0m \u001b[32m━━━━━━━━━━━━━━━━━━━━\u001b[0m\u001b[37m\u001b[0m \u001b[1m0s\u001b[0m 1ms/step - loss: 6.3580 - mae: 1.2880 - val_loss: 7.4343 - val_mae: 1.3800\n",
      "Epoch 97/100\n",
      "\u001b[1m250/250\u001b[0m \u001b[32m━━━━━━━━━━━━━━━━━━━━\u001b[0m\u001b[37m\u001b[0m \u001b[1m0s\u001b[0m 1ms/step - loss: 6.3081 - mae: 1.2824 - val_loss: 7.3369 - val_mae: 1.3632\n",
      "Epoch 98/100\n",
      "\u001b[1m250/250\u001b[0m \u001b[32m━━━━━━━━━━━━━━━━━━━━\u001b[0m\u001b[37m\u001b[0m \u001b[1m0s\u001b[0m 2ms/step - loss: 6.3317 - mae: 1.2894 - val_loss: 7.4669 - val_mae: 1.3766\n",
      "Epoch 99/100\n",
      "\u001b[1m250/250\u001b[0m \u001b[32m━━━━━━━━━━━━━━━━━━━━\u001b[0m\u001b[37m\u001b[0m \u001b[1m0s\u001b[0m 1ms/step - loss: 6.4632 - mae: 1.2935 - val_loss: 7.5126 - val_mae: 1.3804\n",
      "Epoch 100/100\n",
      "\u001b[1m250/250\u001b[0m \u001b[32m━━━━━━━━━━━━━━━━━━━━\u001b[0m\u001b[37m\u001b[0m \u001b[1m0s\u001b[0m 1ms/step - loss: 6.2245 - mae: 1.2751 - val_loss: 7.4120 - val_mae: 1.3596\n"
     ]
    },
    {
     "data": {
      "image/png": "[encoded data removed]",
      "text/plain": [
       "<Figure size 1000x600 with 1 Axes>"
      ]
     },
     "metadata": {},
     "output_type": "display_data"
    },
    {
     "name": "stdout",
     "output_type": "stream",
     "text": [
      "\u001b[1m63/63\u001b[0m \u001b[32m━━━━━━━━━━━━━━━━━━━━\u001b[0m\u001b[37m\u001b[0m \u001b[1m0s\u001b[0m 797us/step - loss: 7.4004 - mae: 1.3397\n",
      "Validation Loss: 7.411983489990234, Validation MAE: 1.3596224784851074\n",
      "\u001b[1m63/63\u001b[0m \u001b[32m━━━━━━━━━━━━━━━━━━━━\u001b[0m\u001b[37m\u001b[0m \u001b[1m0s\u001b[0m 1ms/step  \n",
      "Predicted: [48.61846    0.         0.         0.         5.3512545  8.49813\n",
      "  0.         0.         0.        13.463083   9.031      0.\n",
      "  0.         0.         0.        14.394455 ], Actual: [49.90685205  0.          0.          0.          2.9094171  15.71992325\n",
      "  0.          0.          0.          0.         13.97035494  0.\n",
      "  0.          1.77730845  0.         15.7161442 ]\n",
      "Predicted: [87.935295    0.          2.0574784   0.10341044  1.0270783   0.28742298\n",
      "  1.1797224   1.382278    0.          0.          0.          0.71339446\n",
      "  0.          0.76636463  0.          1.3488626 ], Actual: [88.07006922  0.          1.41988113  0.18074497  0.          0.\n",
      "  1.0559066   1.1638207   1.29653202  1.68747382  0.          1.44624553\n",
      "  0.95477224  1.05000387  0.11705962  1.55749027]\n",
      "Predicted: [90.20056     0.          1.2974349   0.80232036  2.2667708   0.\n",
      "  0.          1.0825815   0.          0.          0.          1.0090925\n",
      "  0.4566818   0.55814546  0.          0.        ], Actual: [90.66712152  1.5336004   0.          0.          1.83280406  0.20325054\n",
      "  0.17419016  1.11225478  0.          0.          0.5384937   2.08349624\n",
      "  1.85478861  0.          0.          0.        ]\n",
      "Predicted: [78.04139    0.         5.8443046  1.7808657  2.1070063  0.5394684\n",
      "  0.         0.         0.         0.         2.9409077  4.9065967\n",
      "  0.         0.         0.         0.       ], Actual: [77.31129906  1.16731165  4.11322202  0.          3.32753908  0.\n",
      "  0.          0.          1.33673263  6.11952428  0.77564655  3.74106289\n",
      "  0.          2.10766184  0.          0.        ]\n",
      "Predicted: [95.006905    0.          0.          0.7545549   0.          0.4960732\n",
      "  0.          0.72199297  0.          0.          0.          2.2917073\n",
      "  0.          0.          0.          0.        ], Actual: [95.22534185  0.          0.          0.          0.          1.33209556\n",
      "  0.14434404  0.71649122  0.          0.          0.          2.58172733\n",
      "  0.          0.          0.          0.        ]\n"
     ]
    }
   ],
   "source": [
    "# Train the neural network\n",
    "model, history = analysis.train_neural_network(X_noisy, Y, epochs=100, batch_size=32)"
   ]
  },
  {
   "cell_type": "markdown",
   "id": "cf6bd9d4-ffbe-418b-88c6-927950155846",
   "metadata": {},
   "source": [
    "### Step 4 - Hyperparamter Tuning:"
   ]
  },
  {
   "cell_type": "code",
   "execution_count": 3,
   "id": "f5732548-bcab-4dd6-9dce-6c06be4bef7d",
   "metadata": {
    "scrolled": true
   },
   "outputs": [
    {
     "name": "stdout",
     "output_type": "stream",
     "text": [
      "Reloading Tuner from tuning_dir\\metabolite_tuning_0_1_1_0\\tuner0.json\n",
      "Search space summary\n",
      "Default search space size: 10\n",
      "num_layers (Int)\n",
      "{'default': None, 'conditions': [], 'min_value': 1, 'max_value': 6, 'step': 1, 'sampling': 'linear'}\n",
      "units_0 (Int)\n",
      "{'default': 64, 'conditions': [], 'min_value': 32, 'max_value': 512, 'step': 32, 'sampling': 'linear'}\n",
      "l2_lambda (Float)\n",
      "{'default': 1e-05, 'conditions': [], 'min_value': 1e-05, 'max_value': 0.01, 'step': None, 'sampling': 'log'}\n",
      "dropout_rate (Float)\n",
      "{'default': 0.1, 'conditions': [], 'min_value': 0.1, 'max_value': 0.5, 'step': 0.05, 'sampling': 'linear'}\n",
      "learning_rate (Float)\n",
      "{'default': 0.001, 'conditions': [], 'min_value': 0.0001, 'max_value': 0.01, 'step': None, 'sampling': 'log'}\n",
      "units_1 (Int)\n",
      "{'default': 64, 'conditions': [], 'min_value': 32, 'max_value': 512, 'step': 32, 'sampling': 'linear'}\n",
      "units_2 (Int)\n",
      "{'default': 64, 'conditions': [], 'min_value': 32, 'max_value': 512, 'step': 32, 'sampling': 'linear'}\n",
      "units_3 (Int)\n",
      "{'default': 64, 'conditions': [], 'min_value': 32, 'max_value': 512, 'step': 32, 'sampling': 'linear'}\n",
      "units_4 (Int)\n",
      "{'default': 64, 'conditions': [], 'min_value': 32, 'max_value': 512, 'step': 32, 'sampling': 'linear'}\n",
      "units_5 (Int)\n",
      "{'default': 64, 'conditions': [], 'min_value': 32, 'max_value': 512, 'step': 32, 'sampling': 'linear'}\n",
      "Results summary\n",
      "Results in tuning_dir\\metabolite_tuning_0_1_1_0\n",
      "Showing 10 best trials\n",
      "Objective(name=\"val_loss\", direction=\"min\")\n",
      "\n",
      "Trial 4 summary\n",
      "Hyperparameters:\n",
      "num_layers: 4\n",
      "units_0: 416\n",
      "l2_lambda: 9.829816001452046e-05\n",
      "dropout_rate: 0.15000000000000002\n",
      "learning_rate: 0.0011628120158793586\n",
      "units_1: 512\n",
      "units_2: 448\n",
      "units_3: 448\n",
      "units_4: 96\n",
      "units_5: 512\n",
      "Score: 6.09958553314209\n",
      "\n",
      "Trial 1 summary\n",
      "Hyperparameters:\n",
      "num_layers: 5\n",
      "units_0: 256\n",
      "l2_lambda: 9.297897701132528e-05\n",
      "dropout_rate: 0.30000000000000004\n",
      "learning_rate: 0.0005977652662984508\n",
      "units_1: 352\n",
      "units_2: 160\n",
      "units_3: 512\n",
      "units_4: 448\n",
      "Score: 6.10860013961792\n",
      "\n",
      "Trial 0 summary\n",
      "Hyperparameters:\n",
      "num_layers: 5\n",
      "units_0: 64\n",
      "l2_lambda: 1.0284614264438624e-05\n",
      "dropout_rate: 0.15000000000000002\n",
      "learning_rate: 0.0021361462935409353\n",
      "units_1: 64\n",
      "units_2: 64\n",
      "units_3: 64\n",
      "units_4: 64\n",
      "Score: 7.136510372161865\n",
      "\n",
      "Trial 2 summary\n",
      "Hyperparameters:\n",
      "num_layers: 2\n",
      "units_0: 32\n",
      "l2_lambda: 0.009888504042164407\n",
      "dropout_rate: 0.45000000000000007\n",
      "learning_rate: 0.0005700367307339485\n",
      "units_1: 448\n",
      "units_2: 160\n",
      "units_3: 384\n",
      "units_4: 96\n",
      "Score: 8.625921249389648\n",
      "\n",
      "Trial 3 summary\n",
      "Hyperparameters:\n",
      "num_layers: 6\n",
      "units_0: 256\n",
      "l2_lambda: 0.0028724478109346378\n",
      "dropout_rate: 0.35\n",
      "learning_rate: 0.00946032233003827\n",
      "units_1: 256\n",
      "units_2: 224\n",
      "units_3: 480\n",
      "units_4: 288\n",
      "units_5: 64\n",
      "Score: 13.130990982055664\n",
      "WARNING:tensorflow:From C:\\Users\\raath\\metabolabpytools\\venv\\Lib\\site-packages\\keras\\src\\backend\\common\\global_state.py:82: The name tf.reset_default_graph is deprecated. Please use tf.compat.v1.reset_default_graph instead.\n",
      "\n",
      "Epoch 1/100\n"
     ]
    },
    {
     "name": "stderr",
     "output_type": "stream",
     "text": [
      "C:\\Users\\raath\\metabolabpytools\\venv\\Lib\\site-packages\\keras\\src\\saving\\saving_lib.py:576: UserWarning: Skipping variable loading for optimizer 'adam', because it has 2 variables whereas the saved optimizer has 22 variables. \n",
      "  saveable.load_own_variables(weights_store.get(inner_path))\n"
     ]
    },
    {
     "name": "stdout",
     "output_type": "stream",
     "text": [
      "\u001b[1m250/250\u001b[0m \u001b[32m━━━━━━━━━━━━━━━━━━━━\u001b[0m\u001b[37m\u001b[0m \u001b[1m5s\u001b[0m 9ms/step - loss: 6.1856 - mae: 1.4823 - val_loss: 5.2125 - val_mae: 1.3020\n",
      "Epoch 2/100\n",
      "\u001b[1m250/250\u001b[0m \u001b[32m━━━━━━━━━━━━━━━━━━━━\u001b[0m\u001b[37m\u001b[0m \u001b[1m2s\u001b[0m 8ms/step - loss: 6.1236 - mae: 1.4706 - val_loss: 5.5157 - val_mae: 1.3651\n",
      "Epoch 3/100\n",
      "\u001b[1m250/250\u001b[0m \u001b[32m━━━━━━━━━━━━━━━━━━━━\u001b[0m\u001b[37m\u001b[0m \u001b[1m2s\u001b[0m 8ms/step - loss: 6.0322 - mae: 1.4629 - val_loss: 5.2175 - val_mae: 1.2695\n",
      "Epoch 4/100\n",
      "\u001b[1m250/250\u001b[0m \u001b[32m━━━━━━━━━━━━━━━━━━━━\u001b[0m\u001b[37m\u001b[0m \u001b[1m2s\u001b[0m 8ms/step - loss: 5.7547 - mae: 1.4179 - val_loss: 5.3001 - val_mae: 1.3087\n",
      "Epoch 5/100\n",
      "\u001b[1m250/250\u001b[0m \u001b[32m━━━━━━━━━━━━━━━━━━━━\u001b[0m\u001b[37m\u001b[0m \u001b[1m2s\u001b[0m 8ms/step - loss: 5.7958 - mae: 1.4318 - val_loss: 5.3969 - val_mae: 1.3095\n",
      "Epoch 6/100\n",
      "\u001b[1m250/250\u001b[0m \u001b[32m━━━━━━━━━━━━━━━━━━━━\u001b[0m\u001b[37m\u001b[0m \u001b[1m2s\u001b[0m 7ms/step - loss: 5.7555 - mae: 1.4151 - val_loss: 5.4824 - val_mae: 1.3138\n",
      "Epoch 7/100\n",
      "\u001b[1m250/250\u001b[0m \u001b[32m━━━━━━━━━━━━━━━━━━━━\u001b[0m\u001b[37m\u001b[0m \u001b[1m2s\u001b[0m 8ms/step - loss: 5.6337 - mae: 1.4013 - val_loss: 5.3742 - val_mae: 1.2884\n",
      "Epoch 8/100\n",
      "\u001b[1m250/250\u001b[0m \u001b[32m━━━━━━━━━━━━━━━━━━━━\u001b[0m\u001b[37m\u001b[0m \u001b[1m2s\u001b[0m 8ms/step - loss: 5.7297 - mae: 1.4106 - val_loss: 5.4846 - val_mae: 1.2859\n",
      "Epoch 9/100\n",
      "\u001b[1m250/250\u001b[0m \u001b[32m━━━━━━━━━━━━━━━━━━━━\u001b[0m\u001b[37m\u001b[0m \u001b[1m2s\u001b[0m 8ms/step - loss: 5.5058 - mae: 1.3905 - val_loss: 5.4632 - val_mae: 1.2916\n",
      "Epoch 10/100\n",
      "\u001b[1m250/250\u001b[0m \u001b[32m━━━━━━━━━━━━━━━━━━━━\u001b[0m\u001b[37m\u001b[0m \u001b[1m2s\u001b[0m 8ms/step - loss: 5.5668 - mae: 1.3916 - val_loss: 5.5509 - val_mae: 1.2952\n",
      "Epoch 11/100\n",
      "\u001b[1m250/250\u001b[0m \u001b[32m━━━━━━━━━━━━━━━━━━━━\u001b[0m\u001b[37m\u001b[0m \u001b[1m2s\u001b[0m 8ms/step - loss: 5.4374 - mae: 1.3633 - val_loss: 5.5837 - val_mae: 1.2963\n"
     ]
    },
    {
     "data": {
      "image/png": "[encoded data removed]",
      "text/plain": [
       "<Figure size 1000x600 with 1 Axes>"
      ]
     },
     "metadata": {},
     "output_type": "display_data"
    },
    {
     "name": "stdout",
     "output_type": "stream",
     "text": [
      "\u001b[1m63/63\u001b[0m \u001b[32m━━━━━━━━━━━━━━━━━━━━\u001b[0m\u001b[37m\u001b[0m \u001b[1m0s\u001b[0m 2ms/step - loss: 5.1903 - mae: 1.2885\n",
      "Validation Loss: 5.212480545043945, Validation MAE: 1.3019987344741821\n",
      "Model saved as model_hsqc_0_1_1_0.keras in saved_models\n",
      "Model summary saved as model_summaries\\model_summary_model_hsqc_0_1_1_0.keras.csv\n",
      "Sample 1 - Predicted Mean: [4.6261425e+01 8.6933754e-02 1.3163246e-01 8.0110379e-02 3.2529624e+00\n",
      " 1.3827475e+01 7.6472357e-02 1.3595770e-01 4.6090860e-02 4.5293121e+00\n",
      " 1.2662819e+01 3.3882178e-02 3.5546479e-01 1.3705612e+00 1.0632778e-01\n",
      " 1.7042585e+01], Standard Deviation: [1.9620156  0.27501857 0.3426255  0.35567057 1.6285079  2.5843604\n",
      " 0.36533833 0.51042736 0.21265694 1.0895573  2.4884534  0.24765576\n",
      " 0.6742204  1.0990283  0.40869892 2.0026422 ]\n",
      "Sample 2 - Predicted Mean: [8.8955818e+01 5.1608402e-01 1.1182530e+00 1.1179281e+00 4.1477174e-01\n",
      " 3.2632595e-01 1.4332993e+00 1.1533695e+00 7.3637521e-01 6.5795690e-01\n",
      " 5.1393980e-01 1.4080881e+00 2.8111184e-01 1.5512693e-02 2.1916337e-01\n",
      " 1.1320057e+00], Standard Deviation: [1.4050353  0.28234863 0.403338   0.28674993 0.36950094 0.30942467\n",
      " 0.33387968 0.44009626 0.32964224 0.19906788 0.33854562 0.45537162\n",
      " 0.25267234 0.06039566 0.2701808  0.47901082]\n",
      "Sample 3 - Predicted Mean: [9.1479004e+01 8.1254423e-01 9.4668710e-01 1.1149521e+00 5.6512493e-01\n",
      " 1.6244118e-01 7.6037169e-01 7.4320650e-01 7.8661323e-01 5.9043276e-01\n",
      " 1.2373294e-01 1.2014198e+00 3.8399270e-01 4.6262227e-02 1.0445565e-01\n",
      " 1.7874593e-01], Standard Deviation: [1.4190186  0.28205317 0.4049504  0.34342843 0.38761204 0.22285585\n",
      " 0.31882986 0.42556256 0.3176732  0.21127175 0.1938316  0.49547553\n",
      " 0.27951217 0.11426885 0.21155371 0.23833196]\n",
      "Sample 4 - Predicted Mean: [7.6722527e+01 2.1985979e+00 4.6936507e+00 1.9114624e+00 1.8919264e+00\n",
      " 9.3468779e-01 8.7214732e-01 4.0407342e-01 1.7087741e+00 1.5000904e+00\n",
      " 2.3520710e+00 4.4692745e+00 7.4127102e-03 8.5509876e-03 2.6051110e-01\n",
      " 6.4225838e-02], Standard Deviation: [1.9923005  0.3889092  0.63642573 0.49397978 0.69636655 0.46370962\n",
      " 0.5805464  0.43341798 0.38746464 0.32007948 0.58137375 0.8677014\n",
      " 0.03791143 0.07731617 0.33153805 0.18711342]\n",
      "Sample 5 - Predicted Mean: [9.5176437e+01 2.7096274e-01 1.7423886e-01 1.0898918e+00 1.3421760e-01\n",
      " 1.4110440e-01 6.5398133e-01 1.5461148e-01 1.4581604e-01 7.4218720e-01\n",
      " 1.1923254e-02 1.0493139e+00 5.6526531e-02 3.4835243e-03 5.5108443e-02\n",
      " 1.4020401e-01], Standard Deviation: [1.6407635  0.28216788 0.246369   0.41252142 0.26680538 0.22221427\n",
      " 0.40411702 0.24637651 0.25288802 0.28330588 0.05450314 0.7372245\n",
      " 0.12190576 0.03466063 0.20282376 0.26208806]\n",
      "\u001b[1m63/63\u001b[0m \u001b[32m━━━━━━━━━━━━━━━━━━━━\u001b[0m\u001b[37m\u001b[0m \u001b[1m0s\u001b[0m 4ms/step\n",
      "Predicted: [46.27238    0.         0.         0.         3.398058  14.317222\n",
      "  0.         0.         0.         4.661157  13.206479   0.\n",
      "  0.         1.1241496  0.        17.020555 ], Actual: [49.90685205  0.          0.          0.          2.9094171  15.71992325\n",
      "  0.          0.          0.          0.         13.97035494  0.\n",
      "  0.          1.77730845  0.         15.7161442 ]\n",
      "Predicted: [89.30092     0.528691    1.2013725   1.1479652   0.46237624  0.18145663\n",
      "  1.4424638   1.1007144   0.7341034   0.59786344  0.48520598  1.3802986\n",
      "  0.23943563  0.          0.10152076  1.095612  ], Actual: [88.07006922  0.          1.41988113  0.18074497  0.          0.\n",
      "  1.0559066   1.1638207   1.29653202  1.68747382  0.          1.44624553\n",
      "  0.95477224  1.05000387  0.11705962  1.55749027]\n",
      "Predicted: [9.1641594e+01 7.9153615e-01 1.0440519e+00 1.1299609e+00 6.9454730e-01\n",
      " 0.0000000e+00 8.2418990e-01 7.4099153e-01 8.2936752e-01 5.4724443e-01\n",
      " 0.0000000e+00 1.2876687e+00 4.1824844e-01 0.0000000e+00 0.0000000e+00\n",
      " 5.0599977e-02], Actual: [90.66712152  1.5336004   0.          0.          1.83280406  0.20325054\n",
      "  0.17419016  1.11225478  0.          0.          0.5384937   2.08349624\n",
      "  1.85478861  0.          0.          0.        ]\n",
      "Predicted: [7.7466316e+01 2.2225370e+00 4.8118896e+00 1.8550415e+00 1.7203245e+00\n",
      " 8.4017396e-01 9.0372145e-01 2.0871526e-01 1.6881002e+00 1.4687755e+00\n",
      " 2.3457539e+00 4.4571986e+00 0.0000000e+00 0.0000000e+00 1.1451117e-02\n",
      " 0.0000000e+00], Actual: [77.31129906  1.16731165  4.11322202  0.          3.32753908  0.\n",
      "  0.          0.          1.33673263  6.11952428  0.77564655  3.74106289\n",
      "  0.          2.10766184  0.          0.        ]\n",
      "Predicted: [9.6152626e+01 2.0673192e-01 7.9955608e-02 1.1196082e+00 0.0000000e+00\n",
      " 0.0000000e+00 7.3381513e-01 0.0000000e+00 0.0000000e+00 7.3913062e-01\n",
      " 0.0000000e+00 9.6812642e-01 0.0000000e+00 0.0000000e+00 0.0000000e+00\n",
      " 0.0000000e+00], Actual: [95.22534185  0.          0.          0.          0.          1.33209556\n",
      "  0.14434404  0.71649122  0.          0.          0.          2.58172733\n",
      "  0.          0.          0.          0.        ]\n"
     ]
    }
   ],
   "source": [
    "hsqc_vector = [0, 1, 1, 0]  # Replace with your actual HSQC vector\n",
    "\n",
    "# Tune the model, save it, and generate a summary\n",
    "best_model, X_val, Y_val, mean_pred, std_dev_pred = analysis.tune_model(X_noisy, Y, hsqc_vector)\n",
    "\n",
    "# Make predictions\n",
    "predictions = best_model.predict(X_val)\n",
    "\n",
    "# Example: Comparing normalized predictions with actual Y values\n",
    "for i in range(5):\n",
    "    print(f\"Predicted: {predictions[i]}, Actual: {Y_val[i]}\")"
   ]
  },
  {
   "cell_type": "markdown",
   "id": "a879777e-77ba-4399-8fd4-46b6c1d2145e",
   "metadata": {},
   "source": [
    "### Step 5 - Fitting to real data:\n",
    "\n",
    "example used [0 ,1, 1] . Simply change the HSQC vector and metabolite name and the results directory will be updated."
   ]
  },
  {
   "cell_type": "code",
   "execution_count": 1,
   "id": "fbe247cf-b360-449e-a8a7-6023d14c24fb",
   "metadata": {},
   "outputs": [
    {
     "name": "stdout",
     "output_type": "stream",
     "text": [
      "HSQC and GC-MS data loaded successfully.\n",
      "HSQC Multiplets for L-LacticAcid:\n",
      "Experiment 1: [[2], [2, 1], [2, 3], [2, 1, 3], [3], [3, 2]]\n",
      "Experiment 2: [[2], [2, 1], [2, 3], [2, 1, 3], [3], [3, 2]]\n",
      "Experiment 3: [[2], [2, 1], [2, 3], [2, 1, 3], [3], [3, 2]]\n",
      "\n",
      "HSQC Multiplet Percentages for L-LacticAcid:\n",
      "Experiment 1: [5.046, 0.711, 93.668, 0.575, 14.348, 85.652]\n",
      "Experiment 2: [5.264, 0.59, 93.359, 0.787, 15.459, 84.541]\n",
      "Experiment 3: [4.072, 0.0, 95.928, 0.0, 14.233, 85.767]\n",
      "\n",
      "GC-MS Percentages for L-LacticAcid:\n",
      "Experiment 1: [73.17, 4.01, 22.52, 0.3]\n",
      "Experiment 2: [73.17, 4.01, 22.52, 0.3]\n",
      "Experiment 3: [73.17, 4.01, 22.52, 0.3]\n",
      "WARNING:tensorflow:From C:\\Users\\raath\\metabolabpytools\\venv\\Lib\\site-packages\\keras\\src\\backend\\tensorflow\\core.py:192: The name tf.placeholder is deprecated. Please use tf.compat.v1.placeholder instead.\n",
      "\n"
     ]
    },
    {
     "name": "stderr",
     "output_type": "stream",
     "text": [
      "C:\\Users\\raath\\metabolabpytools\\venv\\Lib\\site-packages\\keras\\src\\saving\\saving_lib.py:576: UserWarning: Skipping variable loading for optimizer 'adam', because it has 10 variables whereas the saved optimizer has 2 variables. \n",
      "  saveable.load_own_variables(weights_store.get(inner_path))\n"
     ]
    },
    {
     "name": "stdout",
     "output_type": "stream",
     "text": [
      "Mean Predictions: [[7.42635345e+01 1.68623757e+00 1.15305468e-01 2.24742470e+01\n",
      "  1.36313808e+00 2.27159835e-04 6.98414668e-02 2.75341142e-02]\n",
      " [7.46804810e+01 1.38059998e+00 1.06973946e-01 2.22575760e+01\n",
      "  1.50195611e+00 8.98522616e-04 2.49722153e-02 4.65337001e-02]\n",
      " [7.23560486e+01 3.84980488e+00 4.54816259e-02 2.35482101e+01\n",
      "  1.66886002e-01 0.00000000e+00 1.12955673e-02 2.22139359e-02]]\n",
      "Standard Deviation of Predictions: [[2.4084394  1.5638033  0.40906182 1.541452   1.7579443  0.00531449\n",
      "  0.32595164 0.22496772]\n",
      " [2.3826163  1.452036   0.37267354 1.5419104  1.7987074  0.02839983\n",
      "  0.20422752 0.2910626 ]\n",
      " [2.4118109  2.0248964  0.24861647 1.4978073  0.6462201  0.\n",
      "  0.1166477  0.24617846]]\n"
     ]
    },
    {
     "name": "stderr",
     "output_type": "stream",
     "text": [
      "C:\\Users\\raath\\metabolabpytools\\venv\\Lib\\site-packages\\keras\\src\\saving\\saving_lib.py:576: UserWarning: Skipping variable loading for optimizer 'adam', because it has 10 variables whereas the saved optimizer has 2 variables. \n",
      "  saveable.load_own_variables(weights_store.get(inner_path))\n"
     ]
    },
    {
     "name": "stdout",
     "output_type": "stream",
     "text": [
      "Mean Predictions: [[7.5672218e+01 5.6762475e-01 1.4602726e-02 2.1876829e+01 1.7339494e+00\n",
      "  0.0000000e+00 3.4705983e-03 1.3134868e-01]\n",
      " [7.6564964e+01 3.4157035e-01 8.6238384e-03 2.1720467e+01 1.2322688e+00\n",
      "  1.8205969e-03 1.5500712e-04 1.3016203e-01]\n",
      " [7.3947395e+01 1.4937001e+00 1.1017036e-02 2.2910133e+01 1.5680845e+00\n",
      "  1.1760801e-02 0.0000000e+00 5.7946078e-02]]\n",
      "Standard Deviation of Predictions: [[2.519449   1.0669277  0.13643666 1.5223061  1.9786168  0.\n",
      "  0.05928669 0.46364257]\n",
      " [2.3330433  0.7814041  0.09067564 1.4441699  1.7096235  0.05754368\n",
      "  0.00489931 0.48453486]\n",
      " [2.395041   1.445141   0.10044881 1.4622089  1.7884381  0.19293457\n",
      "  0.         0.2891788 ]]\n",
      "Results successfully saved to nn_analysis_results\\results_summary_hsqc_0_1_1.xlsx\n"
     ]
    }
   ],
   "source": [
    "from metabolabpytools import isotopomerAnalysis\n",
    "import os\n",
    "import numpy as np\n",
    "\n",
    "ia_nn = isotopomerAnalysis.IsotopomerAnalysisNN()\n",
    "\n",
    "hsqc_data_file = os.path.join(os.getcwd(), 'hsqcData1.xlsx')\n",
    "gcms_data_file = os.path.join(os.getcwd(), 'gcmsData1.xlsx')\n",
    "ia_nn.load_hsqc_and_gcms_data(hsqc_data_file, gcms_data_file)\n",
    "\n",
    "# Inspect the data for a specific metabolite\n",
    "metabolite_name = \"L-LacticAcid\"  \n",
    "ia_nn.inspect_metabolite_data(metabolite_name)\n",
    "X_real_data = ia_nn.create_feature_vectors(metabolite_name)\n",
    "\n",
    "\n",
    "model_path = 'saved_models/model_hsqc_0_1_1.keras'\n",
    "mean_predictions, std_dev_predictions, predicted_distributions = ia_nn.load_model_and_predict(model_path, X_real_data)\n",
    "\n",
    "\n",
    "# Step 2: Simulate HSQC and GC-MS data from the predicted distributions\n",
    "hsqc_vector = [0, 1, 1]\n",
    "predicted_hsqc_data, predicted_gcms_data = ia_nn.simulate_from_predictions(predicted_distributions, hsqc_vector)\n",
    "\n",
    "\n",
    "\n",
    "combined_vector = ia_nn.combine_hsqc_gcms(predicted_hsqc_data, predicted_gcms_data)\n",
    "\n",
    "mean_predictions_sim, std_dev_predictions_sim, predicted_distributions_sim = ia_nn.load_model_and_predict(model_path, combined_vector)\n",
    "\n",
    "# Save the results to an Excel file\n",
    "ia_nn.save_results_summary(X_real_data, predicted_distributions_sim, std_dev_predictions_sim, \n",
    "                           predicted_hsqc_data, predicted_gcms_data, hsqc_vector)\n"
   ]
  },
  {
   "cell_type": "code",
   "execution_count": null,
   "id": "8ddfa0d5-0cf7-4138-8aea-413f441a9bf5",
   "metadata": {},
   "outputs": [],
   "source": []
  }
 ],
 "metadata": {
  "kernelspec": {
   "display_name": "Python 3 (ipykernel)",
   "language": "python",
   "name": "python3"
  },
  "language_info": {
   "codemirror_mode": {
    "name": "ipython",
    "version": 3
   },
   "file_extension": ".py",
   "mimetype": "text/x-python",
   "name": "python",
   "nbconvert_exporter": "python",
   "pygments_lexer": "ipython3",
   "version": "3.11.4"
  }
 },
 "nbformat": 4,
 "nbformat_minor": 5
}
